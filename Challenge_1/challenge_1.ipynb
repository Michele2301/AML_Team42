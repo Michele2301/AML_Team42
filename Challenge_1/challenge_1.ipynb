{
 "cells": [
  {
   "metadata": {},
   "cell_type": "markdown",
   "source": "Challenge_1: Aerial Cactus-AML",
   "id": "be3c022e1a3c112d"
  },
  {
   "metadata": {
    "ExecuteTime": {
     "end_time": "2024-04-18T10:05:55.367212Z",
     "start_time": "2024-04-18T10:05:53.299803Z"
    }
   },
   "cell_type": "code",
   "source": [
    "# Imports\n",
    "import pandas as pd\n",
    "import torch\n",
    "from torchvision import datasets, transforms\n",
    "from torchvision.io import read_image\n",
    "from torch.utils.data import Dataset\n",
    "import os\n",
    "import matplotlib.pyplot as plt"
   ],
   "id": "8d12dabd2c81384b",
   "outputs": [],
   "execution_count": 1
  },
  {
   "metadata": {
    "ExecuteTime": {
     "end_time": "2024-04-18T10:05:55.373969Z",
     "start_time": "2024-04-18T10:05:55.368671Z"
    }
   },
   "cell_type": "code",
   "source": [
    "# Load data\n",
    "class PlacesDataset(Dataset):\n",
    "    def __init__(self,train='./data/train/train',labels='./data/train.csv',transform=None,target_transform=None):\n",
    "        self.df = pd.read_csv(labels)\n",
    "        self.imgPath=train\n",
    "        self.transform=transform\n",
    "        self.target_transform=target_transform\n",
    "    def __len__(self):\n",
    "        # here you just need to return a single integer number as the length of your dataset, in your \n",
    "        #  case, number of images in your train folder or lines in csv file\n",
    "        return len(self.df)\n",
    "    def __getitem__(self, idx):\n",
    "        # this is the most important part, you need to define a code to read images from folder and\n",
    "        # labels from csv files and return only a pair of (image, class). Note that here, you just \n",
    "        # need to consider 1 sample no more. Let say, you have only 1 image in your whole \n",
    "        # dataset, the method will work on batches parallely when you pass it to DataLoader class.\n",
    "        img_path = os.path.join(self.imgPath, self.df.iloc[idx, 0])\n",
    "        image = read_image(img_path)\n",
    "        label = self.df.iloc[idx, 1]\n",
    "        if self.transform:\n",
    "            image = self.transform(image)\n",
    "        if self.target_transform:\n",
    "            label = self.target_transform(label)\n",
    "        return image, label"
   ],
   "id": "6edf2384edb09bd6",
   "outputs": [],
   "execution_count": 2
  },
  {
   "metadata": {
    "ExecuteTime": {
     "end_time": "2024-04-18T10:05:55.534914Z",
     "start_time": "2024-04-18T10:05:55.375552Z"
    }
   },
   "cell_type": "code",
   "source": [
    "train_dataloader=PlacesDataset()\n",
    "train_features, train_labels = next(iter(train_dataloader))\n",
    "print(f\"Feature batch shape: {train_features.size()}\")\n",
    "print(f\"Labels batch shape: {train_labels}\")\n",
    "img = train_features[0].squeeze()\n",
    "label = train_labels\n",
    "plt.imshow(img, cmap=\"gray\")\n",
    "plt.show()\n",
    "print(f\"Label: {label}\")"
   ],
   "id": "f18f38b07387e083",
   "outputs": [
    {
     "name": "stdout",
     "output_type": "stream",
     "text": [
      "Feature batch shape: torch.Size([3, 32, 32])\n",
      "Labels batch shape: 1\n"
     ]
    },
    {
     "data": {
      "text/plain": [
       "<Figure size 640x480 with 1 Axes>"
      ],
      "image/png": "[encoded data removed]"
     },
     "metadata": {},
     "output_type": "display_data"
    },
    {
     "name": "stdout",
     "output_type": "stream",
     "text": [
      "Label: 1\n"
     ]
    }
   ],
   "execution_count": 3
  }
 ],
 "metadata": {
  "kernelspec": {
   "display_name": "Python 3",
   "language": "python",
   "name": "python3"
  },
  "language_info": {
   "codemirror_mode": {
    "name": "ipython",
    "version": 2
   },
   "file_extension": ".py",
   "mimetype": "text/x-python",
   "name": "python",
   "nbconvert_exporter": "python",
   "pygments_lexer": "ipython2",
   "version": "2.7.6"
  }
 },
 "nbformat": 4,
 "nbformat_minor": 5
}
