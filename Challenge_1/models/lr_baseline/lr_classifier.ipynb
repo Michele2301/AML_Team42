{
 "cells": [
  {
   "cell_type": "code",
   "execution_count": 10,
   "metadata": {},
   "outputs": [],
   "source": [
    "import torch\n",
    "import torch.nn as nn\n",
    "import torch.optim as optim\n",
    "from torch.optim import lr_scheduler\n",
    "from torch.autograd import Variable\n",
    "import numpy as np\n",
    "import torchvision\n",
    "from torchvision import datasets, models, transforms\n",
    "from torch.utils.data import DataLoader\n",
    "import matplotlib.pyplot as plt\n",
    "import CactusDataset\n",
    "from sklearn.metrics import roc_curve, auc\n"
   ]
  },
  {
   "cell_type": "code",
   "execution_count": 2,
   "metadata": {},
   "outputs": [],
   "source": [
    "#use_gpu = torch.cuda.is_available()\n",
    "#if use_gpu:\n",
    "#    print(\"Using CUDA\")"
   ]
  },
  {
   "cell_type": "code",
   "execution_count": 11,
   "metadata": {},
   "outputs": [
    {
     "name": "stdout",
     "output_type": "stream",
     "text": [
      "{'train': 12250, 'val': 3500, 'test': 1750}\n",
      "3072\n",
      "Number of train images: 12250\n",
      "Number of train images of class No Cactus: 3077\n",
      "Number of train images of class Cactus: 9173\n",
      "\n",
      "Number of val images: 3500\n",
      "Number of val images of class No Cactus: 856\n",
      "Number of val images of class Cactus: 2644\n",
      "\n",
      "Number of test images: 1750\n",
      "Number of test images of class No Cactus: 431\n",
      "Number of test images of class Cactus: 1319\n",
      "\n"
     ]
    }
   ],
   "source": [
    "data_dir = '../../../data/train/train'\n",
    "csv_file = '../../../data/train.csv'\n",
    "TRAIN = 'train'\n",
    "VAL = 'val'\n",
    "TEST = 'test'\n",
    "\n",
    "#set the transforms for the images\n",
    "data_transforms = transforms.Compose([\n",
    "    transforms.ToTensor(),\n",
    "])\n",
    "\n",
    "\n",
    "torch.manual_seed(42)\n",
    "image_dataset = CactusDataset.CactusDataset(csv_file, data_dir, data_transforms)\n",
    "# split into train, eval, test\n",
    "train_size = int(0.7 * len(image_dataset))\n",
    "eval_size = int(0.2 * len(image_dataset))\n",
    "test_size = len(image_dataset) - train_size - eval_size\n",
    "train_dataset, eval_dataset, test_dataset = torch.utils.data.random_split(image_dataset, [train_size, eval_size, test_size])\n",
    "\n",
    "image_datasets = {TRAIN: train_dataset, VAL: eval_dataset, TEST: test_dataset}\n",
    "\n",
    "dataset_sizes = {x: len(image_datasets[x]) for x in [TRAIN, VAL, TEST]}\n",
    "\n",
    "batch_sizes = {TRAIN: dataset_sizes[TRAIN], VAL: dataset_sizes[VAL], TEST: 64}\n",
    "\n",
    "dataloaders = {TRAIN: None, VAL: None, TEST: None}\n",
    "dataloaders[TRAIN] = DataLoader(image_datasets[TRAIN], batch_size=batch_sizes[TRAIN],\n",
    "                                             shuffle=True, num_workers=0)\n",
    "dataloaders[VAL] = DataLoader(image_datasets[VAL], batch_size=batch_sizes[VAL],\n",
    "                                             shuffle=False, num_workers=0)\n",
    "dataloaders[TEST] = DataLoader(image_datasets[TEST], batch_size=batch_sizes[TEST], shuffle=False, num_workers=0)\n",
    "\n",
    "\n",
    "print(dataset_sizes)\n",
    "class_names = {0: 'No Cactus', 1: 'Cactus'}\n",
    "\n",
    "inputs, classes = next(iter(dataloaders[TRAIN]))\n",
    "\n",
    "n_features = 32 * 32 * 3\n",
    "\n",
    "print(n_features)\n",
    "\n",
    "#print nunmber of each class in each dataset\n",
    "for x in [TRAIN, VAL, TEST]:\n",
    "    print(\"Number of {} images: {}\".format(x, dataset_sizes[x]))\n",
    "    for i in range(2):\n",
    "        print(\"Number of {} images of class {}: {}\".format(x, class_names[i], sum([1 for j in image_datasets[x] if j[1] == i])))\n",
    "    print()\n",
    "\n",
    "\n"
   ]
  },
  {
   "cell_type": "code",
   "execution_count": 4,
   "metadata": {},
   "outputs": [],
   "source": [
    "# Create model\n",
    "# f = wx + b, sigmoid at the end\n",
    "class LogisticRegression(nn.Module):\n",
    "\n",
    "    def __init__(self, n_input_features):\n",
    "        super(LogisticRegression, self).__init__()\n",
    "        self.linear = nn.Linear(n_input_features, 1)\n",
    "\n",
    "    def forward(self, x):\n",
    "        y_predicted = torch.sigmoid(self.linear(x))\n",
    "        return y_predicted\n",
    "    \n",
    "model = LogisticRegression(n_features)"
   ]
  },
  {
   "cell_type": "code",
   "execution_count": 5,
   "metadata": {},
   "outputs": [],
   "source": [
    "# Loss and optimizer\n",
    "learning_rate = 0.01\n",
    "criterion = nn.BCELoss()\n",
    "optimizer = torch.optim.SGD(model.parameters(), lr=learning_rate)\n"
   ]
  },
  {
   "cell_type": "code",
   "execution_count": 6,
   "metadata": {},
   "outputs": [],
   "source": [
    "def train_model(model, criterion, optimizer, model_name, X_train, y_train, X_val, y_val, num_epochs=1000):\n",
    "    # training loop\n",
    "    num_epochs = num_epochs\n",
    "    accs_train = []\n",
    "    accs_val = []\n",
    "    aucs = []\n",
    "    best_fpr = []\n",
    "    best_tpr = []\n",
    "    best_auc = 0\n",
    "    best_acc = 0\n",
    "    #40k epoche runnate\n",
    "    for epoch in range(num_epochs):\n",
    "        #randomly horizontal flip the images in X_train\n",
    "        transform = transforms.Compose([transforms.RandomHorizontalFlip()])\n",
    "        X_train = transform(X_train)\n",
    "        # forward pass and loss\n",
    "        outputs = model(X_train)\n",
    "        #make y_predicted and y_train of same shape\n",
    "        outputs = outputs.view(-1)\n",
    "\n",
    "        preds = outputs.round()\n",
    "        acc_train = (preds == y_train).sum() / y_train.shape[0]\n",
    "        accs_train.append(acc_train)\n",
    "\n",
    "        loss = criterion(outputs, y_train.float())\n",
    "        \n",
    "        # backward pass\n",
    "        loss.backward()\n",
    "        \n",
    "        # updates\n",
    "        optimizer.step()\n",
    "        \n",
    "        # zero gradients\n",
    "        optimizer.zero_grad()\n",
    "        \n",
    "        with torch.no_grad():\n",
    "            outputs = model(X_val)  # no need to call model.forward()\n",
    "            y_predicted_cls = outputs.round()   # round off to nearest class\n",
    "            #flatten\n",
    "            y_val = y_val.view(-1)\n",
    "            y_predicted_cls = y_predicted_cls.view(-1)\n",
    "            #Compute accuracy\n",
    "            acc = (y_predicted_cls == y_val).sum() / y_val.shape[0]   # accuracy\n",
    "            accs_val.append(acc)\n",
    "            #Compute AUC\n",
    "            fpr, tpr, _ = roc_curve(y_val, outputs)\n",
    "            roc_auc = auc(fpr, tpr)\n",
    "            aucs.append(roc_auc)\n",
    "            if roc_auc > best_auc:\n",
    "                best_auc = roc_auc\n",
    "                epoch_best = epoch\n",
    "                best_fpr = fpr\n",
    "                best_tpr = tpr\n",
    "            \n",
    "    \n",
    "            if acc > best_acc:\n",
    "                best_acc = acc\n",
    "                epoch_best = epoch\n",
    "                #save the best model weights with info about PCA compoenents\n",
    "                torch.save(model.state_dict(), f'../../../data/LR/'+str(model_name)+f'weights_best.pt')\n",
    "            if epoch % 100 == 0:\n",
    "                print(f'Epoch: {epoch}, Loss: {loss.item()}, Accuracy on val: {acc}')\n",
    "    return accs_train, accs_val, aucs, best_fpr, best_tpr, best_auc, epoch_best"
   ]
  },
  {
   "cell_type": "markdown",
   "metadata": {},
   "source": [
    "## LR without PCA"
   ]
  },
  {
   "cell_type": "code",
   "execution_count": 7,
   "metadata": {},
   "outputs": [
    {
     "data": {
      "text/plain": [
       "'X_train = []\\ny_train = []\\nfor images, labels in dataloaders[TRAIN]:\\n    images = images.view(-1, n_features)\\n    X_train.append(images)\\n    y_train.append(labels)\\nX_train = torch.cat(X_train, dim=0)\\ny_train = torch.cat(y_train, dim=0)\\nX_val = []\\ny_val = []\\nfor images, labels in dataloaders[VAL]:\\n    images = images.view(-1, n_features)\\n    X_val.append(images)\\n    y_val.append(labels)\\nX_val = torch.cat(X_val, dim=0)\\ny_val = torch.cat(y_val, dim=0)'"
      ]
     },
     "execution_count": 7,
     "metadata": {},
     "output_type": "execute_result"
    }
   ],
   "source": [
    "#Load dataset\n",
    "'''X_train = []\n",
    "y_train = []\n",
    "for images, labels in dataloaders[TRAIN]:\n",
    "    images = images.view(-1, n_features)\n",
    "    X_train.append(images)\n",
    "    y_train.append(labels)\n",
    "X_train = torch.cat(X_train, dim=0)\n",
    "y_train = torch.cat(y_train, dim=0)\n",
    "X_val = []\n",
    "y_val = []\n",
    "for images, labels in dataloaders[VAL]:\n",
    "    images = images.view(-1, n_features)\n",
    "    X_val.append(images)\n",
    "    y_val.append(labels)\n",
    "X_val = torch.cat(X_val, dim=0)\n",
    "y_val = torch.cat(y_val, dim=0)'''"
   ]
  },
  {
   "cell_type": "code",
   "execution_count": 8,
   "metadata": {},
   "outputs": [],
   "source": [
    "# train model for 1000 epochs\n",
    "# train_model(model, criterion, optimizer, 'logistic_regression', X_train, y_train, X_val, y_val, num_epochs=1000)"
   ]
  },
  {
   "cell_type": "markdown",
   "metadata": {},
   "source": [
    "## LR with PCA"
   ]
  },
  {
   "cell_type": "code",
   "execution_count": 9,
   "metadata": {},
   "outputs": [],
   "source": [
    "from sklearn.decomposition import PCA"
   ]
  },
  {
   "cell_type": "code",
   "execution_count": 10,
   "metadata": {},
   "outputs": [],
   "source": [
    "X_train = []\n",
    "y_train = []\n",
    "for images, labels in dataloaders[TRAIN]:\n",
    "    images = images.view(-1, n_features)\n",
    "    X_train.append(images)\n",
    "    y_train.append(labels)\n",
    "X_train = torch.cat(X_train, dim=0)\n",
    "y_train = torch.cat(y_train, dim=0)\n",
    "X_val = []\n",
    "y_val = []\n",
    "for images, labels in dataloaders[VAL]:\n",
    "    images = images.view(-1, n_features)\n",
    "    X_val.append(images)\n",
    "    y_val.append(labels)\n",
    "X_val = torch.cat(X_val, dim=0)\n",
    "y_val = torch.cat(y_val, dim=0)"
   ]
  },
  {
   "cell_type": "code",
   "execution_count": 11,
   "metadata": {},
   "outputs": [],
   "source": [
    "# retain only n_componenets feature with highest variance using PCA\n",
    "n_components = 625\n",
    "pca = PCA(n_components=n_components)\n",
    "X_train_pca = pca.fit_transform(X_train.detach().numpy())\n",
    "X_val_pca = pca.transform(X_val.detach().numpy())\n",
    "#transform in tensors\n",
    "X_train_pca = torch.tensor(X_train_pca)\n",
    "X_val_pca = torch.tensor(X_val_pca)\n"
   ]
  },
  {
   "cell_type": "code",
   "execution_count": 12,
   "metadata": {},
   "outputs": [],
   "source": [
    "model = LogisticRegression(X_train_pca.shape[1])\n",
    "# Loss and optimizer\n",
    "learning_rate = 0.01\n",
    "criterion = nn.BCELoss()\n",
    "optimizer = torch.optim.SGD(model.parameters(), lr=learning_rate)"
   ]
  },
  {
   "cell_type": "code",
   "execution_count": 13,
   "metadata": {},
   "outputs": [
    {
     "name": "stdout",
     "output_type": "stream",
     "text": [
      "Epoch: 0, Loss: 0.6850165724754333, Accuracy on val: 0.45971429347991943\n",
      "Epoch: 100, Loss: 0.6029457449913025, Accuracy on val: 0.7614285945892334\n",
      "Epoch: 200, Loss: 0.5579399466514587, Accuracy on val: 0.7905714511871338\n",
      "Epoch: 300, Loss: 0.5064926147460938, Accuracy on val: 0.7882857322692871\n",
      "Epoch: 400, Loss: 0.4872332513332367, Accuracy on val: 0.8028571605682373\n",
      "Epoch: 500, Loss: 0.4580841064453125, Accuracy on val: 0.8077142834663391\n",
      "Epoch: 600, Loss: 0.43787533044815063, Accuracy on val: 0.8131428360939026\n",
      "Epoch: 700, Loss: 0.4315728545188904, Accuracy on val: 0.8202857375144958\n",
      "Epoch: 800, Loss: 0.417625367641449, Accuracy on val: 0.8268571496009827\n",
      "Epoch: 900, Loss: 0.39979907870292664, Accuracy on val: 0.8337143063545227\n",
      "Epoch: 1000, Loss: 0.3892526626586914, Accuracy on val: 0.8360000252723694\n",
      "Epoch: 1100, Loss: 0.38059547543525696, Accuracy on val: 0.8411428332328796\n",
      "Epoch: 1200, Loss: 0.37365636229515076, Accuracy on val: 0.8479999899864197\n",
      "Epoch: 1300, Loss: 0.3721533417701721, Accuracy on val: 0.850857138633728\n",
      "Epoch: 1400, Loss: 0.3654842972755432, Accuracy on val: 0.8545714020729065\n",
      "Epoch: 1500, Loss: 0.35897472500801086, Accuracy on val: 0.8602856993675232\n",
      "Epoch: 1600, Loss: 0.3515128493309021, Accuracy on val: 0.8628571629524231\n",
      "Epoch: 1700, Loss: 0.34691566228866577, Accuracy on val: 0.8651428818702698\n",
      "Epoch: 1800, Loss: 0.3449280261993408, Accuracy on val: 0.8665714263916016\n",
      "Epoch: 1900, Loss: 0.34092092514038086, Accuracy on val: 0.8665714263916016\n",
      "Epoch: 2000, Loss: 0.33675581216812134, Accuracy on val: 0.868571400642395\n",
      "Epoch: 2100, Loss: 0.3325051963329315, Accuracy on val: 0.8697142601013184\n",
      "Epoch: 2200, Loss: 0.33019527792930603, Accuracy on val: 0.87028568983078\n",
      "Epoch: 2300, Loss: 0.3266717493534088, Accuracy on val: 0.8717142939567566\n",
      "Epoch: 2400, Loss: 0.3238217830657959, Accuracy on val: 0.8731428384780884\n",
      "Epoch: 2500, Loss: 0.32200878858566284, Accuracy on val: 0.8745714426040649\n",
      "Epoch: 2600, Loss: 0.31906795501708984, Accuracy on val: 0.8754285573959351\n",
      "Epoch: 2700, Loss: 0.31733131408691406, Accuracy on val: 0.8774285912513733\n",
      "Epoch: 2800, Loss: 0.31498751044273376, Accuracy on val: 0.8777142763137817\n",
      "Epoch: 2900, Loss: 0.31369805335998535, Accuracy on val: 0.8782857060432434\n",
      "Epoch: 3000, Loss: 0.3106505572795868, Accuracy on val: 0.878000020980835\n",
      "Epoch: 3100, Loss: 0.3104373514652252, Accuracy on val: 0.8777142763137817\n",
      "Epoch: 3200, Loss: 0.30884286761283875, Accuracy on val: 0.8777142763137817\n",
      "Epoch: 3300, Loss: 0.3069800138473511, Accuracy on val: 0.8785714507102966\n",
      "Epoch: 3400, Loss: 0.30465978384017944, Accuracy on val: 0.8794285655021667\n",
      "Epoch: 3500, Loss: 0.30344638228416443, Accuracy on val: 0.8794285655021667\n",
      "Epoch: 3600, Loss: 0.3021937608718872, Accuracy on val: 0.8799999952316284\n",
      "Epoch: 3700, Loss: 0.3008897006511688, Accuracy on val: 0.87971431016922\n",
      "Epoch: 3800, Loss: 0.29966384172439575, Accuracy on val: 0.8794285655021667\n",
      "Epoch: 3900, Loss: 0.2984485626220703, Accuracy on val: 0.8811428546905518\n",
      "Epoch: 4000, Loss: 0.2977672517299652, Accuracy on val: 0.8811428546905518\n",
      "Epoch: 4100, Loss: 0.29616492986679077, Accuracy on val: 0.8820000290870667\n",
      "Epoch: 4200, Loss: 0.2953796982765198, Accuracy on val: 0.8822857141494751\n",
      "Epoch: 4300, Loss: 0.2945886552333832, Accuracy on val: 0.8822857141494751\n",
      "Epoch: 4400, Loss: 0.2936721444129944, Accuracy on val: 0.8820000290870667\n",
      "Epoch: 4500, Loss: 0.2927911877632141, Accuracy on val: 0.8828571438789368\n",
      "Epoch: 4600, Loss: 0.2918357253074646, Accuracy on val: 0.8837142586708069\n",
      "Epoch: 4700, Loss: 0.2908082902431488, Accuracy on val: 0.8834285736083984\n",
      "Epoch: 4800, Loss: 0.29002827405929565, Accuracy on val: 0.8837142586708069\n",
      "Epoch: 4900, Loss: 0.28937453031539917, Accuracy on val: 0.8837142586708069\n",
      "Epoch: 5000, Loss: 0.2887086570262909, Accuracy on val: 0.8840000033378601\n",
      "Epoch: 5100, Loss: 0.28795865178108215, Accuracy on val: 0.8840000033378601\n",
      "Epoch: 5200, Loss: 0.2872661352157593, Accuracy on val: 0.8842856884002686\n",
      "Epoch: 5300, Loss: 0.28672483563423157, Accuracy on val: 0.8845714330673218\n",
      "Epoch: 5400, Loss: 0.28587016463279724, Accuracy on val: 0.8842856884002686\n",
      "Epoch: 5500, Loss: 0.28522318601608276, Accuracy on val: 0.8842856884002686\n",
      "Epoch: 5600, Loss: 0.28471747040748596, Accuracy on val: 0.8840000033378601\n",
      "Epoch: 5700, Loss: 0.28407198190689087, Accuracy on val: 0.8840000033378601\n",
      "Epoch: 5800, Loss: 0.2837089002132416, Accuracy on val: 0.8848571181297302\n",
      "Epoch: 5900, Loss: 0.2832413613796234, Accuracy on val: 0.8848571181297302\n",
      "Epoch: 6000, Loss: 0.282489150762558, Accuracy on val: 0.8851428627967834\n",
      "Epoch: 6100, Loss: 0.2822367548942566, Accuracy on val: 0.8848571181297302\n",
      "Epoch: 6200, Loss: 0.2814713716506958, Accuracy on val: 0.8851428627967834\n",
      "Epoch: 6300, Loss: 0.28105756640434265, Accuracy on val: 0.8851428627967834\n",
      "Epoch: 6400, Loss: 0.28063300251960754, Accuracy on val: 0.8857142925262451\n",
      "Epoch: 6500, Loss: 0.28010302782058716, Accuracy on val: 0.8857142925262451\n",
      "Epoch: 6600, Loss: 0.27987244725227356, Accuracy on val: 0.8857142925262451\n",
      "Epoch: 6700, Loss: 0.27942347526550293, Accuracy on val: 0.8859999775886536\n",
      "Epoch: 6800, Loss: 0.27897608280181885, Accuracy on val: 0.8862857222557068\n",
      "Epoch: 6900, Loss: 0.2785852253437042, Accuracy on val: 0.8859999775886536\n",
      "Epoch: 7000, Loss: 0.2781831622123718, Accuracy on val: 0.8859999775886536\n",
      "Epoch: 7100, Loss: 0.2777065336704254, Accuracy on val: 0.8859999775886536\n",
      "Epoch: 7200, Loss: 0.27748334407806396, Accuracy on val: 0.8859999775886536\n",
      "Epoch: 7300, Loss: 0.27720966935157776, Accuracy on val: 0.8859999775886536\n",
      "Epoch: 7400, Loss: 0.2765687108039856, Accuracy on val: 0.8862857222557068\n",
      "Epoch: 7500, Loss: 0.27650323510169983, Accuracy on val: 0.8859999775886536\n",
      "Epoch: 7600, Loss: 0.27612921595573425, Accuracy on val: 0.8859999775886536\n",
      "Epoch: 7700, Loss: 0.27558282017707825, Accuracy on val: 0.8862857222557068\n",
      "Epoch: 7800, Loss: 0.2755177319049835, Accuracy on val: 0.8868571519851685\n",
      "Epoch: 7900, Loss: 0.2749486267566681, Accuracy on val: 0.8868571519851685\n",
      "Epoch: 8000, Loss: 0.27461203932762146, Accuracy on val: 0.8871428370475769\n",
      "Epoch: 8100, Loss: 0.27435266971588135, Accuracy on val: 0.8871428370475769\n",
      "Epoch: 8200, Loss: 0.27436089515686035, Accuracy on val: 0.8874285817146301\n",
      "Epoch: 8300, Loss: 0.27404168248176575, Accuracy on val: 0.8874285817146301\n",
      "Epoch: 8400, Loss: 0.2737012505531311, Accuracy on val: 0.8877142667770386\n",
      "Epoch: 8500, Loss: 0.2732454836368561, Accuracy on val: 0.8877142667770386\n",
      "Epoch: 8600, Loss: 0.27323997020721436, Accuracy on val: 0.8874285817146301\n",
      "Epoch: 8700, Loss: 0.27266931533813477, Accuracy on val: 0.8877142667770386\n",
      "Epoch: 8800, Loss: 0.27279582619667053, Accuracy on val: 0.8877142667770386\n",
      "Epoch: 8900, Loss: 0.27206000685691833, Accuracy on val: 0.8877142667770386\n",
      "Epoch: 9000, Loss: 0.27233317494392395, Accuracy on val: 0.8874285817146301\n",
      "Epoch: 9100, Loss: 0.2720012068748474, Accuracy on val: 0.8874285817146301\n",
      "Epoch: 9200, Loss: 0.2717313766479492, Accuracy on val: 0.8877142667770386\n",
      "Epoch: 9300, Loss: 0.2714936137199402, Accuracy on val: 0.8877142667770386\n",
      "Epoch: 9400, Loss: 0.2710724174976349, Accuracy on val: 0.8874285817146301\n",
      "Epoch: 9500, Loss: 0.2710205316543579, Accuracy on val: 0.8877142667770386\n",
      "Epoch: 9600, Loss: 0.2706388831138611, Accuracy on val: 0.8882856965065002\n",
      "Epoch: 9700, Loss: 0.2706586718559265, Accuracy on val: 0.8882856965065002\n",
      "Epoch: 9800, Loss: 0.27044880390167236, Accuracy on val: 0.8885714411735535\n",
      "Epoch: 9900, Loss: 0.2702247202396393, Accuracy on val: 0.8882856965065002\n"
     ]
    }
   ],
   "source": [
    "#Train model using pca features\n",
    "accs_train, accs_val, aucs, best_fpr, best_tpr, best_auc, epoch_best = train_model(model, criterion, optimizer, 'logistic_regression_pca', X_train_pca, y_train, X_val_pca, y_val, num_epochs=10000)"
   ]
  },
  {
   "cell_type": "code",
   "execution_count": 14,
   "metadata": {},
   "outputs": [
    {
     "data": {
      "image/png": "[encoded data removed]",
      "text/plain": [
       "<Figure size 640x480 with 1 Axes>"
      ]
     },
     "metadata": {},
     "output_type": "display_data"
    },
    {
     "data": {
      "image/png": "[encoded data removed]",
      "text/plain": [
       "<Figure size 640x480 with 1 Axes>"
      ]
     },
     "metadata": {},
     "output_type": "display_data"
    },
    {
     "data": {
      "image/png": "[encoded data removed]",
      "text/plain": [
       "<Figure size 640x480 with 1 Axes>"
      ]
     },
     "metadata": {},
     "output_type": "display_data"
    },
    {
     "name": "stdout",
     "output_type": "stream",
     "text": [
      "Best AUC: 0.9400997343185686\n",
      "Best epoch: 9997\n"
     ]
    }
   ],
   "source": [
    "#plot accuracy train vs val\n",
    "plt.plot(accs_train, label='train')\n",
    "plt.plot(accs_val, label='val')\n",
    "plt.legend()\n",
    "plt.show()\n",
    "#plot AUC\n",
    "plt.plot(aucs)\n",
    "#add legend with best AUC\n",
    "plt.legend([f'Best AUC: {best_auc}'])\n",
    "plt.title('AUC')\n",
    "plt.show()\n",
    "#plot ROC\n",
    "plt.plot(best_fpr, best_tpr)\n",
    "plt.xlabel('False Positive Rate')\n",
    "plt.ylabel('True Positive Rate')\n",
    "plt.title('ROC curve')\n",
    "plt.show()\n",
    "print('Best AUC:', best_auc)\n",
    "print('Best epoch:', epoch_best)"
   ]
  },
  {
   "cell_type": "markdown",
   "metadata": {},
   "source": [
    "## LR using only grayscale values"
   ]
  },
  {
   "cell_type": "code",
   "execution_count": 15,
   "metadata": {},
   "outputs": [
    {
     "data": {
      "text/plain": [
       "\"data_transforms = transforms.Compose([\\n    transforms.Grayscale(num_output_channels=1),\\n    transforms.ToTensor()\\n])\\n\\ndata_dir = '../../../data/train/train'\\ncsv_file = '../../../data/train.csv'\\nTRAIN = 'train'\\nVAL = 'val'\\nTEST = 'test'\\n\\n\\nnp.random.seed(0)\\nimage_dataset = CactusDataset.CactusDataset(csv_file, data_dir, data_transforms)\\n# split into train, eval, test\\ntrain_size = int(0.7 * len(image_dataset))\\neval_size = int(0.2 * len(image_dataset))\\ntest_size = len(image_dataset) - train_size - eval_size\\ntrain_dataset, eval_dataset, test_dataset = torch.utils.data.random_split(image_dataset, [train_size, eval_size, test_size])\\n\\nimage_datasets = {TRAIN: train_dataset, VAL: eval_dataset, TEST: test_dataset}\\n\\ndataset_sizes = {x: len(image_datasets[x]) for x in [TRAIN, VAL, TEST]}\\n\\nbatch_sizes = {TRAIN: dataset_sizes[TRAIN], VAL: dataset_sizes[VAL], TEST: 64}\\n\\ndataloaders = {TRAIN: None, VAL: None, TEST: None}\\ndataloaders[TRAIN] = DataLoader(image_datasets[TRAIN], batch_size=batch_sizes[TRAIN],\\n                                             shuffle=True, num_workers=0)\\ndataloaders[VAL] = DataLoader(image_datasets[VAL], batch_size=batch_sizes[VAL],\\n                                             shuffle=False, num_workers=0)\\ndataloaders[TEST] = DataLoader(image_datasets[TEST], batch_size=batch_sizes[TEST], shuffle=False, num_workers=0)\\n\\n\\nprint(dataset_sizes)\\nclass_names = {0: 'No Cactus', 1: 'Cactus'}\\n\\ninputs, classes = next(iter(dataloaders[TRAIN]))\\n\\nn_features = 32 * 32\\n\\nprint(n_features)\""
      ]
     },
     "execution_count": 15,
     "metadata": {},
     "output_type": "execute_result"
    }
   ],
   "source": [
    "'''data_transforms = transforms.Compose([\n",
    "    transforms.Grayscale(num_output_channels=1),\n",
    "    transforms.ToTensor()\n",
    "])\n",
    "\n",
    "data_dir = '../../../data/train/train'\n",
    "csv_file = '../../../data/train.csv'\n",
    "TRAIN = 'train'\n",
    "VAL = 'val'\n",
    "TEST = 'test'\n",
    "\n",
    "\n",
    "np.random.seed(0)\n",
    "image_dataset = CactusDataset.CactusDataset(csv_file, data_dir, data_transforms)\n",
    "# split into train, eval, test\n",
    "train_size = int(0.7 * len(image_dataset))\n",
    "eval_size = int(0.2 * len(image_dataset))\n",
    "test_size = len(image_dataset) - train_size - eval_size\n",
    "train_dataset, eval_dataset, test_dataset = torch.utils.data.random_split(image_dataset, [train_size, eval_size, test_size])\n",
    "\n",
    "image_datasets = {TRAIN: train_dataset, VAL: eval_dataset, TEST: test_dataset}\n",
    "\n",
    "dataset_sizes = {x: len(image_datasets[x]) for x in [TRAIN, VAL, TEST]}\n",
    "\n",
    "batch_sizes = {TRAIN: dataset_sizes[TRAIN], VAL: dataset_sizes[VAL], TEST: 64}\n",
    "\n",
    "dataloaders = {TRAIN: None, VAL: None, TEST: None}\n",
    "dataloaders[TRAIN] = DataLoader(image_datasets[TRAIN], batch_size=batch_sizes[TRAIN],\n",
    "                                             shuffle=True, num_workers=0)\n",
    "dataloaders[VAL] = DataLoader(image_datasets[VAL], batch_size=batch_sizes[VAL],\n",
    "                                             shuffle=False, num_workers=0)\n",
    "dataloaders[TEST] = DataLoader(image_datasets[TEST], batch_size=batch_sizes[TEST], shuffle=False, num_workers=0)\n",
    "\n",
    "\n",
    "print(dataset_sizes)\n",
    "class_names = {0: 'No Cactus', 1: 'Cactus'}\n",
    "\n",
    "inputs, classes = next(iter(dataloaders[TRAIN]))\n",
    "\n",
    "n_features = 32 * 32\n",
    "\n",
    "print(n_features)'''\n"
   ]
  },
  {
   "cell_type": "code",
   "execution_count": 16,
   "metadata": {},
   "outputs": [
    {
     "data": {
      "text/plain": [
       "'X_train = []\\ny_train = []\\nfor images, labels in dataloaders[TRAIN]:\\n    images = images.view(-1, n_features)\\n    print(images.shape)\\n    X_train.append(images)\\n    y_train.append(labels)\\nX_train = torch.cat(X_train, dim=0)\\ny_train = torch.cat(y_train, dim=0)\\nX_val = []\\ny_val = []\\nfor images, labels in dataloaders[VAL]:\\n    images = images.view(-1, n_features)\\n    X_val.append(images)\\n    y_val.append(labels)\\nX_val = torch.cat(X_val, dim=0)\\ny_val = torch.cat(y_val, dim=0)\\nprint(X_train.shape)\\nprint(y_train.shape)\\nprint(X_val.shape)\\nprint(y_val.shape)'"
      ]
     },
     "execution_count": 16,
     "metadata": {},
     "output_type": "execute_result"
    }
   ],
   "source": [
    "#Load data\n",
    "'''X_train = []\n",
    "y_train = []\n",
    "for images, labels in dataloaders[TRAIN]:\n",
    "    images = images.view(-1, n_features)\n",
    "    print(images.shape)\n",
    "    X_train.append(images)\n",
    "    y_train.append(labels)\n",
    "X_train = torch.cat(X_train, dim=0)\n",
    "y_train = torch.cat(y_train, dim=0)\n",
    "X_val = []\n",
    "y_val = []\n",
    "for images, labels in dataloaders[VAL]:\n",
    "    images = images.view(-1, n_features)\n",
    "    X_val.append(images)\n",
    "    y_val.append(labels)\n",
    "X_val = torch.cat(X_val, dim=0)\n",
    "y_val = torch.cat(y_val, dim=0)\n",
    "print(X_train.shape)\n",
    "print(y_train.shape)\n",
    "print(X_val.shape)\n",
    "print(y_val.shape)'''"
   ]
  },
  {
   "cell_type": "code",
   "execution_count": 17,
   "metadata": {},
   "outputs": [
    {
     "data": {
      "text/plain": [
       "'model = LogisticRegression(n_features)\\n# Loss and optimizer\\nlearning_rate = 0.01\\ncriterion = nn.BCELoss()\\noptimizer = torch.optim.SGD(model.parameters(), lr=learning_rate)'"
      ]
     },
     "execution_count": 17,
     "metadata": {},
     "output_type": "execute_result"
    }
   ],
   "source": [
    "'''model = LogisticRegression(n_features)\n",
    "# Loss and optimizer\n",
    "learning_rate = 0.01\n",
    "criterion = nn.BCELoss()\n",
    "optimizer = torch.optim.SGD(model.parameters(), lr=learning_rate)'''"
   ]
  },
  {
   "cell_type": "code",
   "execution_count": 18,
   "metadata": {},
   "outputs": [],
   "source": [
    "#train_model(model, criterion, optimizer, 'logistic_regression_grayscale', X_train, y_train, X_val, y_val, num_epochs=1000)"
   ]
  }
 ],
 "metadata": {
  "kernelspec": {
   "display_name": "asi",
   "language": "python",
   "name": "python3"
  },
  "language_info": {
   "codemirror_mode": {
    "name": "ipython",
    "version": 3
   },
   "file_extension": ".py",
   "mimetype": "text/x-python",
   "name": "python",
   "nbconvert_exporter": "python",
   "pygments_lexer": "ipython3",
   "version": "3.12.2"
  }
 },
 "nbformat": 4,
 "nbformat_minor": 2
}
