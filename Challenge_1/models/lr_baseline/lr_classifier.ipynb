{
 "cells": [
  {
   "cell_type": "code",
   "execution_count": 38,
   "metadata": {},
   "outputs": [],
   "source": [
    "import torch\n",
    "import torch.nn as nn\n",
    "import torch.optim as optim\n",
    "from torch.optim import lr_scheduler\n",
    "from torch.autograd import Variable\n",
    "import numpy as np\n",
    "import torchvision\n",
    "from torchvision import datasets, models, transforms\n",
    "from torch.utils.data import DataLoader\n",
    "import matplotlib.pyplot as plt\n",
    "import CactusDataset\n",
    "from sklearn.metrics import roc_curve, auc\n"
   ]
  },
  {
   "cell_type": "code",
   "execution_count": 14,
   "metadata": {},
   "outputs": [],
   "source": [
    "#use_gpu = torch.cuda.is_available()\n",
    "#if use_gpu:\n",
    "#    print(\"Using CUDA\")"
   ]
  },
  {
   "cell_type": "code",
   "execution_count": 39,
   "metadata": {},
   "outputs": [
    {
     "name": "stdout",
     "output_type": "stream",
     "text": [
      "{'train': 12250, 'val': 3500, 'test': 1750}\n",
      "tensor([[[0.3333, 0.4549, 0.4353,  ..., 0.3098, 0.2980, 0.2353],\n",
      "         [0.5333, 0.5490, 0.1020,  ..., 0.3882, 0.4118, 0.4078],\n",
      "         [0.5294, 0.5059, 0.3804,  ..., 0.1294, 0.6784, 0.3098],\n",
      "         ...,\n",
      "         [0.5804, 0.4118, 0.4471,  ..., 0.4706, 0.4941, 0.5216],\n",
      "         [0.4392, 0.4549, 0.3216,  ..., 0.5373, 0.3490, 0.2275],\n",
      "         [0.3412, 0.5294, 0.3608,  ..., 0.2784, 0.4510, 0.2863]],\n",
      "\n",
      "        [[0.3176, 0.4392, 0.4196,  ..., 0.2627, 0.2549, 0.1922],\n",
      "         [0.5176, 0.5333, 0.0863,  ..., 0.3412, 0.3686, 0.3647],\n",
      "         [0.5137, 0.4902, 0.3647,  ..., 0.0902, 0.6392, 0.2784],\n",
      "         ...,\n",
      "         [0.5922, 0.4235, 0.4588,  ..., 0.4863, 0.5216, 0.5569],\n",
      "         [0.4510, 0.4667, 0.3333,  ..., 0.5647, 0.3843, 0.2706],\n",
      "         [0.3529, 0.5412, 0.3725,  ..., 0.3059, 0.4863, 0.3294]],\n",
      "\n",
      "        [[0.2745, 0.3961, 0.3765,  ..., 0.3176, 0.3098, 0.2549],\n",
      "         [0.4745, 0.4902, 0.0431,  ..., 0.3882, 0.4235, 0.4196],\n",
      "         [0.4667, 0.4431, 0.3216,  ..., 0.1333, 0.6824, 0.3216],\n",
      "         ...,\n",
      "         [0.5176, 0.3490, 0.3843,  ..., 0.5294, 0.5608, 0.5922],\n",
      "         [0.3843, 0.4000, 0.2667,  ..., 0.5961, 0.4118, 0.2941],\n",
      "         [0.2863, 0.4745, 0.3059,  ..., 0.3373, 0.5137, 0.3529]]])\n",
      "3072\n",
      "Number of train images: 12250\n",
      "Number of train images of class No Cactus: 3077\n",
      "Number of train images of class Cactus: 9173\n",
      "\n",
      "Number of val images: 3500\n",
      "Number of val images of class No Cactus: 856\n",
      "Number of val images of class Cactus: 2644\n",
      "\n",
      "Number of test images: 1750\n",
      "Number of test images of class No Cactus: 431\n",
      "Number of test images of class Cactus: 1319\n",
      "\n"
     ]
    }
   ],
   "source": [
    "data_dir = '../../../data/train/train'\n",
    "csv_file = '../../../data/train.csv'\n",
    "TRAIN = 'train'\n",
    "VAL = 'val'\n",
    "TEST = 'test'\n",
    "\n",
    "#set the transforms for the images\n",
    "data_transforms = transforms.Compose([\n",
    "    transforms.ToTensor(),\n",
    "])\n",
    "\n",
    "\n",
    "torch.manual_seed(42)\n",
    "image_dataset = CactusDataset.CactusDataset(csv_file, data_dir, data_transforms)\n",
    "# split into train, eval, test\n",
    "train_size = int(0.7 * len(image_dataset))\n",
    "eval_size = int(0.2 * len(image_dataset))\n",
    "test_size = len(image_dataset) - train_size - eval_size\n",
    "train_dataset, eval_dataset, test_dataset = torch.utils.data.random_split(image_dataset, [train_size, eval_size, test_size])\n",
    "\n",
    "image_datasets = {TRAIN: train_dataset, VAL: eval_dataset, TEST: test_dataset}\n",
    "\n",
    "dataset_sizes = {x: len(image_datasets[x]) for x in [TRAIN, VAL, TEST]}\n",
    "\n",
    "batch_sizes = {TRAIN: dataset_sizes[TRAIN], VAL: dataset_sizes[VAL], TEST: 64}\n",
    "\n",
    "dataloaders = {TRAIN: None, VAL: None, TEST: None}\n",
    "dataloaders[TRAIN] = DataLoader(image_datasets[TRAIN], batch_size=batch_sizes[TRAIN],\n",
    "                                             shuffle=True, num_workers=0)\n",
    "dataloaders[VAL] = DataLoader(image_datasets[VAL], batch_size=batch_sizes[VAL],\n",
    "                                             shuffle=False, num_workers=0)\n",
    "dataloaders[TEST] = DataLoader(image_datasets[TEST], batch_size=batch_sizes[TEST], shuffle=False, num_workers=0)\n",
    "\n",
    "\n",
    "print(dataset_sizes)\n",
    "class_names = {0: 'No Cactus', 1: 'Cactus'}\n",
    "\n",
    "inputs, classes = next(iter(dataloaders[TRAIN]))\n",
    "print(inputs[0])\n",
    "\n",
    "n_features = 32 * 32 * 3\n",
    "\n",
    "print(n_features)\n",
    "\n",
    "#print nunmber of each class in each dataset\n",
    "for x in [TRAIN, VAL, TEST]:\n",
    "    print(\"Number of {} images: {}\".format(x, dataset_sizes[x]))\n",
    "    for i in range(2):\n",
    "        print(\"Number of {} images of class {}: {}\".format(x, class_names[i], sum([1 for j in image_datasets[x] if j[1] == i])))\n",
    "    print()\n",
    "\n",
    "\n"
   ]
  },
  {
   "cell_type": "code",
   "execution_count": 40,
   "metadata": {},
   "outputs": [],
   "source": [
    "# Create model\n",
    "# f = wx + b, sigmoid at the end\n",
    "class LogisticRegression(nn.Module):\n",
    "\n",
    "    def __init__(self, n_input_features):\n",
    "        super(LogisticRegression, self).__init__()\n",
    "        self.linear = nn.Linear(n_input_features, 1)\n",
    "\n",
    "    def forward(self, x):\n",
    "        y_predicted = torch.sigmoid(self.linear(x))\n",
    "        return y_predicted"
   ]
  },
  {
   "cell_type": "code",
   "execution_count": 56,
   "metadata": {},
   "outputs": [],
   "source": [
    "def train_model(model, criterion, optimizer, model_name, X_train, y_train, X_val, y_val, transforms=None, num_epochs=1000):\n",
    "    # training loop\n",
    "    num_epochs = num_epochs\n",
    "    epoch_best = 0\n",
    "    f1_scores = []\n",
    "    accs_train = []\n",
    "    accs_val = []\n",
    "    aucs = []\n",
    "    best_fpr = []\n",
    "    best_tpr = []\n",
    "    best_auc = 0\n",
    "    best_acc = 0\n",
    "    best_f1 = 0\n",
    "    \n",
    "\n",
    "    #40k epoche runnate\n",
    "    for epoch in range(num_epochs):\n",
    "        #randomly horizontal flip the images in X_train\n",
    "        if transforms is not None:\n",
    "            X_train = transforms(X_train)\n",
    "        #use mini batches\n",
    "        # forward pass and loss\n",
    "        outputs = model(X_train)\n",
    "        #make y_predicted and y_train of same shape\n",
    "        outputs = outputs.view(-1)\n",
    "\n",
    "        preds = outputs.round()\n",
    "        acc_train = (preds == y_train).sum() / y_train.shape[0]\n",
    "        accs_train.append(acc_train)\n",
    "\n",
    "        loss = criterion(outputs, y_train.float())\n",
    "        \n",
    "        # backward pass\n",
    "        loss.backward()\n",
    "        \n",
    "        # updates\n",
    "        optimizer.step()\n",
    "        \n",
    "        # zero gradients\n",
    "        optimizer.zero_grad()\n",
    "        \n",
    "        with torch.no_grad():\n",
    "            outputs = model(X_val)  # no need to call model.forward()\n",
    "            y_predicted_cls = outputs.round()   # round off to nearest class\n",
    "            #flatten\n",
    "            y_val = y_val.view(-1)\n",
    "            y_predicted_cls = y_predicted_cls.view(-1)\n",
    "\n",
    "            #Compute f1 score\n",
    "            tp = (y_val * y_predicted_cls).sum()\n",
    "            tn = ((1 - y_val) * (1 - y_predicted_cls)).sum()\n",
    "            fp = ((1 - y_val) * y_predicted_cls).sum()\n",
    "            fn = (y_val * (1 - y_predicted_cls)).sum()\n",
    "            precision = tp / (tp + fp)\n",
    "            recall = tp / (tp + fn)\n",
    "            f1 = 2 * precision * recall / (precision + recall)\n",
    "            f1_scores.append(f1)\n",
    "\n",
    "            #Compute accuracy\n",
    "            acc = (y_predicted_cls == y_val).sum() / y_val.shape[0]   # accuracy\n",
    "            accs_val.append(acc)\n",
    "\n",
    "            #Compute AUC\n",
    "            fpr, tpr, _ = roc_curve(y_val, outputs)\n",
    "            roc_auc = auc(fpr, tpr)\n",
    "            aucs.append(roc_auc)\n",
    "            \n",
    "            if roc_auc > best_auc:\n",
    "                best_auc = roc_auc\n",
    "                best_fpr = fpr\n",
    "                best_tpr = tpr\n",
    "                epoch_best = epoch\n",
    "            if f1 > best_f1:\n",
    "                best_f1 = f1\n",
    "            if acc > best_acc:\n",
    "                best_acc = acc\n",
    "\n",
    "            if epoch % 100 == 0:\n",
    "                print(f'Epoch: {epoch}, Loss: {loss.item()}, Accuracy on val: {acc}, F1 score on val: {f1}, AUC on val: {roc_auc}')\n",
    "    return accs_train, accs_val, aucs, f1_scores, best_fpr, best_tpr, best_auc, best_f1, epoch_best"
   ]
  },
  {
   "cell_type": "markdown",
   "metadata": {},
   "source": [
    "## LR without PCA"
   ]
  },
  {
   "cell_type": "code",
   "execution_count": 42,
   "metadata": {},
   "outputs": [
    {
     "name": "stdout",
     "output_type": "stream",
     "text": [
      "torch.Size([12250, 3072])\n",
      "torch.Size([12250])\n",
      "torch.Size([3500, 3072])\n",
      "torch.Size([3500])\n",
      "tensor([0.5098, 0.4549, 0.4078,  ..., 0.4118, 0.5255, 0.4745])\n"
     ]
    }
   ],
   "source": [
    "#Load dataset, we flatten the images and we put them in a single numpy array in memory of shape (n_images, n_features)\n",
    "X_train = []\n",
    "y_train = []\n",
    "for images, labels in dataloaders[TRAIN]:\n",
    "    images = images.view(-1, n_features)\n",
    "    X_train.append(images)\n",
    "    y_train.append(labels)\n",
    "X_train = torch.cat(X_train, dim=0)\n",
    "y_train = torch.cat(y_train, dim=0)\n",
    "X_val = []\n",
    "y_val = []\n",
    "for images, labels in dataloaders[VAL]:\n",
    "    images = images.view(-1, n_features)\n",
    "    X_val.append(images)\n",
    "    y_val.append(labels)\n",
    "X_val = torch.cat(X_val, dim=0)\n",
    "y_val = torch.cat(y_val, dim=0)\n",
    "print(X_train.shape)\n",
    "print(y_train.shape)\n",
    "print(X_val.shape)\n",
    "print(y_val.shape)\n",
    "print(X_train[0])\n",
    "n_features = X_train.shape[1]"
   ]
  },
  {
   "cell_type": "code",
   "execution_count": 46,
   "metadata": {},
   "outputs": [],
   "source": [
    "#instantiate model\n",
    "model = LogisticRegression(n_features)\n",
    "# Loss and optimizer\n",
    "learning_rate = 0.001\n",
    "criterion = nn.BCELoss()\n",
    "optimizer = optim.SGD(model.parameters(), lr=learning_rate, momentum=0.9)\n",
    "exp_lr_scheduler = lr_scheduler.StepLR(optimizer, step_size=7, gamma=0.1)"
   ]
  },
  {
   "cell_type": "code",
   "execution_count": 47,
   "metadata": {},
   "outputs": [
    {
     "name": "stdout",
     "output_type": "stream",
     "text": [
      "Epoch: 0, Loss: 0.6215795874595642, Accuracy on val: 0.7554285526275635, F1 score on val: 0.8606770634651184, AUC on val: 0.37635821539157605\n",
      "Epoch: 100, Loss: 0.5365254878997803, Accuracy on val: 0.7554285526275635, F1 score on val: 0.8606770634651184, AUC on val: 0.6739872149249932\n",
      "Epoch: 200, Loss: 0.5009434223175049, Accuracy on val: 0.7645714282989502, F1 score on val: 0.8648737668991089, AUC on val: 0.7777004803681762\n",
      "Epoch: 300, Loss: 0.4752424359321594, Accuracy on val: 0.7725714445114136, F1 score on val: 0.8664429783821106, AUC on val: 0.814482093118611\n",
      "Epoch: 400, Loss: 0.4561351239681244, Accuracy on val: 0.774571418762207, F1 score on val: 0.8655189275741577, AUC on val: 0.8322020762933533\n",
      "Epoch: 500, Loss: 0.44149649143218994, Accuracy on val: 0.7765714526176453, F1 score on val: 0.8648928999900818, AUC on val: 0.8427841383064459\n",
      "Epoch: 600, Loss: 0.4299573004245758, Accuracy on val: 0.7820000052452087, F1 score on val: 0.8667249083518982, AUC on val: 0.8500873075346048\n",
      "Epoch: 700, Loss: 0.4206230342388153, Accuracy on val: 0.7877143025398254, F1 score on val: 0.8691210150718689, AUC on val: 0.8554247317149037\n",
      "Epoch: 800, Loss: 0.4128968417644501, Accuracy on val: 0.7900000214576721, F1 score on val: 0.8695189356803894, AUC on val: 0.8597397387136455\n",
      "Epoch: 900, Loss: 0.406371146440506, Accuracy on val: 0.7905714511871338, F1 score on val: 0.8690837025642395, AUC on val: 0.8632753403933435\n",
      "Epoch: 1000, Loss: 0.4007612466812134, Accuracy on val: 0.7940000295639038, F1 score on val: 0.8705797791481018, AUC on val: 0.866337731700765\n",
      "Epoch: 1100, Loss: 0.3958638310432434, Accuracy on val: 0.7965714335441589, F1 score on val: 0.8717579245567322, AUC on val: 0.8689883283611635\n",
      "Epoch: 1200, Loss: 0.3915307819843292, Accuracy on val: 0.7977142930030823, F1 score on val: 0.8722482919692993, AUC on val: 0.8713163820040438\n",
      "Epoch: 1300, Loss: 0.3876519799232483, Accuracy on val: 0.8031428456306458, F1 score on val: 0.8751584887504578, AUC on val: 0.8734341199259121\n",
      "Epoch: 1400, Loss: 0.38414466381073, Accuracy on val: 0.8054285645484924, F1 score on val: 0.876204252243042, AUC on val: 0.8753654014732705\n",
      "Epoch: 1500, Loss: 0.38094496726989746, Accuracy on val: 0.8091428279876709, F1 score on val: 0.8782355189323425, AUC on val: 0.8771327604733694\n",
      "Epoch: 1600, Loss: 0.3780033588409424, Accuracy on val: 0.8102856874465942, F1 score on val: 0.878743588924408, AUC on val: 0.8788015892092129\n",
      "Epoch: 1700, Loss: 0.37528079748153687, Accuracy on val: 0.8108571171760559, F1 score on val: 0.878931999206543, AUC on val: 0.8802711482177952\n",
      "Epoch: 1800, Loss: 0.37274616956710815, Accuracy on val: 0.8134285807609558, F1 score on val: 0.8802933096885681, AUC on val: 0.8817336377903772\n",
      "Epoch: 1900, Loss: 0.37037408351898193, Accuracy on val: 0.8145714402198792, F1 score on val: 0.8808956146240234, AUC on val: 0.8831477459103313\n",
      "Epoch: 2000, Loss: 0.36814388632774353, Accuracy on val: 0.8162857294082642, F1 score on val: 0.8818231821060181, AUC on val: 0.8843957222842762\n",
      "Epoch: 2100, Loss: 0.36603885889053345, Accuracy on val: 0.817714273929596, F1 score on val: 0.882591187953949, AUC on val: 0.8856121071160942\n",
      "Epoch: 2200, Loss: 0.36404457688331604, Accuracy on val: 0.819428563117981, F1 score on val: 0.8835237622261047, AUC on val: 0.8867829824536597\n",
      "Epoch: 2300, Loss: 0.3621491491794586, Accuracy on val: 0.8208571672439575, F1 score on val: 0.8842960000038147, AUC on val: 0.8878977441429722\n",
      "Epoch: 2400, Loss: 0.3603426218032837, Accuracy on val: 0.8222857117652893, F1 score on val: 0.8850701451301575, AUC on val: 0.8889524156262814\n",
      "Epoch: 2500, Loss: 0.35861632227897644, Accuracy on val: 0.8231428861618042, F1 score on val: 0.8855611085891724, AUC on val: 0.8899885298400894\n",
      "Epoch: 2600, Loss: 0.3569626808166504, Accuracy on val: 0.822857141494751, F1 score on val: 0.8852701187133789, AUC on val: 0.8909853203161451\n",
      "Epoch: 2700, Loss: 0.35537540912628174, Accuracy on val: 0.824571430683136, F1 score on val: 0.8863384127616882, AUC on val: 0.8918685579764447\n",
      "Epoch: 2800, Loss: 0.3538489043712616, Accuracy on val: 0.826285719871521, F1 score on val: 0.8872821927070618, AUC on val: 0.892766818188245\n",
      "Epoch: 2900, Loss: 0.3523781895637512, Accuracy on val: 0.8271428346633911, F1 score on val: 0.8877342343330383, AUC on val: 0.8936195689057927\n",
      "Epoch: 3000, Loss: 0.3509589731693268, Accuracy on val: 0.8285714387893677, F1 score on val: 0.8886414170265198, AUC on val: 0.8944718777835905\n",
      "Epoch: 3100, Loss: 0.34958741068840027, Accuracy on val: 0.8291428685188293, F1 score on val: 0.8889714479446411, AUC on val: 0.8952587943783845\n",
      "Epoch: 3200, Loss: 0.34825995564460754, Accuracy on val: 0.8299999833106995, F1 score on val: 0.8894668817520142, AUC on val: 0.896087243909681\n",
      "Epoch: 3300, Loss: 0.3469736874103546, Accuracy on val: 0.829714298248291, F1 score on val: 0.889260470867157, AUC on val: 0.8968405806834732\n",
      "Epoch: 3400, Loss: 0.34572577476501465, Accuracy on val: 0.8299999833106995, F1 score on val: 0.8894668817520142, AUC on val: 0.8975925919380151\n",
      "Epoch: 3500, Loss: 0.3445136249065399, Accuracy on val: 0.8317142724990845, F1 score on val: 0.8905000686645508, AUC on val: 0.8983026284163049\n",
      "Epoch: 3600, Loss: 0.3433353006839752, Accuracy on val: 0.833142876625061, F1 score on val: 0.8913285732269287, AUC on val: 0.8989671554003422\n",
      "Epoch: 3700, Loss: 0.34218841791152954, Accuracy on val: 0.834857165813446, F1 score on val: 0.8924451470375061, AUC on val: 0.8996440538973801\n",
      "Epoch: 3800, Loss: 0.34107133746147156, Accuracy on val: 0.8368571400642395, F1 score on val: 0.8937278389930725, AUC on val: 0.900303720644167\n",
      "Epoch: 3900, Loss: 0.33998215198516846, Accuracy on val: 0.8379999995231628, F1 score on val: 0.8944330811500549, AUC on val: 0.9009523413972034\n",
      "Epoch: 4000, Loss: 0.3389195501804352, Accuracy on val: 0.8394285440444946, F1 score on val: 0.8953055143356323, AUC on val: 0.9015841722397387\n",
      "Epoch: 4100, Loss: 0.3378818929195404, Accuracy on val: 0.8394285440444946, F1 score on val: 0.8953055143356323, AUC on val: 0.9021669588700214\n",
      "Epoch: 4200, Loss: 0.3368679881095886, Accuracy on val: 0.8408571481704712, F1 score on val: 0.8962175846099854, AUC on val: 0.902731630070553\n",
      "Epoch: 4300, Loss: 0.33587658405303955, Accuracy on val: 0.8417142629623413, F1 score on val: 0.8967573046684265, AUC on val: 0.9032852552773339\n",
      "Epoch: 4400, Loss: 0.3349064886569977, Accuracy on val: 0.842285692691803, F1 score on val: 0.8970916867256165, AUC on val: 0.9038265089711144\n",
      "Epoch: 4500, Loss: 0.333956778049469, Accuracy on val: 0.8434285521507263, F1 score on val: 0.8978755474090576, AUC on val: 0.904375273940645\n",
      "Epoch: 4600, Loss: 0.3330264389514923, Accuracy on val: 0.8434285521507263, F1 score on val: 0.8979135155677795, AUC on val: 0.9049200623524255\n",
      "Epoch: 4700, Loss: 0.33211445808410645, Accuracy on val: 0.8431428670883179, F1 score on val: 0.8977463245391846, AUC on val: 0.9054308291034541\n",
      "Epoch: 4800, Loss: 0.33122020959854126, Accuracy on val: 0.843999981880188, F1 score on val: 0.8982482552528381, AUC on val: 0.9059548510469835\n",
      "Epoch: 4900, Loss: 0.33034276962280273, Accuracy on val: 0.8448571562767029, F1 score on val: 0.8987884521484375, AUC on val: 0.9064267359000098\n",
      "Best AUC: 0.9069061320287868, Best F1: 0.8991236090660095, Best epoch: 0\n"
     ]
    },
    {
     "data": {
      "image/png": "[encoded data removed]",
      "text/plain": [
       "<Figure size 640x480 with 1 Axes>"
      ]
     },
     "metadata": {},
     "output_type": "display_data"
    }
   ],
   "source": [
    "# train model for 5000 epochs\n",
    "accs_train, accs_val, aucs, f1_scores, best_fpr, best_tpr, best_auc, best_f1, epoch_best = train_model(model, criterion, optimizer, 'LR', X_train, y_train, X_val, y_val, num_epochs=5000)\n",
    "print(f'Best AUC: {best_auc}, Best F1: {best_f1}, Best epoch: {epoch_best}')\n",
    "#plot accuracies of val and training\n",
    "plt.plot(accs_train, label='Train')\n",
    "plt.plot(accs_val, label='Val')\n",
    "plt.legend()\n",
    "plt.show()"
   ]
  },
  {
   "cell_type": "markdown",
   "metadata": {},
   "source": [
    "## LR with PCA"
   ]
  },
  {
   "cell_type": "code",
   "execution_count": 48,
   "metadata": {},
   "outputs": [],
   "source": [
    "from sklearn.decomposition import PCA"
   ]
  },
  {
   "cell_type": "code",
   "execution_count": 68,
   "metadata": {},
   "outputs": [],
   "source": [
    "#Load dataset, we flatten the images and we put them in a single numpy array in memory of shape (n_images, n_features)\n",
    "X_train = []\n",
    "y_train = []\n",
    "for images, labels in dataloaders[TRAIN]:\n",
    "    images = images.view(-1, n_features)\n",
    "    X_train.append(images)\n",
    "    y_train.append(labels)\n",
    "X_train = torch.cat(X_train, dim=0)\n",
    "y_train = torch.cat(y_train, dim=0)\n",
    "X_val = []\n",
    "y_val = []\n",
    "for images, labels in dataloaders[VAL]:\n",
    "    images = images.view(-1, n_features)\n",
    "    X_val.append(images)\n",
    "    y_val.append(labels)\n",
    "X_val = torch.cat(X_val, dim=0)\n",
    "y_val = torch.cat(y_val, dim=0)"
   ]
  },
  {
   "cell_type": "code",
   "execution_count": 69,
   "metadata": {},
   "outputs": [],
   "source": [
    "# retain only n_componenets feature with highest variance using PCA\n",
    "n_components = 612\n",
    "pca = PCA(n_components=n_components)\n",
    "X_train_pca = pca.fit_transform(X_train.detach().numpy())\n",
    "X_val_pca = pca.transform(X_val.detach().numpy())\n",
    "#transform in tensors\n",
    "X_train_pca = torch.tensor(X_train_pca)\n",
    "X_val_pca = torch.tensor(X_val_pca)\n"
   ]
  },
  {
   "cell_type": "code",
   "execution_count": 70,
   "metadata": {},
   "outputs": [],
   "source": [
    "model = LogisticRegression(X_train_pca.shape[1])\n",
    "# Loss and optimizer\n",
    "learning_rate = 0.001\n",
    "criterion = nn.BCELoss()\n",
    "optimizer = optim.SGD(model.parameters(), lr=learning_rate, momentum=0.9)\n",
    "exp_lr_scheduler = lr_scheduler.StepLR(optimizer, step_size=7, gamma=0.1)"
   ]
  },
  {
   "cell_type": "code",
   "execution_count": 71,
   "metadata": {},
   "outputs": [
    {
     "name": "stdout",
     "output_type": "stream",
     "text": [
      "Epoch: 0, Loss: 0.6955661773681641, Accuracy on val: 0.49657142162323, F1 score on val: 0.5911833047866821, AUC on val: 0.5277632216126797\n",
      "Epoch: 100, Loss: 0.588712215423584, Accuracy on val: 0.8205714225769043, F1 score on val: 0.8776782155036926, AUC on val: 0.86705108197718\n",
      "Epoch: 200, Loss: 0.5190900564193726, Accuracy on val: 0.8668571710586548, F1 score on val: 0.9126686453819275, AUC on val: 0.9130910048496332\n",
      "Epoch: 300, Loss: 0.47199633717536926, Accuracy on val: 0.87628573179245, F1 score on val: 0.9196213483810425, AUC on val: 0.9257229823829655\n",
      "Epoch: 400, Loss: 0.4385039806365967, Accuracy on val: 0.8785714507102966, F1 score on val: 0.9213109612464905, AUC on val: 0.9307343288277461\n",
      "Epoch: 500, Loss: 0.4136194586753845, Accuracy on val: 0.8811428546905518, F1 score on val: 0.9229344129562378, AUC on val: 0.9332972202977645\n",
      "Epoch: 600, Loss: 0.39445069432258606, Accuracy on val: 0.8825713992118835, F1 score on val: 0.9238183498382568, AUC on val: 0.9349200976996055\n",
      "Epoch: 700, Loss: 0.3792444169521332, Accuracy on val: 0.8848571181297302, F1 score on val: 0.9252735376358032, AUC on val: 0.9359893498946654\n",
      "Epoch: 800, Loss: 0.3668886423110962, Accuracy on val: 0.8854285478591919, F1 score on val: 0.9255615472793579, AUC on val: 0.9367976957173356\n",
      "Epoch: 900, Loss: 0.35664892196655273, Accuracy on val: 0.8862857222557068, F1 score on val: 0.9260772466659546, AUC on val: 0.9373674480749926\n",
      "Epoch: 1000, Loss: 0.34802231192588806, Accuracy on val: 0.8854285478591919, F1 score on val: 0.9254785180091858, AUC on val: 0.9378578901975201\n",
      "Epoch: 1100, Loss: 0.34065327048301697, Accuracy on val: 0.8857142925262451, F1 score on val: 0.9256228804588318, AUC on val: 0.9382511275750421\n",
      "Epoch: 1200, Loss: 0.33428382873535156, Accuracy on val: 0.8859999775886536, F1 score on val: 0.9257950186729431, AUC on val: 0.9385683685155599\n",
      "Epoch: 1300, Loss: 0.3287220299243927, Accuracy on val: 0.8874285817146301, F1 score on val: 0.9266294240951538, AUC on val: 0.9388423091605751\n",
      "Epoch: 1400, Loss: 0.3238223195075989, Accuracy on val: 0.8882856965065002, F1 score on val: 0.927147388458252, AUC on val: 0.9390786934268385\n",
      "Epoch: 1500, Loss: 0.31947222352027893, Accuracy on val: 0.8888571262359619, F1 score on val: 0.9275200366973877, AUC on val: 0.9392748702758494\n",
      "Epoch: 1600, Loss: 0.31558334827423096, Accuracy on val: 0.8891428709030151, F1 score on val: 0.9276659488677979, AUC on val: 0.9394600011311098\n",
      "Epoch: 1700, Loss: 0.31208541989326477, Accuracy on val: 0.8891428709030151, F1 score on val: 0.9276119470596313, AUC on val: 0.9396177379218685\n",
      "Epoch: 1800, Loss: 0.3089217245578766, Accuracy on val: 0.8891428709030151, F1 score on val: 0.9276119470596313, AUC on val: 0.9398090545336293\n",
      "Epoch: 1900, Loss: 0.3060460090637207, Accuracy on val: 0.8885714411735535, F1 score on val: 0.9271572828292847, AUC on val: 0.9399645821256379\n",
      "Epoch: 2000, Loss: 0.30342012643814087, Accuracy on val: 0.8891428709030151, F1 score on val: 0.9274765849113464, AUC on val: 0.9400949248518953\n",
      "Epoch: 2100, Loss: 0.3010125458240509, Accuracy on val: 0.8888571262359619, F1 score on val: 0.927276074886322, AUC on val: 0.9402385227706533\n",
      "Epoch: 2200, Loss: 0.298796683549881, Accuracy on val: 0.8888571262359619, F1 score on val: 0.927276074886322, AUC on val: 0.9403423551119092\n",
      "Epoch: 2300, Loss: 0.29675018787384033, Accuracy on val: 0.8885714411735535, F1 score on val: 0.9270755648612976, AUC on val: 0.9404501640109151\n",
      "Epoch: 2400, Loss: 0.29485395550727844, Accuracy on val: 0.8882856965065002, F1 score on val: 0.9268748760223389, AUC on val: 0.9405721117819221\n",
      "Epoch: 2500, Loss: 0.29309165477752686, Accuracy on val: 0.8888571262359619, F1 score on val: 0.9272216558456421, AUC on val: 0.940658270533177\n",
      "Epoch: 2600, Loss: 0.2914493680000305, Accuracy on val: 0.8897143006324768, F1 score on val: 0.9277153611183167, AUC on val: 0.9407594518359327\n",
      "Epoch: 2700, Loss: 0.2899148464202881, Accuracy on val: 0.8899999856948853, F1 score on val: 0.9278891086578369, AUC on val: 0.940858423939938\n",
      "Epoch: 2800, Loss: 0.2884775996208191, Accuracy on val: 0.8899999856948853, F1 score on val: 0.9278621077537537, AUC on val: 0.9409662328389441\n",
      "Epoch: 2900, Loss: 0.28712835907936096, Accuracy on val: 0.8899999856948853, F1 score on val: 0.9278621077537537, AUC on val: 0.9410462058336986\n",
      "Epoch: 3000, Loss: 0.28585904836654663, Accuracy on val: 0.8902857303619385, F1 score on val: 0.9280089735984802, AUC on val: 0.9411169001937025\n",
      "Epoch: 3100, Loss: 0.28466251492500305, Accuracy on val: 0.8905714154243469, F1 score on val: 0.9281830191612244, AUC on val: 0.9411862690344563\n",
      "Epoch: 3200, Loss: 0.2835324704647064, Accuracy on val: 0.8905714154243469, F1 score on val: 0.9281830191612244, AUC on val: 0.941266683868961\n",
      "Epoch: 3300, Loss: 0.28246328234672546, Accuracy on val: 0.8905714154243469, F1 score on val: 0.9281830191612244, AUC on val: 0.94134157570659\n",
      "Epoch: 3400, Loss: 0.2814498841762543, Accuracy on val: 0.8914285898208618, F1 score on val: 0.9287054538726807, AUC on val: 0.9414193395025945\n",
      "Epoch: 3500, Loss: 0.280487984418869, Accuracy on val: 0.8914285898208618, F1 score on val: 0.9287054538726807, AUC on val: 0.9414915803017234\n",
      "Epoch: 3600, Loss: 0.27957335114479065, Accuracy on val: 0.8917142748832703, F1 score on val: 0.9289063811302185, AUC on val: 0.9415538797064771\n",
      "Epoch: 3700, Loss: 0.2787025570869446, Accuracy on val: 0.8914285898208618, F1 score on val: 0.9287320971488953, AUC on val: 0.9416091096752301\n",
      "Epoch: 3800, Loss: 0.2778722941875458, Accuracy on val: 0.8917142748832703, F1 score on val: 0.9289330840110779, AUC on val: 0.9416775948364839\n",
      "Epoch: 3900, Loss: 0.27707961201667786, Accuracy on val: 0.8920000195503235, F1 score on val: 0.9291073083877563, AUC on val: 0.941732382965487\n",
      "Epoch: 4000, Loss: 0.2763218581676483, Accuracy on val: 0.8920000195503235, F1 score on val: 0.9291073083877563, AUC on val: 0.9417960078894905\n",
      "Epoch: 4100, Loss: 0.27559664845466614, Accuracy on val: 0.8920000195503235, F1 score on val: 0.9291073083877563, AUC on val: 0.9418468194607434\n",
      "Epoch: 4200, Loss: 0.27490177750587463, Accuracy on val: 0.8920000195503235, F1 score on val: 0.9291073083877563, AUC on val: 0.9418958636729962\n",
      "Epoch: 4300, Loss: 0.27423521876335144, Accuracy on val: 0.8917142748832703, F1 score on val: 0.9289330840110779, AUC on val: 0.9419528610007495\n",
      "Epoch: 4400, Loss: 0.27359509468078613, Accuracy on val: 0.8920000195503235, F1 score on val: 0.9291338920593262, AUC on val: 0.9420045562515023\n",
      "Epoch: 4500, Loss: 0.27297982573509216, Accuracy on val: 0.8922857046127319, F1 score on val: 0.9293081164360046, AUC on val: 0.9420602280600054\n",
      "Epoch: 4600, Loss: 0.2723877727985382, Accuracy on val: 0.8931428790092468, F1 score on val: 0.9298574924468994, AUC on val: 0.9421022028362578\n",
      "Epoch: 4700, Loss: 0.2718175947666168, Accuracy on val: 0.8934285640716553, F1 score on val: 0.9300581216812134, AUC on val: 0.9421516888882605\n",
      "Epoch: 4800, Loss: 0.2712678909301758, Accuracy on val: 0.8928571343421936, F1 score on val: 0.9296831488609314, AUC on val: 0.9421927799850129\n",
      "Epoch: 4900, Loss: 0.27073755860328674, Accuracy on val: 0.8928571343421936, F1 score on val: 0.9296831488609314, AUC on val: 0.9422325455625149\n",
      "Best AUC: 0.9422789387362676, Best F1: 0.9302064180374146, Best epoch: 4999\n"
     ]
    },
    {
     "data": {
      "image/png": "[encoded data removed]",
      "text/plain": [
       "<Figure size 640x480 with 1 Axes>"
      ]
     },
     "metadata": {},
     "output_type": "display_data"
    }
   ],
   "source": [
    "#Train model using pca features\n",
    "accs_train, accs_val, aucs, f1_scores, best_fpr, best_tpr, best_auc, best_f1, epoch_best = train_model(model, criterion, optimizer, 'LR', X_train_pca, y_train, X_val_pca, y_val, num_epochs=5000)\n",
    "print(f'Best AUC: {best_auc}, Best F1: {best_f1}, Best epoch: {epoch_best}')\n",
    "#plot accuracies of val and training\n",
    "plt.plot(accs_train, label='Train')\n",
    "plt.plot(accs_val, label='Val')\n",
    "plt.legend()\n",
    "plt.show()\n"
   ]
  },
  {
   "cell_type": "markdown",
   "metadata": {},
   "source": [
    "## LR with data standardization and PCA"
   ]
  },
  {
   "cell_type": "code",
   "execution_count": 72,
   "metadata": {},
   "outputs": [],
   "source": [
    "from sklearn.decomposition import PCA"
   ]
  },
  {
   "cell_type": "code",
   "execution_count": 73,
   "metadata": {},
   "outputs": [],
   "source": [
    "X_train = []\n",
    "y_train = []\n",
    "for images, labels in dataloaders[TRAIN]:\n",
    "    \n",
    "    images = images.view(-1, n_features)\n",
    "    X_train.append(images)\n",
    "    y_train.append(labels)\n",
    "X_train = torch.cat(X_train, dim=0)\n",
    "y_train = torch.cat(y_train, dim=0)\n",
    "X_val = []\n",
    "y_val = []\n",
    "for images, labels in dataloaders[VAL]:\n",
    "    images = images.view(-1, n_features)\n",
    "    X_val.append(images)\n",
    "    y_val.append(labels)\n",
    "X_val = torch.cat(X_val, dim=0)\n",
    "y_val = torch.cat(y_val, dim=0)"
   ]
  },
  {
   "cell_type": "code",
   "execution_count": 74,
   "metadata": {},
   "outputs": [
    {
     "name": "stdout",
     "output_type": "stream",
     "text": [
      "(12250, 612)\n",
      "2.3350201772132095e-08\n",
      "0.3217628002166748\n"
     ]
    }
   ],
   "source": [
    "# retain only n_componenets feature with highest variance using PCA\n",
    "n_components = 612\n",
    "pca = PCA(n_components=n_components)\n",
    "X_train_pca = pca.fit_transform(X_train.detach().numpy())\n",
    "X_val_pca = pca.transform(X_val.detach().numpy())\n",
    "#transform in tensors\n",
    "print(X_train_pca.shape)\n",
    "X_train_pca = torch.tensor(X_train_pca)\n",
    "X_val_pca = torch.tensor(X_val_pca)\n",
    "\n",
    "#compute mean of X_train_pca\n",
    "mean = X_train_pca.mean().item()\n",
    "std = X_train_pca.std().item()\n",
    "\n",
    "print(mean)\n",
    "print(std)\n",
    "\n",
    "#standardize X_train_pca and X_val_pca using mean and std\n",
    "X_train_pca = (X_train_pca - mean) / std\n",
    "X_val_pca = (X_val_pca - mean) / std\n"
   ]
  },
  {
   "cell_type": "code",
   "execution_count": 75,
   "metadata": {},
   "outputs": [],
   "source": [
    "\n",
    "model = LogisticRegression(X_train_pca.shape[1])\n",
    "# Loss and optimizer\n",
    "learning_rate = 0.001\n",
    "criterion = nn.BCELoss()\n",
    "optimizer = optim.SGD(model.parameters(), lr=learning_rate, momentum=0.9)\n",
    "exp_lr_scheduler = lr_scheduler.StepLR(optimizer, step_size=7, gamma=0.1)"
   ]
  },
  {
   "cell_type": "code",
   "execution_count": 76,
   "metadata": {},
   "outputs": [
    {
     "name": "stdout",
     "output_type": "stream",
     "text": [
      "Epoch: 0, Loss: 0.6855040788650513, Accuracy on val: 0.5868571400642395, F1 score on val: 0.6619915962219238, AUC on val: 0.6688972210047083\n",
      "Epoch: 100, Loss: 0.4721888601779938, Accuracy on val: 0.8048571348190308, F1 score on val: 0.8547117114067078, AUC on val: 0.9318837749374353\n",
      "Epoch: 200, Loss: 0.41601264476776123, Accuracy on val: 0.8382856845855713, F1 score on val: 0.8828157186508179, AUC on val: 0.9385034180723063\n",
      "Epoch: 300, Loss: 0.38225898146629333, Accuracy on val: 0.8574285507202148, F1 score on val: 0.8984740376472473, AUC on val: 0.9408703536131888\n",
      "Epoch: 400, Loss: 0.3580951988697052, Accuracy on val: 0.8711428642272949, F1 score on val: 0.9095285534858704, AUC on val: 0.9422449170755157\n",
      "Epoch: 500, Loss: 0.3398453891277313, Accuracy on val: 0.8794285655021667, F1 score on val: 0.9160031676292419, AUC on val: 0.9431493630438162\n",
      "Epoch: 600, Loss: 0.3256436586380005, Accuracy on val: 0.8857142925262451, F1 score on val: 0.9209798574447632, AUC on val: 0.9437617529373508\n",
      "Epoch: 700, Loss: 0.3143343925476074, Accuracy on val: 0.8908571600914001, F1 score on val: 0.9250097870826721, AUC on val: 0.9441731057446237\n",
      "Epoch: 800, Loss: 0.3051489591598511, Accuracy on val: 0.8945714235305786, F1 score on val: 0.9279999732971191, AUC on val: 0.944498962560267\n",
      "Epoch: 900, Loss: 0.2975578308105469, Accuracy on val: 0.8968571424484253, F1 score on val: 0.9298620820045471, AUC on val: 0.9447497066184061\n",
      "Epoch: 1000, Loss: 0.291187584400177, Accuracy on val: 0.8977142572402954, F1 score on val: 0.9307275414466858, AUC on val: 0.9449078852489147\n",
      "Epoch: 1100, Loss: 0.2857690453529358, Accuracy on val: 0.8977142572402954, F1 score on val: 0.9309147000312805, AUC on val: 0.9450938997836752\n",
      "Epoch: 1200, Loss: 0.28110435605049133, Accuracy on val: 0.8988571166992188, F1 score on val: 0.9318444132804871, AUC on val: 0.9452065689199316\n",
      "Epoch: 1300, Loss: 0.27704575657844543, Accuracy on val: 0.8988571166992188, F1 score on val: 0.9320275783538818, AUC on val: 0.9452878674339362\n",
      "Epoch: 1400, Loss: 0.2734808325767517, Accuracy on val: 0.899142861366272, F1 score on val: 0.9323624968528748, AUC on val: 0.9453713751466908\n",
      "Epoch: 1500, Loss: 0.27032271027565, Accuracy on val: 0.8997142910957336, F1 score on val: 0.9328229427337646, AUC on val: 0.9454769748469467\n",
      "Epoch: 1600, Loss: 0.2675035893917084, Accuracy on val: 0.899142861366272, F1 score on val: 0.9324918389320374, AUC on val: 0.9455587152007013\n",
      "Epoch: 1700, Loss: 0.26496973633766174, Accuracy on val: 0.8997142910957336, F1 score on val: 0.9329769015312195, AUC on val: 0.9456285258812052\n",
      "Epoch: 1800, Loss: 0.26267796754837036, Accuracy on val: 0.8999999761581421, F1 score on val: 0.9332062005996704, AUC on val: 0.9456735935357077\n",
      "Epoch: 1900, Loss: 0.26059338450431824, Accuracy on val: 0.8997142910957336, F1 score on val: 0.9330536127090454, AUC on val: 0.9457257306262107\n",
      "Epoch: 2000, Loss: 0.2586875259876251, Accuracy on val: 0.9002857208251953, F1 score on val: 0.9334604740142822, AUC on val: 0.945765054363963\n",
      "Epoch: 2100, Loss: 0.25693678855895996, Accuracy on val: 0.8997142910957336, F1 score on val: 0.9331046342849731, AUC on val: 0.945819400653216\n",
      "Epoch: 2200, Loss: 0.2553216814994812, Accuracy on val: 0.8994285464286804, F1 score on val: 0.9329267740249634, AUC on val: 0.945856957031968\n",
      "Epoch: 2300, Loss: 0.25382566452026367, Accuracy on val: 0.8994285464286804, F1 score on val: 0.9329779148101807, AUC on val: 0.9458843510964696\n",
      "Epoch: 2400, Loss: 0.25243493914604187, Accuracy on val: 0.8997142910957336, F1 score on val: 0.9331810474395752, AUC on val: 0.94589230421197\n",
      "Epoch: 2500, Loss: 0.25113776326179504, Accuracy on val: 0.8999999761581421, F1 score on val: 0.933384120464325, AUC on val: 0.9459068849237209\n",
      "Epoch: 2600, Loss: 0.2499239146709442, Accuracy on val: 0.8999999761581421, F1 score on val: 0.9334093928337097, AUC on val: 0.9459444413024727\n",
      "Epoch: 2700, Loss: 0.248785138130188, Accuracy on val: 0.8999999761581421, F1 score on val: 0.933434784412384, AUC on val: 0.9459572546552235\n",
      "Epoch: 2800, Loss: 0.24771349132061005, Accuracy on val: 0.8994285464286804, F1 score on val: 0.9330543875694275, AUC on val: 0.9459687424887242\n",
      "Epoch: 2900, Loss: 0.24670280516147614, Accuracy on val: 0.899142861366272, F1 score on val: 0.9328770041465759, AUC on val: 0.945963440411724\n",
      "Epoch: 3000, Loss: 0.2457474321126938, Accuracy on val: 0.8994285464286804, F1 score on val: 0.9331052899360657, AUC on val: 0.945966091450224\n",
      "Epoch: 3100, Loss: 0.24484220147132874, Accuracy on val: 0.8994285464286804, F1 score on val: 0.9331052899360657, AUC on val: 0.9459926018352256\n",
      "Epoch: 3200, Loss: 0.24398276209831238, Accuracy on val: 0.9002857208251953, F1 score on val: 0.9337131977081299, AUC on val: 0.9460054151879763\n",
      "Epoch: 3300, Loss: 0.24316546320915222, Accuracy on val: 0.9002857208251953, F1 score on val: 0.9337131977081299, AUC on val: 0.9460314837332277\n",
      "Epoch: 3400, Loss: 0.24238668382167816, Accuracy on val: 0.8999999761581421, F1 score on val: 0.9335106015205383, AUC on val: 0.946055343079729\n",
      "Epoch: 3500, Loss: 0.24164365231990814, Accuracy on val: 0.9002857208251953, F1 score on val: 0.9337131977081299, AUC on val: 0.9460831789839805\n",
      "Epoch: 3600, Loss: 0.24093350768089294, Accuracy on val: 0.8999999761581421, F1 score on val: 0.9335106015205383, AUC on val: 0.9461127822472323\n",
      "Epoch: 3700, Loss: 0.24025368690490723, Accuracy on val: 0.8997142910957336, F1 score on val: 0.9333333969116211, AUC on val: 0.9461207353627328\n",
      "Epoch: 3800, Loss: 0.23960180580615997, Accuracy on val: 0.9002857208251953, F1 score on val: 0.9337383508682251, AUC on val: 0.946123828240983\n",
      "Epoch: 3900, Loss: 0.2389764040708542, Accuracy on val: 0.8999999761581421, F1 score on val: 0.9335358738899231, AUC on val: 0.9461225027217328\n",
      "Epoch: 4000, Loss: 0.23837557435035706, Accuracy on val: 0.8999999761581421, F1 score on val: 0.9335358738899231, AUC on val: 0.9461339905552335\n",
      "Epoch: 4100, Loss: 0.23779767751693726, Accuracy on val: 0.9005714058876038, F1 score on val: 0.9339407682418823, AUC on val: 0.9461264792794832\n",
      "Epoch: 4200, Loss: 0.23724015057086945, Accuracy on val: 0.9005714058876038, F1 score on val: 0.9339407682418823, AUC on val: 0.9461229445614829\n",
      "Epoch: 4300, Loss: 0.23670437932014465, Accuracy on val: 0.9011428356170654, F1 score on val: 0.9343453645706177, AUC on val: 0.9461406181514839\n",
      "Epoch: 4400, Loss: 0.2361861914396286, Accuracy on val: 0.900857150554657, F1 score on val: 0.9341681003570557, AUC on val: 0.9461410599912341\n",
      "Epoch: 4500, Loss: 0.23568634688854218, Accuracy on val: 0.900857150554657, F1 score on val: 0.9341681003570557, AUC on val: 0.9461600591004851\n",
      "Epoch: 4600, Loss: 0.23520269989967346, Accuracy on val: 0.8999999761581421, F1 score on val: 0.9336115717887878, AUC on val: 0.9461724306134857\n",
      "Epoch: 4700, Loss: 0.23473547399044037, Accuracy on val: 0.9002857208251953, F1 score on val: 0.9337886571884155, AUC on val: 0.9461724306134855\n",
      "Epoch: 4800, Loss: 0.23428232967853546, Accuracy on val: 0.9005714058876038, F1 score on val: 0.9339908957481384, AUC on val: 0.9461669076166104\n",
      "Epoch: 4900, Loss: 0.2338438630104065, Accuracy on val: 0.9002857208251953, F1 score on val: 0.933813750743866, AUC on val: 0.9461631519787352\n",
      "Best AUC: 0.946176849010986, Best F1: 0.9345475435256958, Best epoch: 4609\n"
     ]
    },
    {
     "data": {
      "image/png": "[encoded data removed]",
      "text/plain": [
       "<Figure size 640x480 with 1 Axes>"
      ]
     },
     "metadata": {},
     "output_type": "display_data"
    }
   ],
   "source": [
    "\n",
    "#Train model using pca features\n",
    "accs_train, accs_val, aucs, f1_scores, best_fpr, best_tpr, best_auc, best_f1, epoch_best = train_model(model, criterion, optimizer, 'LR', X_train_pca, y_train, X_val_pca, y_val, num_epochs=5000)\n",
    "print(f'Best AUC: {best_auc}, Best F1: {best_f1}, Best epoch: {epoch_best}')\n",
    "#plot accuracies of val and training\n",
    "plt.plot(accs_train, label='Train')\n",
    "plt.plot(accs_val, label='Val')\n",
    "plt.legend()\n",
    "plt.show()\n"
   ]
  },
  {
   "cell_type": "code",
   "execution_count": 103,
   "metadata": {},
   "outputs": [],
   "source": [
    "# show memory occupation of the model\n",
    "# save model on memory\n",
    "torch.save(model, '../../../data/LRmodel.pth')"
   ]
  },
  {
   "cell_type": "code",
   "execution_count": 119,
   "metadata": {},
   "outputs": [
    {
     "name": "stdout",
     "output_type": "stream",
     "text": [
      "----------------------  ------------  ------------  ------------  ------------  ------------  ------------  ------------  ------------  \n",
      "                  Name    Self CPU %      Self CPU   CPU total %     CPU total  CPU time avg       CPU Mem  Self CPU Mem    # of Calls  \n",
      "----------------------  ------------  ------------  ------------  ------------  ------------  ------------  ------------  ------------  \n",
      "       model_inference        16.30%     231.000us       100.00%       1.417ms       1.417ms           0 b     -34.16 Kb             1  \n",
      "          aten::linear         1.13%      16.000us        80.24%       1.137ms       1.137ms      17.08 Kb           0 b             1  \n",
      "           aten::addmm        72.90%       1.033ms        75.37%       1.068ms       1.068ms      17.08 Kb      17.08 Kb             1  \n",
      "               aten::t         2.26%      32.000us         3.74%      53.000us      53.000us           0 b           0 b             1  \n",
      "         aten::sigmoid         3.46%      49.000us         3.46%      49.000us      49.000us      17.08 Kb      17.08 Kb             1  \n",
      "           aten::copy_         1.62%      23.000us         1.62%      23.000us      23.000us           0 b           0 b             1  \n",
      "       aten::transpose         1.13%      16.000us         1.48%      21.000us      21.000us           0 b           0 b             1  \n",
      "          aten::expand         0.71%      10.000us         0.85%      12.000us      12.000us           0 b           0 b             1  \n",
      "      aten::as_strided         0.49%       7.000us         0.49%       7.000us       3.500us           0 b           0 b             2  \n",
      "    aten::resolve_conj         0.00%       0.000us         0.00%       0.000us       0.000us           0 b           0 b             2  \n",
      "----------------------  ------------  ------------  ------------  ------------  ------------  ------------  ------------  ------------  \n",
      "Self CPU time total: 1.417ms\n",
      "\n"
     ]
    },
    {
     "name": "stderr",
     "output_type": "stream",
     "text": [
      "STAGE:2024-05-01 18:26:34 131981:131981 ActivityProfilerController.cpp:314] Completed Stage: Warm Up\n",
      "STAGE:2024-05-01 18:26:34 131981:131981 ActivityProfilerController.cpp:320] Completed Stage: Collection\n",
      "STAGE:2024-05-01 18:26:34 131981:131981 ActivityProfilerController.cpp:324] Completed Stage: Post Processing\n"
     ]
    }
   ],
   "source": [
    "from torch.profiler import profile, record_function, ProfilerActivity\n",
    "with profile(activities=[ProfilerActivity.CPU], profile_memory=True, record_shapes=True) as prof:\n",
    "    with record_function(\"model_inference\"):\n",
    "        model(X_val_pca)\n",
    "\n",
    "print(prof.key_averages().table(sort_by=\"cpu_time_total\", row_limit=10))"
   ]
  },
  {
   "cell_type": "markdown",
   "metadata": {},
   "source": [
    "## LR with PCA, normalization and histogram equalization"
   ]
  },
  {
   "cell_type": "code",
   "execution_count": 77,
   "metadata": {},
   "outputs": [],
   "source": [
    "from sklearn.decomposition import PCA"
   ]
  },
  {
   "cell_type": "code",
   "execution_count": 78,
   "metadata": {},
   "outputs": [],
   "source": [
    "data_dir = '../../../data/train/train'\n",
    "csv_file = '../../../data/train.csv'\n",
    "TRAIN = 'train'\n",
    "VAL = 'val'\n",
    "TEST = 'test'\n",
    "\n",
    "#set the transforms for the images\n",
    "data_transforms = transforms.Compose([\n",
    "    transforms.RandomEqualize(p=1),\n",
    "    transforms.ToTensor(),\n",
    "])\n",
    "\n",
    "\n",
    "torch.manual_seed(42)\n",
    "image_dataset = CactusDataset.CactusDataset(csv_file, data_dir, data_transforms)\n",
    "# split into train, eval, test\n",
    "train_size = int(0.7 * len(image_dataset))\n",
    "eval_size = int(0.2 * len(image_dataset))\n",
    "test_size = len(image_dataset) - train_size - eval_size\n",
    "train_dataset, eval_dataset, test_dataset = torch.utils.data.random_split(image_dataset, [train_size, eval_size, test_size])\n"
   ]
  },
  {
   "cell_type": "code",
   "execution_count": 79,
   "metadata": {},
   "outputs": [],
   "source": [
    "X_train = []\n",
    "y_train = []\n",
    "dataloader = DataLoader(train_dataset, batch_size=train_size, shuffle=True, num_workers=0)\n",
    "for images, labels in dataloader:\n",
    "    images = images.view(-1, n_features)\n",
    "    X_train.append(images)\n",
    "    y_train.append(labels)\n",
    "X_train = torch.cat(X_train, dim=0)\n",
    "y_train = torch.cat(y_train, dim=0)\n",
    "X_val = []\n",
    "y_val = []\n",
    "dataloader = DataLoader(eval_dataset, batch_size=eval_size, shuffle=False, num_workers=0)\n",
    "for images, labels in dataloader:\n",
    "    images = images.view(-1, n_features)\n",
    "    X_val.append(images)\n",
    "    y_val.append(labels)\n",
    "X_val = torch.cat(X_val, dim=0)\n",
    "y_val = torch.cat(y_val, dim=0)"
   ]
  },
  {
   "cell_type": "code",
   "execution_count": 80,
   "metadata": {},
   "outputs": [
    {
     "data": {
      "image/png": "[encoded data removed]",
      "text/plain": [
       "<Figure size 640x480 with 1 Axes>"
      ]
     },
     "metadata": {},
     "output_type": "display_data"
    },
    {
     "name": "stdout",
     "output_type": "stream",
     "text": [
      "Number of components for 95% variance:  1017\n",
      "(12250, 1017)\n",
      "-1.664250071087281e-08\n",
      "0.5086983442306519\n"
     ]
    }
   ],
   "source": [
    "pca = PCA(n_components=X_train.shape[1])\n",
    "pca.fit(X_train)\n",
    "#plot number of features vs explained variance\n",
    "plt.plot(np.cumsum(pca.explained_variance_ratio_))\n",
    "plt.xlabel('number of components')\n",
    "plt.ylabel('cumulative explained variance')\n",
    "n_components = np.argmax(np.cumsum(pca.explained_variance_ratio_) > 0.99)\n",
    "plt.scatter(n_components, 0.99, color='r')\n",
    "plt.text(n_components, 0.99, '({}, {})'.format(n_components, 0.99), color='black')\n",
    "\n",
    "plt.show()\n",
    "\n",
    "#print n_components for 95% variance\n",
    "n_components = np.argmax(np.cumsum(pca.explained_variance_ratio_) > 0.99)\n",
    "print('Number of components for 95% variance: ', n_components)\n",
    "\n",
    "# retain only n_componenets feature with highest variance using PCA\n",
    "pca = PCA(n_components=n_components)\n",
    "X_train_pca = pca.fit_transform(X_train.detach().numpy())\n",
    "X_val_pca = pca.transform(X_val.detach().numpy())\n",
    "#transform in tensors\n",
    "print(X_train_pca.shape)\n",
    "X_train_pca = torch.tensor(X_train_pca)\n",
    "X_val_pca = torch.tensor(X_val_pca)\n",
    "\n",
    "#compute mean of X_train_pca\n",
    "mean = X_train_pca.mean().item()\n",
    "std = X_train_pca.std().item()\n",
    "\n",
    "print(mean)\n",
    "print(std)\n",
    "\n",
    "#standardize X_train_pca and X_val_pca using mean and std\n",
    "X_train_pca = (X_train_pca - mean) / std\n",
    "X_val_pca = (X_val_pca - mean) / std\n"
   ]
  },
  {
   "cell_type": "code",
   "execution_count": 81,
   "metadata": {},
   "outputs": [],
   "source": [
    "model = LogisticRegression(X_train_pca.shape[1])\n",
    "# Loss and optimizer\n",
    "learning_rate = 0.001\n",
    "criterion = nn.BCELoss()\n",
    "optimizer = optim.SGD(model.parameters(), lr=learning_rate, momentum=0.9)\n",
    "exp_lr_scheduler = lr_scheduler.StepLR(optimizer, step_size=7, gamma=0.1)"
   ]
  },
  {
   "cell_type": "code",
   "execution_count": 82,
   "metadata": {},
   "outputs": [
    {
     "name": "stdout",
     "output_type": "stream",
     "text": [
      "Epoch: 0, Loss: 0.7499816417694092, Accuracy on val: 0.4837142825126648, F1 score on val: 0.5856454968452454, AUC on val: 0.47189346890155104\n",
      "Epoch: 100, Loss: 0.5748289227485657, Accuracy on val: 0.7002857327461243, F1 score on val: 0.777045726776123, AUC on val: 0.7806742828057177\n",
      "Epoch: 200, Loss: 0.519709050655365, Accuracy on val: 0.7480000257492065, F1 score on val: 0.8218181729316711, AUC on val: 0.8056479491566163\n",
      "Epoch: 300, Loss: 0.48377543687820435, Accuracy on val: 0.7722856998443604, F1 score on val: 0.8443055748939514, AUC on val: 0.8176765945112899\n",
      "Epoch: 400, Loss: 0.4584314525127411, Accuracy on val: 0.7848571538925171, F1 score on val: 0.8562153577804565, AUC on val: 0.8258431186109972\n",
      "Epoch: 500, Loss: 0.43975383043289185, Accuracy on val: 0.7925714254379272, F1 score on val: 0.8633282780647278, AUC on val: 0.8318331401020826\n",
      "Epoch: 600, Loss: 0.4254907965660095, Accuracy on val: 0.7994285821914673, F1 score on val: 0.8691763281822205, AUC on val: 0.8364821779518429\n",
      "Epoch: 700, Loss: 0.4142637252807617, Accuracy on val: 0.8040000200271606, F1 score on val: 0.8731508851051331, AUC on val: 0.8401145425367964\n",
      "Epoch: 800, Loss: 0.40519484877586365, Accuracy on val: 0.8100000023841858, F1 score on val: 0.8776448965072632, AUC on val: 0.8431384937859657\n",
      "Epoch: 900, Loss: 0.39770570397377014, Accuracy on val: 0.8119999766349792, F1 score on val: 0.8793546557426453, AUC on val: 0.8455668450521018\n",
      "Epoch: 1000, Loss: 0.39140385389328003, Accuracy on val: 0.8140000104904175, F1 score on val: 0.8808347582817078, AUC on val: 0.8476134467742162\n",
      "Epoch: 1100, Loss: 0.38601547479629517, Accuracy on val: 0.8188571333885193, F1 score on val: 0.8841797709465027, AUC on val: 0.8495358915265739\n",
      "Epoch: 1200, Loss: 0.38134461641311646, Accuracy on val: 0.8222857117652893, F1 score on val: 0.8867443799972534, AUC on val: 0.8511516994924146\n",
      "Epoch: 1300, Loss: 0.3772479295730591, Accuracy on val: 0.8231428861618042, F1 score on val: 0.8874340057373047, AUC on val: 0.8525236119162414\n",
      "Epoch: 1400, Loss: 0.3736182749271393, Accuracy on val: 0.8251428604125977, F1 score on val: 0.8887677192687988, AUC on val: 0.8537802041653118\n",
      "Epoch: 1500, Loss: 0.3703739643096924, Accuracy on val: 0.8254285454750061, F1 score on val: 0.8890100121498108, AUC on val: 0.8549568234196275\n",
      "Epoch: 1600, Loss: 0.36745208501815796, Accuracy on val: 0.8259999752044678, F1 score on val: 0.8893733024597168, AUC on val: 0.8560450747239385\n",
      "Epoch: 1700, Loss: 0.36480268836021423, Accuracy on val: 0.8271428346633911, F1 score on val: 0.8900998830795288, AUC on val: 0.8570219824112433\n",
      "Epoch: 1800, Loss: 0.36238616704940796, Accuracy on val: 0.8282856941223145, F1 score on val: 0.890866219997406, AUC on val: 0.8578871046417916\n",
      "Epoch: 1900, Loss: 0.3601705729961395, Accuracy on val: 0.8291428685188293, F1 score on val: 0.8913911581039429, AUC on val: 0.8586704865185855\n",
      "Epoch: 2000, Loss: 0.3581296503543854, Accuracy on val: 0.8277142643928528, F1 score on val: 0.8905029892921448, AUC on val: 0.8594220559333776\n",
      "Epoch: 2100, Loss: 0.35624179244041443, Accuracy on val: 0.8271428346633911, F1 score on val: 0.8900600075721741, AUC on val: 0.8601042565074158\n",
      "Epoch: 2200, Loss: 0.35448887944221497, Accuracy on val: 0.8277142643928528, F1 score on val: 0.8903836011886597, AUC on val: 0.8607310061928259\n",
      "Epoch: 2300, Loss: 0.35285574197769165, Accuracy on val: 0.828000009059906, F1 score on val: 0.8904657363891602, AUC on val: 0.8613694646316117\n",
      "Epoch: 2400, Loss: 0.3513292372226715, Accuracy on val: 0.8288571238517761, F1 score on val: 0.8909918069839478, AUC on val: 0.8619449609060188\n",
      "Epoch: 2500, Loss: 0.3498987555503845, Accuracy on val: 0.829714298248291, F1 score on val: 0.8915179967880249, AUC on val: 0.8624632389327979\n",
      "Epoch: 2600, Loss: 0.34855470061302185, Accuracy on val: 0.8299999833106995, F1 score on val: 0.8917197585105896, AUC on val: 0.8629678199273262\n",
      "Epoch: 2700, Loss: 0.34728845953941345, Accuracy on val: 0.8302857279777527, F1 score on val: 0.8919606804847717, AUC on val: 0.8634516344536033\n",
      "Epoch: 2800, Loss: 0.3460932672023773, Accuracy on val: 0.8299999833106995, F1 score on val: 0.8917984962463379, AUC on val: 0.8639193218290044\n",
      "Epoch: 2900, Loss: 0.3449626863002777, Accuracy on val: 0.8305714130401611, F1 score on val: 0.8921229243278503, AUC on val: 0.8643154311649017\n",
      "Epoch: 3000, Loss: 0.34389111399650574, Accuracy on val: 0.8305714130401611, F1 score on val: 0.8921622037887573, AUC on val: 0.8646918786319228\n",
      "Epoch: 3100, Loss: 0.34287384152412415, Accuracy on val: 0.8308571577072144, F1 score on val: 0.8922852873802185, AUC on val: 0.8650621403424434\n",
      "Epoch: 3200, Loss: 0.34190675616264343, Accuracy on val: 0.8317142724990845, F1 score on val: 0.8928896188735962, AUC on val: 0.8654359367709644\n",
      "Epoch: 3300, Loss: 0.34098535776138306, Accuracy on val: 0.8337143063545227, F1 score on val: 0.8940276503562927, AUC on val: 0.8658002336448598\n",
      "Epoch: 3400, Loss: 0.340106338262558, Accuracy on val: 0.8354285955429077, F1 score on val: 0.895005464553833, AUC on val: 0.8661389038132539\n",
      "Epoch: 3500, Loss: 0.33926746249198914, Accuracy on val: 0.8360000252723694, F1 score on val: 0.895331859588623, AUC on val: 0.8664495171575213\n",
      "Epoch: 3600, Loss: 0.33846357464790344, Accuracy on val: 0.8360000252723694, F1 score on val: 0.8952937722206116, AUC on val: 0.8667468753092877\n",
      "Epoch: 3700, Loss: 0.33769458532333374, Accuracy on val: 0.8374285697937012, F1 score on val: 0.8962246775627136, AUC on val: 0.8670398150635542\n",
      "Epoch: 3800, Loss: 0.33695822954177856, Accuracy on val: 0.8379999995231628, F1 score on val: 0.8965517282485962, AUC on val: 0.8672850361248181\n",
      "Epoch: 3900, Loss: 0.33625203371047974, Accuracy on val: 0.838857114315033, F1 score on val: 0.8970050811767578, AUC on val: 0.8675660462058339\n",
      "Epoch: 4000, Loss: 0.3355707824230194, Accuracy on val: 0.8394285440444946, F1 score on val: 0.8973329067230225, AUC on val: 0.867819883142223\n",
      "Epoch: 4100, Loss: 0.33491814136505127, Accuracy on val: 0.8399999737739563, F1 score on val: 0.897698163986206, AUC on val: 0.8680741619183621\n",
      "Epoch: 4200, Loss: 0.3342885971069336, Accuracy on val: 0.8397142887115479, F1 score on val: 0.8975342512130737, AUC on val: 0.8683202666591259\n",
      "Epoch: 4300, Loss: 0.3336839973926544, Accuracy on val: 0.8391428589820862, F1 score on val: 0.8970937728881836, AUC on val: 0.8685394191751381\n",
      "Epoch: 4400, Loss: 0.33310073614120483, Accuracy on val: 0.8399999737739563, F1 score on val: 0.8976233601570129, AUC on val: 0.8687568043321504\n",
      "Epoch: 4500, Loss: 0.3325349688529968, Accuracy on val: 0.8397142887115479, F1 score on val: 0.8974218368530273, AUC on val: 0.8689642480947869\n",
      "Epoch: 4600, Loss: 0.331993043422699, Accuracy on val: 0.8397142887115479, F1 score on val: 0.8974218368530273, AUC on val: 0.8691739010561738\n",
      "Epoch: 4700, Loss: 0.3314684331417084, Accuracy on val: 0.8394285440444946, F1 score on val: 0.8971825838088989, AUC on val: 0.869393937251686\n",
      "Epoch: 4800, Loss: 0.3309533894062042, Accuracy on val: 0.8394285440444946, F1 score on val: 0.8971825838088989, AUC on val: 0.8696378327936998\n",
      "Epoch: 4900, Loss: 0.33046531677246094, Accuracy on val: 0.8397142887115479, F1 score on val: 0.8973467350006104, AUC on val: 0.8698485903544615\n",
      "Best AUC: 0.8700315120109718, Best F1: 0.897698163986206, Best epoch: 4999\n"
     ]
    },
    {
     "data": {
      "image/png": "[encoded data removed]",
      "text/plain": [
       "<Figure size 640x480 with 1 Axes>"
      ]
     },
     "metadata": {},
     "output_type": "display_data"
    }
   ],
   "source": [
    "#Train model using pca features\n",
    "accs_train, accs_val, aucs, f1_scores, best_fpr, best_tpr, best_auc, best_f1, epoch_best = train_model(model, criterion, optimizer, 'LR', X_train_pca, y_train, X_val_pca, y_val, num_epochs=5000)\n",
    "print(f'Best AUC: {best_auc}, Best F1: {best_f1}, Best epoch: {epoch_best}')\n",
    "#plot accuracies of val and training\n",
    "plt.plot(accs_train, label='Train')\n",
    "plt.plot(accs_val, label='Val')\n",
    "plt.legend()\n",
    "plt.show()\n"
   ]
  },
  {
   "cell_type": "markdown",
   "metadata": {},
   "source": [
    "## LR with oversampling"
   ]
  },
  {
   "cell_type": "code",
   "execution_count": 83,
   "metadata": {},
   "outputs": [],
   "source": [
    "from sklearn.decomposition import PCA"
   ]
  },
  {
   "cell_type": "code",
   "execution_count": 84,
   "metadata": {},
   "outputs": [
    {
     "name": "stdout",
     "output_type": "stream",
     "text": [
      "{1: 13136, 0: 4364}\n",
      "21864\n",
      "{1: 13136, 0: 8728}\n"
     ]
    }
   ],
   "source": [
    "data_dir = '../../../data/train/train'\n",
    "csv_file = '../../../data/train.csv'\n",
    "TRAIN = 'train'\n",
    "VAL = 'val'\n",
    "TEST = 'test'\n",
    "\n",
    "#set the transforms for the images\n",
    "data_transforms = transforms.Compose([\n",
    "    transforms.RandomHorizontalFlip(),\n",
    "    transforms.RandomRotation(30),\n",
    "    transforms.ToTensor(),\n",
    "])\n",
    "\n",
    "\n",
    "torch.manual_seed(42)\n",
    "image_dataset = CactusDataset.CactusDataset(csv_file, data_dir, data_transforms)\n",
    "print(image_dataset.get_class_distribution())\n",
    "\n",
    "\n",
    "image_dataset.oversample()\n",
    "print(len(image_dataset))\n",
    "\n",
    "# print number of classes\n",
    "print(image_dataset.get_class_distribution())\n",
    "\n",
    "# split into train, eval, test\n",
    "train_size = int(0.7 * len(image_dataset))\n",
    "eval_size = int(0.2 * len(image_dataset))\n",
    "test_size = len(image_dataset) - train_size - eval_size\n",
    "train_dataset, eval_dataset, test_dataset = torch.utils.data.random_split(image_dataset, [train_size, eval_size, test_size])\n",
    "\n",
    "n_features = 32 * 32 * 3"
   ]
  },
  {
   "cell_type": "code",
   "execution_count": 85,
   "metadata": {},
   "outputs": [],
   "source": [
    "X_train = []\n",
    "y_train = []\n",
    "dataloader = DataLoader(train_dataset, batch_size=train_size, shuffle=True, num_workers=0)\n",
    "for images, labels in dataloader:\n",
    "    images = images.view(-1, n_features)\n",
    "    X_train.append(images)\n",
    "    y_train.append(labels)\n",
    "X_train = torch.cat(X_train, dim=0)\n",
    "y_train = torch.cat(y_train, dim=0)\n",
    "X_val = []\n",
    "y_val = []\n",
    "dataloader = DataLoader(eval_dataset, batch_size=eval_size, shuffle=False, num_workers=0)\n",
    "for images, labels in dataloader:\n",
    "    images = images.view(-1, n_features)\n",
    "    X_val.append(images)\n",
    "    y_val.append(labels)\n",
    "X_val = torch.cat(X_val, dim=0)\n",
    "y_val = torch.cat(y_val, dim=0)\n",
    "n_features = X_train.shape[1]"
   ]
  },
  {
   "cell_type": "code",
   "execution_count": 86,
   "metadata": {},
   "outputs": [],
   "source": [
    "# retain only n_componenets feature with highest variance using PCA\n",
    "n_components = 612\n",
    "pca = PCA(n_components=n_components)\n",
    "X_train_pca = pca.fit_transform(X_train.detach().numpy())\n",
    "X_val_pca = pca.transform(X_val.detach().numpy())\n",
    "#transform in tensors\n",
    "X_train_pca = torch.tensor(X_train_pca)\n",
    "X_val_pca = torch.tensor(X_val_pca)\n",
    "\n",
    "#Standardize\n",
    "mean = X_train_pca.mean().item()\n",
    "std = X_train_pca.std().item()\n",
    "X_train_pca = (X_train_pca - mean) / std\n",
    "X_val_pca = (X_val_pca - mean) / std"
   ]
  },
  {
   "cell_type": "code",
   "execution_count": 88,
   "metadata": {},
   "outputs": [],
   "source": [
    "#instantiate model\n",
    "model = LogisticRegression(n_components)\n",
    "# Loss and optimizer\n",
    "learning_rate = 0.001\n",
    "criterion = nn.BCELoss()\n",
    "optimizer = optim.SGD(model.parameters(), lr=learning_rate, momentum=0.9)\n",
    "exp_lr_scheduler = lr_scheduler.StepLR(optimizer, step_size=7, gamma=0.1)"
   ]
  },
  {
   "cell_type": "code",
   "execution_count": 89,
   "metadata": {},
   "outputs": [
    {
     "name": "stdout",
     "output_type": "stream",
     "text": [
      "Epoch: 0, Loss: 0.6951662302017212, Accuracy on val: 0.5718206763267517, F1 score on val: 0.6236429214477539, AUC on val: 0.6036461023717044\n",
      "Epoch: 100, Loss: 0.4250999391078949, Accuracy on val: 0.8408051133155823, F1 score on val: 0.8559006452560425, AUC on val: 0.9193651442125517\n",
      "Epoch: 200, Loss: 0.37346339225769043, Accuracy on val: 0.8481244444847107, F1 score on val: 0.8635429739952087, AUC on val: 0.9284148509616349\n",
      "Epoch: 300, Loss: 0.3516766428947449, Accuracy on val: 0.8533851504325867, F1 score on val: 0.8692103624343872, AUC on val: 0.9312423943351572\n",
      "Epoch: 400, Loss: 0.33895882964134216, Accuracy on val: 0.85773104429245, F1 score on val: 0.8739359378814697, AUC on val: 0.9325962788971709\n",
      "Epoch: 500, Loss: 0.33031460642814636, Accuracy on val: 0.8607044816017151, F1 score on val: 0.8770442605018616, AUC on val: 0.9334179302487036\n",
      "Epoch: 600, Loss: 0.32391488552093506, Accuracy on val: 0.863449215888977, F1 score on val: 0.8797582983970642, AUC on val: 0.9340237701797833\n",
      "Epoch: 700, Loss: 0.3189185559749603, Accuracy on val: 0.8639066815376282, F1 score on val: 0.8804981708526611, AUC on val: 0.9344771701569607\n",
      "Epoch: 800, Loss: 0.3148772418498993, Accuracy on val: 0.8648216128349304, F1 score on val: 0.8815868496894836, AUC on val: 0.9348658920394113\n",
      "Epoch: 900, Loss: 0.3115251064300537, Accuracy on val: 0.8655077815055847, F1 score on val: 0.8823999762535095, AUC on val: 0.9351618433213442\n",
      "Epoch: 1000, Loss: 0.30869153141975403, Accuracy on val: 0.8657364845275879, F1 score on val: 0.8828109502792358, AUC on val: 0.9354196846148016\n",
      "Epoch: 1100, Loss: 0.3062603175640106, Accuracy on val: 0.8668801188468933, F1 score on val: 0.8841560482978821, AUC on val: 0.9356577087142518\n",
      "Epoch: 1200, Loss: 0.3041485846042633, Accuracy on val: 0.8677950501441956, F1 score on val: 0.8851352334022522, AUC on val: 0.9358110197536048\n",
      "Epoch: 1300, Loss: 0.3022950291633606, Accuracy on val: 0.8696249127388, F1 score on val: 0.8869496583938599, AUC on val: 0.9359449491416759\n",
      "Epoch: 1400, Loss: 0.30065321922302246, Accuracy on val: 0.8714547157287598, F1 score on val: 0.8887569904327393, AUC on val: 0.9360799673865605\n",
      "Epoch: 1500, Loss: 0.2991870045661926, Accuracy on val: 0.8716834187507629, F1 score on val: 0.8891084790229797, AUC on val: 0.9362119368323674\n",
      "Epoch: 1600, Loss: 0.29786789417266846, Accuracy on val: 0.8719121813774109, F1 score on val: 0.8894591331481934, AUC on val: 0.9363124383162615\n",
      "Epoch: 1700, Loss: 0.2966732084751129, Accuracy on val: 0.8725983500480652, F1 score on val: 0.8901163339614868, AUC on val: 0.9364284015669084\n",
      "Epoch: 1800, Loss: 0.29558441042900085, Accuracy on val: 0.8725983500480652, F1 score on val: 0.8901597261428833, AUC on val: 0.936530536336023\n",
      "Epoch: 1900, Loss: 0.2945864498615265, Accuracy on val: 0.8725983500480652, F1 score on val: 0.8901597261428833, AUC on val: 0.936596085516201\n",
      "Epoch: 2000, Loss: 0.2936670184135437, Accuracy on val: 0.8730558156967163, F1 score on val: 0.8905973434448242, AUC on val: 0.9366821052044743\n",
      "Epoch: 2100, Loss: 0.2928156554698944, Accuracy on val: 0.8730558156967163, F1 score on val: 0.8905973434448242, AUC on val: 0.9367509209550928\n",
      "Epoch: 2200, Loss: 0.2920238673686981, Accuracy on val: 0.8725983500480652, F1 score on val: 0.8902895450592041, AUC on val: 0.9368325852161119\n",
      "Epoch: 2300, Loss: 0.29128438234329224, Accuracy on val: 0.8725983500480652, F1 score on val: 0.8903327584266663, AUC on val: 0.9368889879990557\n",
      "Epoch: 2400, Loss: 0.29059112071990967, Accuracy on val: 0.8725983500480652, F1 score on val: 0.890419065952301, AUC on val: 0.936958892606488\n",
      "Epoch: 2500, Loss: 0.2899388372898102, Accuracy on val: 0.872369647026062, F1 score on val: 0.8903301954269409, AUC on val: 0.9370301038420965\n",
      "Epoch: 2600, Loss: 0.28932294249534607, Accuracy on val: 0.8732845187187195, F1 score on val: 0.8912018537521362, AUC on val: 0.9370819334264233\n",
      "Epoch: 2700, Loss: 0.2887398898601532, Accuracy on val: 0.8737419843673706, F1 score on val: 0.8916797041893005, AUC on val: 0.9371352874102892\n",
      "Epoch: 2800, Loss: 0.28818628191947937, Accuracy on val: 0.8741994500160217, F1 score on val: 0.8921145796775818, AUC on val: 0.9371812371678225\n",
      "Epoch: 2900, Loss: 0.2876591980457306, Accuracy on val: 0.8741994500160217, F1 score on val: 0.8921568393707275, AUC on val: 0.9372195649276607\n",
      "Epoch: 3000, Loss: 0.28715628385543823, Accuracy on val: 0.8744281530380249, F1 score on val: 0.89241623878479, AUC on val: 0.9372533194888818\n",
      "Epoch: 3100, Loss: 0.2866753041744232, Accuracy on val: 0.8741994500160217, F1 score on val: 0.892325758934021, AUC on val: 0.9372811942233097\n",
      "Epoch: 3200, Loss: 0.2862142324447632, Accuracy on val: 0.8746569156646729, F1 score on val: 0.8927592635154724, AUC on val: 0.9373220263538192\n",
      "Epoch: 3300, Loss: 0.2857716381549835, Accuracy on val: 0.874885618686676, F1 score on val: 0.8931013941764832, AUC on val: 0.9373528410016436\n",
      "Epoch: 3400, Loss: 0.28534597158432007, Accuracy on val: 0.874885618686676, F1 score on val: 0.8931013941764832, AUC on val: 0.9374033639577942\n",
      "Epoch: 3500, Loss: 0.2849358916282654, Accuracy on val: 0.875114381313324, F1 score on val: 0.893317699432373, AUC on val: 0.9374336341772119\n",
      "Epoch: 3600, Loss: 0.28454044461250305, Accuracy on val: 0.875114381313324, F1 score on val: 0.893317699432373, AUC on val: 0.9374573712557481\n",
      "Epoch: 3700, Loss: 0.28415828943252563, Accuracy on val: 0.8753430843353271, F1 score on val: 0.8935339450836182, AUC on val: 0.937487423703803\n",
      "Epoch: 3800, Loss: 0.2837885022163391, Accuracy on val: 0.8755718469619751, F1 score on val: 0.8937499523162842, AUC on val: 0.9375126851818782\n",
      "Epoch: 3900, Loss: 0.2834305465221405, Accuracy on val: 0.8755718469619751, F1 score on val: 0.8937499523162842, AUC on val: 0.9375416487731196\n",
      "Epoch: 4000, Loss: 0.2830836772918701, Accuracy on val: 0.8758005499839783, F1 score on val: 0.8939660787582397, AUC on val: 0.937549924084903\n",
      "Epoch: 4100, Loss: 0.2827467918395996, Accuracy on val: 0.8753430843353271, F1 score on val: 0.8936585187911987, AUC on val: 0.9375679991080085\n",
      "Epoch: 4200, Loss: 0.28241971135139465, Accuracy on val: 0.8755718469619751, F1 score on val: 0.8938744068145752, AUC on val: 0.93759456721426\n",
      "Epoch: 4300, Loss: 0.2821018099784851, Accuracy on val: 0.8762580156326294, F1 score on val: 0.8944801688194275, AUC on val: 0.9376298461750201\n",
      "Epoch: 4400, Loss: 0.28179267048835754, Accuracy on val: 0.8758005499839783, F1 score on val: 0.8940901160240173, AUC on val: 0.9376533654821937\n",
      "Epoch: 4500, Loss: 0.28149154782295227, Accuracy on val: 0.8760292530059814, F1 score on val: 0.8943057656288147, AUC on val: 0.9376679561634959\n",
      "Epoch: 4600, Loss: 0.28119805455207825, Accuracy on val: 0.8758005499839783, F1 score on val: 0.8941726684570312, AUC on val: 0.9376873378147776\n",
      "Epoch: 4700, Loss: 0.28091198205947876, Accuracy on val: 0.8760292530059814, F1 score on val: 0.8944293260574341, AUC on val: 0.9377060661519714\n",
      "Epoch: 4800, Loss: 0.28063300251960754, Accuracy on val: 0.8760292530059814, F1 score on val: 0.8944293260574341, AUC on val: 0.9377294765734634\n",
      "Epoch: 4900, Loss: 0.28036078810691833, Accuracy on val: 0.8760292530059814, F1 score on val: 0.8944293260574341, AUC on val: 0.9377454827686232\n",
      "Best AUC: 0.9377646466485423, Best F1: 0.8946446180343628, Best epoch: 4998\n"
     ]
    },
    {
     "data": {
      "image/png": "[encoded data removed]",
      "text/plain": [
       "<Figure size 640x480 with 1 Axes>"
      ]
     },
     "metadata": {},
     "output_type": "display_data"
    }
   ],
   "source": [
    "# train model for 5000 epochs\n",
    "accs_train, accs_val, aucs, f1_scores, best_fpr, best_tpr, best_auc, best_f1, epoch_best = train_model(model, criterion, optimizer, 'LR', X_train_pca, y_train, X_val_pca, y_val, num_epochs=5000)\n",
    "print(f'Best AUC: {best_auc}, Best F1: {best_f1}, Best epoch: {epoch_best}')\n",
    "#plot accuracies of val and training\n",
    "plt.plot(accs_train, label='Train')\n",
    "plt.plot(accs_val, label='Val')\n",
    "plt.legend()\n",
    "plt.show()"
   ]
  }
 ],
 "metadata": {
  "kernelspec": {
   "display_name": "asi",
   "language": "python",
   "name": "python3"
  },
  "language_info": {
   "codemirror_mode": {
    "name": "ipython",
    "version": 3
   },
   "file_extension": ".py",
   "mimetype": "text/x-python",
   "name": "python",
   "nbconvert_exporter": "python",
   "pygments_lexer": "ipython3",
   "version": "3.12.2"
  }
 },
 "nbformat": 4,
 "nbformat_minor": 2
}
