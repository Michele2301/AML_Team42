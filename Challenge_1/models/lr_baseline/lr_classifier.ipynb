{
 "cells": [
  {
   "cell_type": "code",
   "execution_count": 50,
   "metadata": {},
   "outputs": [],
   "source": [
    "import torch\n",
    "import torch.nn as nn\n",
    "import torch.optim as optim\n",
    "from torch.optim import lr_scheduler\n",
    "from torch.autograd import Variable\n",
    "import numpy as np\n",
    "import torchvision\n",
    "from torchvision import datasets, models, transforms\n",
    "from torch.utils.data import DataLoader\n",
    "import matplotlib.pyplot as plt\n",
    "import cactus_dataset\n"
   ]
  },
  {
   "cell_type": "code",
   "execution_count": 51,
   "metadata": {},
   "outputs": [
    {
     "name": "stdout",
     "output_type": "stream",
     "text": [
      "Using CUDA\n"
     ]
    }
   ],
   "source": [
    "use_gpu = torch.cuda.is_available()\n",
    "if use_gpu:\n",
    "    print(\"Using CUDA\")"
   ]
  },
  {
   "cell_type": "code",
   "execution_count": 52,
   "metadata": {},
   "outputs": [
    {
     "name": "stdout",
     "output_type": "stream",
     "text": [
      "{'train': 14000, 'val': 1750, 'test': 1750}\n",
      "3072\n"
     ]
    }
   ],
   "source": [
    "data_dir = '../../../data/train/train'\n",
    "csv_file = '../../../data/train.csv'\n",
    "TRAIN = 'train'\n",
    "VAL = 'val'\n",
    "TEST = 'test'\n",
    "\n",
    "np.random.seed(0)\n",
    "image_dataset = cactus_dataset.CactusDataset(csv_file, data_dir)\n",
    "# split into train, eval, test\n",
    "train_size = int(0.8 * len(image_dataset))\n",
    "eval_size = int(0.1 * len(image_dataset))\n",
    "test_size = len(image_dataset) - train_size - eval_size\n",
    "train_dataset, eval_dataset, test_dataset = torch.utils.data.random_split(image_dataset, [train_size, eval_size, test_size])\n",
    "\n",
    "image_datasets = {TRAIN: train_dataset, VAL: eval_dataset, TEST: test_dataset}\n",
    "\n",
    "dataloaders = {x: DataLoader(image_datasets[x], batch_size=1,\n",
    "                                             shuffle=True, num_workers=0)\n",
    "              for x in [TRAIN, VAL, TEST]}\n",
    "\n",
    "dataset_sizes = {x: len(image_datasets[x]) for x in [TRAIN, VAL, TEST]}\n",
    "print(dataset_sizes)\n",
    "class_names = {0: 'No Cactus', 1: 'Cactus'}\n",
    "\n",
    "inputs, classes = next(iter(dataloaders[TRAIN]))\n",
    "\n",
    "n_features = inputs.size()[1]\n",
    "\n",
    "print(n_features)"
   ]
  },
  {
   "cell_type": "code",
   "execution_count": 53,
   "metadata": {},
   "outputs": [],
   "source": [
    "# Create model\n",
    "# f = wx + b, sigmoid at the end\n",
    "class LogisticRegression(nn.Module):\n",
    "\n",
    "    def __init__(self, n_input_features):\n",
    "        super(LogisticRegression, self).__init__()\n",
    "        self.linear = nn.Linear(n_input_features, 1)\n",
    "\n",
    "    def forward(self, x):\n",
    "        y_predicted = torch.sigmoid(self.linear(x))\n",
    "        return y_predicted\n",
    "    \n",
    "model = LogisticRegression(n_features)"
   ]
  },
  {
   "cell_type": "code",
   "execution_count": 54,
   "metadata": {},
   "outputs": [],
   "source": [
    "# Loss and optimizer\n",
    "learning_rate = 0.01\n",
    "criterion = nn.BCELoss()\n",
    "optimizer = torch.optim.SGD(model.parameters(), lr=learning_rate)"
   ]
  },
  {
   "cell_type": "code",
   "execution_count": 55,
   "metadata": {},
   "outputs": [
    {
     "name": "stdout",
     "output_type": "stream",
     "text": [
      "torch.Size([14000, 3072])\n",
      "torch.Size([14000])\n"
     ]
    }
   ],
   "source": [
    "X_train = []\n",
    "y_train = []\n",
    "X_val = []\n",
    "y_val = []\n",
    "for inputs, labels in dataloaders[TRAIN]:\n",
    "    X_train.append(inputs)\n",
    "    y_train.append(labels)\n",
    "for inputs, labels in dataloaders[VAL]:\n",
    "    X_val.append(inputs)\n",
    "    y_val.append(labels)\n",
    "X_train = torch.cat(X_train, 0)\n",
    "y_train = torch.cat(y_train, 0)\n",
    "X_val = torch.cat(X_val, 0)\n",
    "y_val = torch.cat(y_val, 0)\n",
    "\n",
    "print(X_train.size())\n",
    "print(y_train.size())"
   ]
  },
  {
   "cell_type": "code",
   "execution_count": null,
   "metadata": {},
   "outputs": [],
   "source": [
    "# training loop\n",
    "num_epochs = 10000\n",
    "\n",
    "for epoch in range(num_epochs):\n",
    "    # forward pass and loss\n",
    "    y_predicted = model(X_train)\n",
    "    #make y_predicted and y_train of same shape\n",
    "    y_predicted = y_predicted.view(-1)\n",
    "    y_train = y_train.view(-1).float()\n",
    "    loss = criterion(y_predicted, y_train)\n",
    "    \n",
    "    # backward pass\n",
    "    loss.backward()\n",
    "    \n",
    "    # updates\n",
    "    optimizer.step()\n",
    "    \n",
    "    # zero gradients\n",
    "    optimizer.zero_grad()\n",
    "    \n",
    "    if (epoch+1) % 10 == 0:\n",
    "        print(f'epoch: {epoch+1}, loss = {loss.item():.4f}')\n",
    "        with torch.no_grad():\n",
    "            y_predicted = model(X_val)  # no need to call model.forward()\n",
    "            print(y_predicted)\n",
    "            y_predicted_cls = y_predicted.round()   # round off to nearest class\n",
    "            #flatten\n",
    "            y_val = y_val.view(-1)\n",
    "            y_predicted_cls = y_predicted_cls.view(-1)\n",
    "            acc = (y_predicted_cls == y_val).sum() / y_val.shape[0]   # accuracy\n",
    "            print(acc)"
   ]
  },
  {
   "cell_type": "code",
   "execution_count": 72,
   "metadata": {},
   "outputs": [
    {
     "name": "stdout",
     "output_type": "stream",
     "text": [
      "tensor([[0.9247],\n",
      "        [0.7885],\n",
      "        [0.9842],\n",
      "        ...,\n",
      "        [0.9738],\n",
      "        [0.8662],\n",
      "        [0.9464]])\n",
      "tensor(0.8543)\n"
     ]
    }
   ],
   "source": []
  }
 ],
 "metadata": {
  "kernelspec": {
   "display_name": "asi",
   "language": "python",
   "name": "python3"
  },
  "language_info": {
   "codemirror_mode": {
    "name": "ipython",
    "version": 3
   },
   "file_extension": ".py",
   "mimetype": "text/x-python",
   "name": "python",
   "nbconvert_exporter": "python",
   "pygments_lexer": "ipython3",
   "version": "3.12.2"
  }
 },
 "nbformat": 4,
 "nbformat_minor": 2
}
