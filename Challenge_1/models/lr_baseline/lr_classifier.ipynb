{
 "cells": [
  {
   "cell_type": "code",
   "metadata": {
    "ExecuteTime": {
     "end_time": "2024-05-02T14:46:57.903268Z",
     "start_time": "2024-05-02T14:46:57.899247Z"
    }
   },
   "source": [
    "import torch\n",
    "import torch.nn as nn\n",
    "import torch.optim as optim\n",
    "from torch.optim import lr_scheduler\n",
    "from torch.autograd import Variable\n",
    "import numpy as np\n",
    "import torchvision\n",
    "from torchvision import datasets, models, transforms\n",
    "from torch.utils.data import DataLoader\n",
    "import matplotlib.pyplot as plt\n",
    "import CactusDataset\n",
    "from sklearn.metrics import roc_curve, auc\n"
   ],
   "outputs": [],
   "execution_count": 9
  },
  {
   "cell_type": "code",
   "metadata": {
    "ExecuteTime": {
     "end_time": "2024-05-02T14:46:57.999150Z",
     "start_time": "2024-05-02T14:46:57.996251Z"
    }
   },
   "source": [
    "#use_gpu = torch.cuda.is_available()\n",
    "#if use_gpu:\n",
    "#    print(\"Using CUDA\")"
   ],
   "outputs": [],
   "execution_count": 10
  },
  {
   "cell_type": "code",
   "metadata": {
    "ExecuteTime": {
     "end_time": "2024-05-02T14:47:19.995587Z",
     "start_time": "2024-05-02T14:46:58.015301Z"
    }
   },
   "source": [
    "data_dir = '../../data/train/train'\n",
    "csv_file = '../../data/train.csv'\n",
    "TRAIN = 'train'\n",
    "VAL = 'val'\n",
    "TEST = 'test'\n",
    "\n",
    "#set the transforms for the images\n",
    "data_transforms = transforms.Compose([\n",
    "    transforms.ToTensor(),\n",
    "])\n",
    "\n",
    "\n",
    "torch.manual_seed(42)\n",
    "image_dataset = CactusDataset.CactusDataset(csv_file, data_dir, data_transforms)\n",
    "# split into train, eval, test\n",
    "train_size = int(0.7 * len(image_dataset))\n",
    "eval_size = int(0.2 * len(image_dataset))\n",
    "test_size = len(image_dataset) - train_size - eval_size\n",
    "train_dataset, eval_dataset, test_dataset = torch.utils.data.random_split(image_dataset, [train_size, eval_size, test_size])\n",
    "\n",
    "image_datasets = {TRAIN: train_dataset, VAL: eval_dataset, TEST: test_dataset}\n",
    "\n",
    "dataset_sizes = {x: len(image_datasets[x]) for x in [TRAIN, VAL, TEST]}\n",
    "\n",
    "batch_sizes = {TRAIN: dataset_sizes[TRAIN], VAL: dataset_sizes[VAL], TEST: 64}\n",
    "\n",
    "dataloaders = {TRAIN: None, VAL: None, TEST: None}\n",
    "dataloaders[TRAIN] = DataLoader(image_datasets[TRAIN], batch_size=batch_sizes[TRAIN],\n",
    "                                             shuffle=True, num_workers=0)\n",
    "dataloaders[VAL] = DataLoader(image_datasets[VAL], batch_size=batch_sizes[VAL],\n",
    "                                             shuffle=False, num_workers=0)\n",
    "dataloaders[TEST] = DataLoader(image_datasets[TEST], batch_size=batch_sizes[TEST], shuffle=False, num_workers=0)\n",
    "\n",
    "\n",
    "print(dataset_sizes)\n",
    "class_names = {0: 'No Cactus', 1: 'Cactus'}\n",
    "\n",
    "inputs, classes = next(iter(dataloaders[TRAIN]))\n",
    "print(inputs[0])\n",
    "\n",
    "n_features = 32 * 32 * 3\n",
    "\n",
    "print(n_features)\n",
    "\n",
    "#print nunmber of each class in each dataset\n",
    "for x in [TRAIN, VAL, TEST]:\n",
    "    print(\"Number of {} images: {}\".format(x, dataset_sizes[x]))\n",
    "    for i in range(2):\n",
    "        print(\"Number of {} images of class {}: {}\".format(x, class_names[i], sum([1 for j in image_datasets[x] if j[1] == i])))\n",
    "    print()\n",
    "\n",
    "\n"
   ],
   "outputs": [
    {
     "name": "stdout",
     "output_type": "stream",
     "text": [
      "{'train': 12250, 'val': 3500, 'test': 1750}\n",
      "tensor([[[0.3333, 0.4549, 0.4353,  ..., 0.3098, 0.2980, 0.2353],\n",
      "         [0.5333, 0.5490, 0.1020,  ..., 0.3843, 0.4118, 0.4078],\n",
      "         [0.5294, 0.5059, 0.3804,  ..., 0.1294, 0.6784, 0.3098],\n",
      "         ...,\n",
      "         [0.5765, 0.4078, 0.4431,  ..., 0.4706, 0.4941, 0.5216],\n",
      "         [0.4392, 0.4549, 0.3216,  ..., 0.5373, 0.3490, 0.2275],\n",
      "         [0.3412, 0.5294, 0.3608,  ..., 0.2745, 0.4510, 0.2863]],\n",
      "\n",
      "        [[0.3176, 0.4392, 0.4196,  ..., 0.2627, 0.2549, 0.1922],\n",
      "         [0.5176, 0.5333, 0.0863,  ..., 0.3412, 0.3686, 0.3647],\n",
      "         [0.5137, 0.4902, 0.3647,  ..., 0.0902, 0.6392, 0.2784],\n",
      "         ...,\n",
      "         [0.5961, 0.4275, 0.4627,  ..., 0.4863, 0.5216, 0.5569],\n",
      "         [0.4510, 0.4667, 0.3333,  ..., 0.5647, 0.3843, 0.2706],\n",
      "         [0.3529, 0.5412, 0.3725,  ..., 0.3098, 0.4863, 0.3294]],\n",
      "\n",
      "        [[0.2745, 0.3961, 0.3765,  ..., 0.3176, 0.3098, 0.2471],\n",
      "         [0.4745, 0.4902, 0.0431,  ..., 0.3961, 0.4235, 0.4196],\n",
      "         [0.4667, 0.4431, 0.3216,  ..., 0.1333, 0.6824, 0.3216],\n",
      "         ...,\n",
      "         [0.5176, 0.3412, 0.3843,  ..., 0.5294, 0.5608, 0.5922],\n",
      "         [0.3843, 0.3922, 0.2667,  ..., 0.5961, 0.4118, 0.2941],\n",
      "         [0.2863, 0.4745, 0.3059,  ..., 0.3373, 0.5137, 0.3529]]])\n",
      "3072\n",
      "Number of train images: 12250\n",
      "Number of train images of class No Cactus: 3077\n",
      "Number of train images of class Cactus: 9173\n",
      "\n",
      "Number of val images: 3500\n",
      "Number of val images of class No Cactus: 856\n",
      "Number of val images of class Cactus: 2644\n",
      "\n",
      "Number of test images: 1750\n",
      "Number of test images of class No Cactus: 431\n",
      "Number of test images of class Cactus: 1319\n",
      "\n"
     ]
    }
   ],
   "execution_count": 11
  },
  {
   "cell_type": "code",
   "metadata": {
    "ExecuteTime": {
     "end_time": "2024-05-02T14:47:20.001846Z",
     "start_time": "2024-05-02T14:47:19.997500Z"
    }
   },
   "source": [
    "# Create model\n",
    "# f = wx + b, sigmoid at the end\n",
    "class LogisticRegression(nn.Module):\n",
    "\n",
    "    def __init__(self, n_input_features):\n",
    "        super(LogisticRegression, self).__init__()\n",
    "        self.linear = nn.Linear(n_input_features, 1)\n",
    "\n",
    "    def forward(self, x):\n",
    "        y_predicted = torch.sigmoid(self.linear(x))\n",
    "        return y_predicted"
   ],
   "outputs": [],
   "execution_count": 12
  },
  {
   "cell_type": "code",
   "metadata": {
    "ExecuteTime": {
     "end_time": "2024-05-02T14:47:20.017565Z",
     "start_time": "2024-05-02T14:47:20.003223Z"
    }
   },
   "source": [
    "def train_model(model, criterion, optimizer, model_name, X_train, y_train, X_val, y_val, transforms=None, num_epochs=1000):\n",
    "    # training loop\n",
    "    num_epochs = num_epochs\n",
    "    epoch_best = 0\n",
    "    f1_scores = []\n",
    "    accs_train = []\n",
    "    accs_val = []\n",
    "    aucs = []\n",
    "    best_fpr = []\n",
    "    best_tpr = []\n",
    "    best_auc = 0\n",
    "    best_acc = 0\n",
    "    best_f1 = 0\n",
    "    \n",
    "\n",
    "    #40k epoche runnate\n",
    "    for epoch in range(num_epochs):\n",
    "        #randomly horizontal flip the images in X_train\n",
    "        if transforms is not None:\n",
    "            X_train = transforms(X_train)\n",
    "        #use mini batches\n",
    "        # forward pass and loss\n",
    "        outputs = model(X_train)\n",
    "        #make y_predicted and y_train of same shape\n",
    "        outputs = outputs.view(-1)\n",
    "\n",
    "        preds = outputs.round()\n",
    "        acc_train = (preds == y_train).sum() / y_train.shape[0]\n",
    "        accs_train.append(acc_train)\n",
    "\n",
    "        loss = criterion(outputs, y_train.float())\n",
    "        \n",
    "        # backward pass\n",
    "        loss.backward()\n",
    "        \n",
    "        # updates\n",
    "        optimizer.step()\n",
    "        \n",
    "        # zero gradients\n",
    "        optimizer.zero_grad()\n",
    "        \n",
    "        with torch.no_grad():\n",
    "            outputs = model(X_val)  # no need to call model.forward()\n",
    "            y_predicted_cls = outputs.round()   # round off to nearest class\n",
    "            #flatten\n",
    "            y_val = y_val.view(-1)\n",
    "            y_predicted_cls = y_predicted_cls.view(-1)\n",
    "\n",
    "            #Compute f1 score\n",
    "            tp = (y_val * y_predicted_cls).sum()\n",
    "            tn = ((1 - y_val) * (1 - y_predicted_cls)).sum()\n",
    "            fp = ((1 - y_val) * y_predicted_cls).sum()\n",
    "            fn = (y_val * (1 - y_predicted_cls)).sum()\n",
    "            precision = tp / (tp + fp)\n",
    "            recall = tp / (tp + fn)\n",
    "            f1 = 2 * precision * recall / (precision + recall)\n",
    "            f1_scores.append(f1)\n",
    "\n",
    "            #Compute accuracy\n",
    "            acc = (y_predicted_cls == y_val).sum() / y_val.shape[0]   # accuracy\n",
    "            accs_val.append(acc)\n",
    "\n",
    "            #Compute AUC\n",
    "            fpr, tpr, _ = roc_curve(y_val, outputs)\n",
    "            roc_auc = auc(fpr, tpr)\n",
    "            aucs.append(roc_auc)\n",
    "            \n",
    "            if roc_auc > best_auc:\n",
    "                best_auc = roc_auc\n",
    "                best_fpr = fpr\n",
    "                best_tpr = tpr\n",
    "                epoch_best = epoch\n",
    "            if f1 > best_f1:\n",
    "                best_f1 = f1\n",
    "            if acc > best_acc:\n",
    "                best_acc = acc\n",
    "\n",
    "            if epoch % 100 == 0:\n",
    "                print(f'Epoch: {epoch}, Loss: {loss.item()}, Accuracy on val: {acc}, F1 score on val: {f1}, AUC on val: {roc_auc}')\n",
    "    return accs_train, accs_val, aucs, f1_scores, best_fpr, best_tpr, best_auc, best_f1, epoch_best"
   ],
   "outputs": [],
   "execution_count": 13
  },
  {
   "cell_type": "markdown",
   "metadata": {},
   "source": [
    "## LR without PCA"
   ]
  },
  {
   "cell_type": "code",
   "metadata": {
    "ExecuteTime": {
     "end_time": "2024-05-02T14:47:27.392428Z",
     "start_time": "2024-05-02T14:47:20.020085Z"
    }
   },
   "source": [
    "\n",
    "#Load dataset, we flatten the images and we put them in a single numpy array in memory of shape (n_images, n_features)\n",
    "X_train = []\n",
    "y_train = []\n",
    "for images, labels in dataloaders[TRAIN]:\n",
    "    images = images.view(-1, n_features)\n",
    "    X_train.append(images)\n",
    "    y_train.append(labels)\n",
    "X_train = torch.cat(X_train, dim=0)\n",
    "y_train = torch.cat(y_train, dim=0)\n",
    "X_val = []\n",
    "y_val = []\n",
    "for images, labels in dataloaders[VAL]:\n",
    "    images = images.view(-1, n_features)\n",
    "    X_val.append(images)\n",
    "    y_val.append(labels)\n",
    "X_val = torch.cat(X_val, dim=0)\n",
    "y_val = torch.cat(y_val, dim=0)\n",
    "print(X_train.shape)\n",
    "print(y_train.shape)\n",
    "print(X_val.shape)\n",
    "print(y_val.shape)\n",
    "print(X_train[0])\n",
    "n_features = X_train.shape[1]"
   ],
   "outputs": [
    {
     "name": "stdout",
     "output_type": "stream",
     "text": [
      "torch.Size([12250, 3072])\n",
      "torch.Size([12250])\n",
      "torch.Size([3500, 3072])\n",
      "torch.Size([3500])\n",
      "tensor([0.5098, 0.4549, 0.4078,  ..., 0.4118, 0.5255, 0.4745])\n"
     ]
    }
   ],
   "execution_count": 14
  },
  {
   "cell_type": "code",
   "metadata": {
    "ExecuteTime": {
     "end_time": "2024-05-02T14:47:27.398604Z",
     "start_time": "2024-05-02T14:47:27.393915Z"
    }
   },
   "source": [
    "#instantiate model\n",
    "model = LogisticRegression(n_features)\n",
    "print(\"Number of parameters in the model: \"+str(sum(p.numel() for p in model.parameters() if p.requires_grad)))\n",
    "\n",
    "# Loss and optimizer\n",
    "learning_rate = 0.001\n",
    "criterion = nn.BCELoss()\n",
    "optimizer = optim.SGD(model.parameters(), lr=learning_rate, momentum=0.9)\n",
    "exp_lr_scheduler = lr_scheduler.StepLR(optimizer, step_size=7, gamma=0.1)"
   ],
   "outputs": [
    {
     "name": "stdout",
     "output_type": "stream",
     "text": [
      "Number of parameters in the model: 3073\n"
     ]
    }
   ],
   "execution_count": 15
  },
  {
   "cell_type": "code",
   "metadata": {
    "ExecuteTime": {
     "end_time": "2024-05-02T14:48:47.515746Z",
     "start_time": "2024-05-02T14:47:27.399952Z"
    }
   },
   "source": [
    "# train model for 5000 epochs\n",
    "accs_train, accs_val, aucs, f1_scores, best_fpr, best_tpr, best_auc, best_f1, epoch_best = train_model(model, criterion, optimizer, 'LR', X_train, y_train, X_val, y_val, num_epochs=5000)\n",
    "print(f'Best AUC: {best_auc}, Best F1: {best_f1}, Best epoch: {epoch_best}')\n",
    "#plot accuracies of val and training\n",
    "plt.plot(accs_train, label='Train')\n",
    "plt.plot(accs_val, label='Val')\n",
    "plt.legend()\n",
    "plt.show()"
   ],
   "outputs": [
    {
     "name": "stdout",
     "output_type": "stream",
     "text": [
      "Epoch: 0, Loss: 0.809251606464386, Accuracy on val: 0.2525714337825775, F1 score on val: 0.020958084613084793, AUC on val: 0.6342572055226434\n",
      "Epoch: 100, Loss: 0.5318897366523743, Accuracy on val: 0.7554285526275635, F1 score on val: 0.8606770634651184, AUC on val: 0.6982009169058492\n",
      "Epoch: 200, Loss: 0.49740755558013916, Accuracy on val: 0.7654285430908203, F1 score on val: 0.865122377872467, AUC on val: 0.7885785750137855\n",
      "Epoch: 300, Loss: 0.4724642336368561, Accuracy on val: 0.7739999890327454, F1 score on val: 0.8669917583465576, AUC on val: 0.8207191030299603\n",
      "Epoch: 400, Loss: 0.45388391613960266, Accuracy on val: 0.7771428823471069, F1 score on val: 0.8669849634170532, AUC on val: 0.8366867497561045\n",
      "Epoch: 500, Loss: 0.43962159752845764, Accuracy on val: 0.7760000228881836, F1 score on val: 0.8645473122596741, AUC on val: 0.8462159076448881\n",
      "Epoch: 600, Loss: 0.4283594489097595, Accuracy on val: 0.7845714092254639, F1 score on val: 0.8682279586791992, AUC on val: 0.8528978501845123\n",
      "Epoch: 700, Loss: 0.4192356467247009, Accuracy on val: 0.7868571281433105, F1 score on val: 0.8684302568435669, AUC on val: 0.8579061037510427\n",
      "Epoch: 800, Loss: 0.4116741120815277, Accuracy on val: 0.7897142767906189, F1 score on val: 0.8695497512817383, AUC on val: 0.8618868589788907\n",
      "Epoch: 900, Loss: 0.40528085827827454, Accuracy on val: 0.7940000295639038, F1 score on val: 0.8715481758117676, AUC on val: 0.8652614100697046\n",
      "Epoch: 1000, Loss: 0.39977988600730896, Accuracy on val: 0.7977142930030823, F1 score on val: 0.8729817271232605, AUC on val: 0.868105532540614\n",
      "Epoch: 1100, Loss: 0.3949740529060364, Accuracy on val: 0.8002856969833374, F1 score on val: 0.874076783657074, AUC on val: 0.8706006016090037\n",
      "Epoch: 1200, Loss: 0.3907194137573242, Accuracy on val: 0.8011428713798523, F1 score on val: 0.8743228316307068, AUC on val: 0.8728584027316301\n",
      "Epoch: 1300, Loss: 0.38690894842147827, Accuracy on val: 0.8040000200271606, F1 score on val: 0.8756796717643738, AUC on val: 0.8748970513382444\n",
      "Epoch: 1400, Loss: 0.38346174359321594, Accuracy on val: 0.8080000281333923, F1 score on val: 0.8777292370796204, AUC on val: 0.8767474762113479\n",
      "Epoch: 1500, Loss: 0.3803156912326813, Accuracy on val: 0.8097142577171326, F1 score on val: 0.8785115480422974, AUC on val: 0.8784445826911929\n",
      "Epoch: 1600, Loss: 0.37742239236831665, Accuracy on val: 0.8102856874465942, F1 score on val: 0.878654956817627, AUC on val: 0.8800033933292802\n",
      "Epoch: 1700, Loss: 0.37474367022514343, Accuracy on val: 0.8117142915725708, F1 score on val: 0.8794586062431335, AUC on val: 0.8814148504107343\n",
      "Epoch: 1800, Loss: 0.3722490072250366, Accuracy on val: 0.8125714063644409, F1 score on val: 0.8798094391822815, AUC on val: 0.882785879155061\n",
      "Epoch: 1900, Loss: 0.36991366744041443, Accuracy on val: 0.8142856955528259, F1 score on val: 0.8807777166366577, AUC on val: 0.8841014570107597\n",
      "Epoch: 2000, Loss: 0.3677174746990204, Accuracy on val: 0.8165714144706726, F1 score on val: 0.8820286989212036, AUC on val: 0.8853235857593281\n",
      "Epoch: 2100, Loss: 0.36564385890960693, Accuracy on val: 0.8180000185966492, F1 score on val: 0.882710337638855, AUC on val: 0.8865410751905212\n",
      "Epoch: 2200, Loss: 0.363678902387619, Accuracy on val: 0.8208571672439575, F1 score on val: 0.8843812942504883, AUC on val: 0.8876547322804587\n",
      "Epoch: 2300, Loss: 0.3618107736110687, Accuracy on val: 0.821142852306366, F1 score on val: 0.8843737840652466, AUC on val: 0.8887491693412699\n",
      "Epoch: 2400, Loss: 0.36002978682518005, Accuracy on val: 0.8225714564323425, F1 score on val: 0.8851913809776306, AUC on val: 0.8897623078880768\n",
      "Epoch: 2500, Loss: 0.3583274483680725, Accuracy on val: 0.8248571157455444, F1 score on val: 0.8865445256233215, AUC on val: 0.8907392155753814\n",
      "Epoch: 2600, Loss: 0.35669633746147156, Accuracy on val: 0.8254285454750061, F1 score on val: 0.8868728280067444, AUC on val: 0.8916754740056838\n",
      "Epoch: 2700, Loss: 0.3551303446292877, Accuracy on val: 0.8268571496009827, F1 score on val: 0.8877362012863159, AUC on val: 0.892571525018734\n",
      "Epoch: 2800, Loss: 0.35362377762794495, Accuracy on val: 0.8277142643928528, F1 score on val: 0.888188362121582, AUC on val: 0.8934339962107823\n",
      "Epoch: 2900, Loss: 0.35217195749282837, Accuracy on val: 0.8285714387893677, F1 score on val: 0.8887240290641785, AUC on val: 0.8943070715568312\n",
      "Epoch: 3000, Loss: 0.3507705628871918, Accuracy on val: 0.829714298248291, F1 score on val: 0.8894248604774475, AUC on val: 0.8950807329591245\n",
      "Epoch: 3100, Loss: 0.3494158089160919, Accuracy on val: 0.8311428427696228, F1 score on val: 0.8902915120124817, AUC on val: 0.895873835310419\n",
      "Epoch: 3200, Loss: 0.3481043577194214, Accuracy on val: 0.8308571577072144, F1 score on val: 0.8900853991508484, AUC on val: 0.896625846564961\n",
      "Epoch: 3300, Loss: 0.3468332290649414, Accuracy on val: 0.8311428427696228, F1 score on val: 0.8902506828308105, AUC on val: 0.8973721139027527\n",
      "Epoch: 3400, Loss: 0.3455996513366699, Accuracy on val: 0.833142876625061, F1 score on val: 0.8914498686790466, AUC on val: 0.8980755227847922\n",
      "Epoch: 3500, Loss: 0.3444012999534607, Accuracy on val: 0.8339999914169312, F1 score on val: 0.8919471502304077, AUC on val: 0.8987784898270815\n",
      "Epoch: 3600, Loss: 0.3432358503341675, Accuracy on val: 0.834857165813446, F1 score on val: 0.892405092716217, AUC on val: 0.899480573189871\n",
      "Epoch: 3700, Loss: 0.3421013355255127, Accuracy on val: 0.8354285955429077, F1 score on val: 0.8927773833274841, AUC on val: 0.9001557043279087\n",
      "Epoch: 3800, Loss: 0.34099602699279785, Accuracy on val: 0.8374285697937012, F1 score on val: 0.8941001296043396, AUC on val: 0.9007588155866925\n",
      "Epoch: 3900, Loss: 0.3399181365966797, Accuracy on val: 0.8374285697937012, F1 score on val: 0.8940607309341431, AUC on val: 0.9013862280317277\n",
      "Epoch: 4000, Loss: 0.33886611461639404, Accuracy on val: 0.8382856845855713, F1 score on val: 0.8945996165275574, AUC on val: 0.9019341093217583\n",
      "Epoch: 4100, Loss: 0.33783864974975586, Accuracy on val: 0.8391428589820862, F1 score on val: 0.8951777815818787, AUC on val: 0.9025283837855416\n",
      "Epoch: 4200, Loss: 0.33683446049690247, Accuracy on val: 0.8408571481704712, F1 score on val: 0.8962563276290894, AUC on val: 0.903088194748823\n",
      "Epoch: 4300, Loss: 0.33585232496261597, Accuracy on val: 0.8414285778999329, F1 score on val: 0.8966673016548157, AUC on val: 0.9036926315268567\n",
      "Epoch: 4400, Loss: 0.334891140460968, Accuracy on val: 0.8431428670883179, F1 score on val: 0.897784411907196, AUC on val: 0.904249349611888\n",
      "Epoch: 4500, Loss: 0.33394989371299744, Accuracy on val: 0.8428571224212646, F1 score on val: 0.8975791335105896, AUC on val: 0.9048175555304199\n",
      "Epoch: 4600, Loss: 0.3330276310443878, Accuracy on val: 0.8425714373588562, F1 score on val: 0.8974120020866394, AUC on val: 0.9053009282169469\n",
      "Epoch: 4700, Loss: 0.3321235179901123, Accuracy on val: 0.8425714373588562, F1 score on val: 0.8973738551139832, AUC on val: 0.9058174388847258\n",
      "Epoch: 4800, Loss: 0.33123666048049927, Accuracy on val: 0.8434285521507263, F1 score on val: 0.8979135155677795, AUC on val: 0.9063109738855035\n",
      "Epoch: 4900, Loss: 0.3303662836551666, Accuracy on val: 0.8445714116096497, F1 score on val: 0.898583173751831, AUC on val: 0.9068146712005316\n",
      "Best AUC: 0.9072821376560578, Best F1: 0.8987506628036499, Best epoch: 4999\n"
     ]
    },
    {
     "data": {
      "text/plain": [
       "<Figure size 640x480 with 1 Axes>"
      ],
      "image/png": "[encoded data removed]"
     },
     "metadata": {},
     "output_type": "display_data"
    }
   ],
   "execution_count": 16
  },
  {
   "cell_type": "markdown",
   "metadata": {},
   "source": [
    "## LR with PCA"
   ]
  },
  {
   "cell_type": "code",
   "metadata": {
    "ExecuteTime": {
     "end_time": "2024-05-02T14:48:47.555189Z",
     "start_time": "2024-05-02T14:48:47.517065Z"
    }
   },
   "source": [
    "from sklearn.decomposition import PCA"
   ],
   "outputs": [],
   "execution_count": 17
  },
  {
   "cell_type": "code",
   "metadata": {
    "ExecuteTime": {
     "end_time": "2024-05-02T14:48:54.436905Z",
     "start_time": "2024-05-02T14:48:47.556267Z"
    }
   },
   "source": [
    "#Load dataset, we flatten the images and we put them in a single numpy array in memory of shape (n_images, n_features)\n",
    "X_train = []\n",
    "y_train = []\n",
    "for images, labels in dataloaders[TRAIN]:\n",
    "    images = images.view(-1, n_features)\n",
    "    X_train.append(images)\n",
    "    y_train.append(labels)\n",
    "X_train = torch.cat(X_train, dim=0)\n",
    "y_train = torch.cat(y_train, dim=0)\n",
    "X_val = []\n",
    "y_val = []\n",
    "for images, labels in dataloaders[VAL]:\n",
    "    images = images.view(-1, n_features)\n",
    "    X_val.append(images)\n",
    "    y_val.append(labels)\n",
    "X_val = torch.cat(X_val, dim=0)\n",
    "y_val = torch.cat(y_val, dim=0)"
   ],
   "outputs": [],
   "execution_count": 18
  },
  {
   "cell_type": "code",
   "metadata": {
    "ExecuteTime": {
     "end_time": "2024-05-02T14:48:58.512749Z",
     "start_time": "2024-05-02T14:48:54.438152Z"
    }
   },
   "source": [
    "# retain only n_componenets feature with highest variance using PCA\n",
    "n_components = 612\n",
    "pca = PCA(n_components=n_components)\n",
    "X_train_pca = pca.fit_transform(X_train.detach().numpy())\n",
    "X_val_pca = pca.transform(X_val.detach().numpy())\n",
    "#transform in tensors\n",
    "X_train_pca = torch.tensor(X_train_pca)\n",
    "X_val_pca = torch.tensor(X_val_pca)\n"
   ],
   "outputs": [],
   "execution_count": 19
  },
  {
   "cell_type": "code",
   "metadata": {
    "ExecuteTime": {
     "end_time": "2024-05-02T14:48:58.522756Z",
     "start_time": "2024-05-02T14:48:58.516603Z"
    }
   },
   "source": [
    "model = LogisticRegression(X_train_pca.shape[1])\n",
    "# Loss and optimizer\n",
    "learning_rate = 0.001\n",
    "criterion = nn.BCELoss()\n",
    "optimizer = optim.SGD(model.parameters(), lr=learning_rate, momentum=0.9)\n",
    "exp_lr_scheduler = lr_scheduler.StepLR(optimizer, step_size=7, gamma=0.1)"
   ],
   "outputs": [],
   "execution_count": 20
  },
  {
   "cell_type": "code",
   "metadata": {
    "ExecuteTime": {
     "end_time": "2024-05-02T14:49:25.084976Z",
     "start_time": "2024-05-02T14:48:58.524435Z"
    }
   },
   "source": [
    "#Train model using pca features\n",
    "accs_train, accs_val, aucs, f1_scores, best_fpr, best_tpr, best_auc, best_f1, epoch_best = train_model(model, criterion, optimizer, 'LR', X_train_pca, y_train, X_val_pca, y_val, num_epochs=5000)\n",
    "print(f'Best AUC: {best_auc}, Best F1: {best_f1}, Best epoch: {epoch_best}')\n",
    "#plot accuracies of val and training\n",
    "plt.plot(accs_train, label='Train')\n",
    "plt.plot(accs_val, label='Val')\n",
    "plt.legend()\n",
    "plt.show()\n"
   ],
   "outputs": [
    {
     "name": "stdout",
     "output_type": "stream",
     "text": [
      "Epoch: 0, Loss: 0.7104105353355408, Accuracy on val: 0.4251428544521332, F1 score on val: 0.5441775918006897, AUC on val: 0.3811314102110933\n",
      "Epoch: 100, Loss: 0.5963813662528992, Accuracy on val: 0.8022857308387756, F1 score on val: 0.8683409094810486, AUC on val: 0.8348946477300039\n",
      "Epoch: 200, Loss: 0.5247758030891418, Accuracy on val: 0.8571428656578064, F1 score on val: 0.9076467752456665, AUC on val: 0.9035110353895967\n",
      "Epoch: 300, Loss: 0.4764160215854645, Accuracy on val: 0.8674286007881165, F1 score on val: 0.9146431088447571, AUC on val: 0.9208669426103185\n",
      "Epoch: 400, Loss: 0.44207969307899475, Accuracy on val: 0.8711428642272949, F1 score on val: 0.9170804023742676, AUC on val: 0.927554629066693\n",
      "Epoch: 500, Loss: 0.41660454869270325, Accuracy on val: 0.87371426820755, F1 score on val: 0.9185703992843628, AUC on val: 0.9308944957371301\n",
      "Epoch: 600, Loss: 0.39700525999069214, Accuracy on val: 0.8751428723335266, F1 score on val: 0.9193875193595886, AUC on val: 0.9328922741668669\n",
      "Epoch: 700, Loss: 0.38147488236427307, Accuracy on val: 0.8782857060432434, F1 score on val: 0.92131507396698, AUC on val: 0.9342343624075672\n",
      "Epoch: 800, Loss: 0.368868887424469, Accuracy on val: 0.8794285655021667, F1 score on val: 0.921880841255188, AUC on val: 0.9352006659408714\n",
      "Epoch: 900, Loss: 0.35843196511268616, Accuracy on val: 0.8802857398986816, F1 score on val: 0.9223066568374634, AUC on val: 0.9359438404004128\n",
      "Epoch: 1000, Loss: 0.3496471643447876, Accuracy on val: 0.8820000290870667, F1 score on val: 0.9233054518699646, AUC on val: 0.9365708110056978\n",
      "Epoch: 1100, Loss: 0.342149555683136, Accuracy on val: 0.8834285736083984, F1 score on val: 0.9241635203361511, AUC on val: 0.937073624641226\n",
      "Epoch: 1200, Loss: 0.33567407727241516, Accuracy on val: 0.8837142586708069, F1 score on val: 0.9242790937423706, AUC on val: 0.937486744807499\n",
      "Epoch: 1300, Loss: 0.33002394437789917, Accuracy on val: 0.8851428627967834, F1 score on val: 0.9251117706298828, AUC on val: 0.9378415421267691\n",
      "Epoch: 1400, Loss: 0.32504981756210327, Accuracy on val: 0.8865714073181152, F1 score on val: 0.926056981086731, AUC on val: 0.9381548065095366\n",
      "Epoch: 1500, Loss: 0.32063645124435425, Accuracy on val: 0.8868571519851685, F1 score on val: 0.9261744618415833, AUC on val: 0.9384353747508024\n",
      "Epoch: 1600, Loss: 0.31669336557388306, Accuracy on val: 0.8874285817146301, F1 score on val: 0.9264650940895081, AUC on val: 0.9386664569400653\n",
      "Epoch: 1700, Loss: 0.313148558139801, Accuracy on val: 0.8880000114440918, F1 score on val: 0.9268110990524292, AUC on val: 0.9388692613853268\n",
      "Epoch: 1800, Loss: 0.30994394421577454, Accuracy on val: 0.8880000114440918, F1 score on val: 0.9267836809158325, AUC on val: 0.9390890766609641\n",
      "Epoch: 1900, Loss: 0.30703237652778625, Accuracy on val: 0.8880000114440918, F1 score on val: 0.9267563223838806, AUC on val: 0.9392991714621007\n",
      "Epoch: 2000, Loss: 0.30437490344047546, Accuracy on val: 0.8894285559654236, F1 score on val: 0.9276500344276428, AUC on val: 0.9394193518741075\n",
      "Epoch: 2100, Loss: 0.3019391596317291, Accuracy on val: 0.8894285559654236, F1 score on val: 0.9275959134101868, AUC on val: 0.9395519037991149\n",
      "Epoch: 2200, Loss: 0.2996981739997864, Accuracy on val: 0.8897143006324768, F1 score on val: 0.9277694821357727, AUC on val: 0.9396999201153733\n",
      "Epoch: 2300, Loss: 0.29762911796569824, Accuracy on val: 0.8899999856948853, F1 score on val: 0.9279430508613586, AUC on val: 0.939836448598131\n",
      "Epoch: 2400, Loss: 0.29571250081062317, Accuracy on val: 0.8894285559654236, F1 score on val: 0.9275416135787964, AUC on val: 0.9399539779716374\n",
      "Epoch: 2500, Loss: 0.2939317226409912, Accuracy on val: 0.8899999856948853, F1 score on val: 0.9278891086578369, AUC on val: 0.940069739986144\n",
      "Epoch: 2600, Loss: 0.29227256774902344, Accuracy on val: 0.8899999856948853, F1 score on val: 0.9278891086578369, AUC on val: 0.9402031755906514\n",
      "Epoch: 2700, Loss: 0.29072266817092896, Accuracy on val: 0.8902857303619385, F1 score on val: 0.9280629754066467, AUC on val: 0.9403184957654077\n",
      "Epoch: 2800, Loss: 0.2892712652683258, Accuracy on val: 0.8905714154243469, F1 score on val: 0.9281830191612244, AUC on val: 0.9404168051097883\n",
      "Epoch: 2900, Loss: 0.28790897130966187, Accuracy on val: 0.8905714154243469, F1 score on val: 0.9281830191612244, AUC on val: 0.9405208583709193\n",
      "Epoch: 3000, Loss: 0.28662756085395813, Accuracy on val: 0.8908571600914001, F1 score on val: 0.9283570647239685, AUC on val: 0.9405906690514231\n",
      "Epoch: 3100, Loss: 0.2854198217391968, Accuracy on val: 0.8911428451538086, F1 score on val: 0.9285312294960022, AUC on val: 0.9406759441231778\n",
      "Epoch: 3200, Loss: 0.2842792868614197, Accuracy on val: 0.8914285898208618, F1 score on val: 0.9287320971488953, AUC on val: 0.9407638702334327\n",
      "Epoch: 3300, Loss: 0.2832002639770508, Accuracy on val: 0.8914285898208618, F1 score on val: 0.9287320971488953, AUC on val: 0.9408500289846875\n",
      "Epoch: 3400, Loss: 0.28217780590057373, Accuracy on val: 0.8917142748832703, F1 score on val: 0.9289063811302185, AUC on val: 0.9409273509409419\n",
      "Epoch: 3500, Loss: 0.2812071740627289, Accuracy on val: 0.8917142748832703, F1 score on val: 0.9289063811302185, AUC on val: 0.9410113004934466\n",
      "Epoch: 3600, Loss: 0.28028449416160583, Accuracy on val: 0.8920000195503235, F1 score on val: 0.9291073083877563, AUC on val: 0.9410848668118257\n",
      "Epoch: 3700, Loss: 0.27940601110458374, Accuracy on val: 0.8922857046127319, F1 score on val: 0.9292815327644348, AUC on val: 0.9411504800147044\n",
      "Epoch: 3800, Loss: 0.2785685062408447, Accuracy on val: 0.8925714492797852, F1 score on val: 0.9294559359550476, AUC on val: 0.9412198488554584\n",
      "Epoch: 3900, Loss: 0.27776893973350525, Accuracy on val: 0.8931428790092468, F1 score on val: 0.9298312067985535, AUC on val: 0.9412945197732124\n",
      "Epoch: 4000, Loss: 0.2770046293735504, Accuracy on val: 0.8931428790092468, F1 score on val: 0.9298312067985535, AUC on val: 0.9413645513735914\n",
      "Epoch: 4100, Loss: 0.2762731909751892, Accuracy on val: 0.8931428790092468, F1 score on val: 0.9298574924468994, AUC on val: 0.9414275135379697\n",
      "Epoch: 4200, Loss: 0.2755722999572754, Accuracy on val: 0.8934285640716553, F1 score on val: 0.9300318956375122, AUC on val: 0.941481417987473\n",
      "Epoch: 4300, Loss: 0.27490007877349854, Accuracy on val: 0.8937143087387085, F1 score on val: 0.9302325248718262, AUC on val: 0.941536206116476\n",
      "Epoch: 4400, Loss: 0.27425453066825867, Accuracy on val: 0.8934285640716553, F1 score on val: 0.9300318956375122, AUC on val: 0.9415874595274788\n",
      "Epoch: 4500, Loss: 0.27363401651382446, Accuracy on val: 0.8934285640716553, F1 score on val: 0.9300318956375122, AUC on val: 0.9416532936502324\n",
      "Epoch: 4600, Loss: 0.2730368971824646, Accuracy on val: 0.8934285640716553, F1 score on val: 0.9300318956375122, AUC on val: 0.941697919464985\n",
      "Epoch: 4700, Loss: 0.2724619209766388, Accuracy on val: 0.8934285640716553, F1 score on val: 0.9300318956375122, AUC on val: 0.9417571259914884\n",
      "Epoch: 4800, Loss: 0.27190759778022766, Accuracy on val: 0.8934285640716553, F1 score on val: 0.930005669593811, AUC on val: 0.9418150069987415\n",
      "Epoch: 4900, Loss: 0.2713727653026581, Accuracy on val: 0.8934285640716553, F1 score on val: 0.930005669593811, AUC on val: 0.9418742135252449\n",
      "Best AUC: 0.9419179556604975, Best F1: 0.9302325248718262, Best epoch: 4998\n"
     ]
    },
    {
     "data": {
      "text/plain": [
       "<Figure size 640x480 with 1 Axes>"
      ],
      "image/png": "[encoded data removed]"
     },
     "metadata": {},
     "output_type": "display_data"
    }
   ],
   "execution_count": 21
  },
  {
   "cell_type": "markdown",
   "metadata": {},
   "source": [
    "## LR with data standardization and PCA"
   ]
  },
  {
   "cell_type": "code",
   "metadata": {
    "ExecuteTime": {
     "end_time": "2024-05-02T14:49:25.090230Z",
     "start_time": "2024-05-02T14:49:25.086393Z"
    }
   },
   "source": [
    "from sklearn.decomposition import PCA"
   ],
   "outputs": [],
   "execution_count": 22
  },
  {
   "cell_type": "code",
   "metadata": {
    "ExecuteTime": {
     "end_time": "2024-05-02T14:49:32.965815Z",
     "start_time": "2024-05-02T14:49:25.093126Z"
    }
   },
   "source": [
    "X_train = []\n",
    "y_train = []\n",
    "for images, labels in dataloaders[TRAIN]:\n",
    "    \n",
    "    images = images.view(-1, n_features)\n",
    "    X_train.append(images)\n",
    "    y_train.append(labels)\n",
    "X_train = torch.cat(X_train, dim=0)\n",
    "y_train = torch.cat(y_train, dim=0)\n",
    "X_val = []\n",
    "y_val = []\n",
    "for images, labels in dataloaders[VAL]:\n",
    "    images = images.view(-1, n_features)\n",
    "    X_val.append(images)\n",
    "    y_val.append(labels)\n",
    "X_val = torch.cat(X_val, dim=0)\n",
    "y_val = torch.cat(y_val, dim=0)"
   ],
   "outputs": [],
   "execution_count": 23
  },
  {
   "cell_type": "code",
   "metadata": {
    "ExecuteTime": {
     "end_time": "2024-05-02T14:49:37.002803Z",
     "start_time": "2024-05-02T14:49:32.966897Z"
    }
   },
   "source": [
    "# retain only n_componenets feature with highest variance using PCA\n",
    "n_components = 612\n",
    "pca = PCA(n_components=n_components)\n",
    "X_train_pca = pca.fit_transform(X_train.detach().numpy())\n",
    "X_val_pca = pca.transform(X_val.detach().numpy())\n",
    "#transform in tensors\n",
    "print(X_train_pca.shape)\n",
    "X_train_pca = torch.tensor(X_train_pca)\n",
    "X_val_pca = torch.tensor(X_val_pca)\n",
    "\n",
    "#compute mean of X_train_pca\n",
    "mean = X_train_pca.mean().item()\n",
    "std = X_train_pca.std().item()\n",
    "\n",
    "print(mean)\n",
    "print(std)\n",
    "\n",
    "#standardize X_train_pca and X_val_pca using mean and std\n",
    "X_train_pca = (X_train_pca - mean) / std\n",
    "X_val_pca = (X_val_pca - mean) / std\n"
   ],
   "outputs": [
    {
     "name": "stdout",
     "output_type": "stream",
     "text": [
      "(12250, 612)\n",
      "-1.1397788268752151e-10\n",
      "0.3217460811138153\n"
     ]
    }
   ],
   "execution_count": 24
  },
  {
   "cell_type": "code",
   "metadata": {
    "ExecuteTime": {
     "end_time": "2024-05-02T15:01:05.767249Z",
     "start_time": "2024-05-02T15:01:05.762322Z"
    }
   },
   "source": [
    "\n",
    "model = LogisticRegression(X_train_pca.shape[1])\n",
    "print(\"Number of parameters in the model: \"+str(sum(p.numel() for p in model.parameters() if p.requires_grad)))\n",
    "\n",
    "# Loss and optimizer\n",
    "learning_rate = 0.001\n",
    "criterion = nn.BCELoss()\n",
    "optimizer = optim.SGD(model.parameters(), lr=learning_rate, momentum=0.9)\n",
    "exp_lr_scheduler = lr_scheduler.StepLR(optimizer, step_size=7, gamma=0.1)"
   ],
   "outputs": [
    {
     "name": "stdout",
     "output_type": "stream",
     "text": [
      "Number of parameters in the model: 613\n"
     ]
    }
   ],
   "execution_count": 33
  },
  {
   "cell_type": "code",
   "metadata": {
    "ExecuteTime": {
     "end_time": "2024-05-02T14:50:01.746418Z",
     "start_time": "2024-05-02T14:49:37.019021Z"
    }
   },
   "source": [
    "\n",
    "#Train model using pca features\n",
    "accs_train, accs_val, aucs, f1_scores, best_fpr, best_tpr, best_auc, best_f1, epoch_best = train_model(model, criterion, optimizer, 'LR', X_train_pca, y_train, X_val_pca, y_val, num_epochs=5000)\n",
    "print(f'Best AUC: {best_auc}, Best F1: {best_f1}, Best epoch: {epoch_best}')\n",
    "#plot accuracies of val and training\n",
    "plt.plot(accs_train, label='Train')\n",
    "plt.plot(accs_val, label='Val')\n",
    "plt.legend()\n",
    "plt.show()\n"
   ],
   "outputs": [
    {
     "name": "stdout",
     "output_type": "stream",
     "text": [
      "Epoch: 0, Loss: 0.7349820733070374, Accuracy on val: 0.5208571553230286, F1 score on val: 0.6159834861755371, AUC on val: 0.5241319616271014\n",
      "Epoch: 100, Loss: 0.4757404029369354, Accuracy on val: 0.7991428375244141, F1 score on val: 0.8501385450363159, AUC on val: 0.9278860088792116\n",
      "Epoch: 200, Loss: 0.41707274317741394, Accuracy on val: 0.8334285616874695, F1 score on val: 0.8792710900306702, AUC on val: 0.9356142279468944\n",
      "Epoch: 300, Loss: 0.38271957635879517, Accuracy on val: 0.8534285426139832, F1 score on val: 0.8955405950546265, AUC on val: 0.9381972231255391\n",
      "Epoch: 400, Loss: 0.3583419919013977, Accuracy on val: 0.8665714263916016, F1 score on val: 0.9063189625740051, AUC on val: 0.9396552943006208\n",
      "Epoch: 500, Loss: 0.34001797437667847, Accuracy on val: 0.8774285912513733, F1 score on val: 0.914762556552887, AUC on val: 0.940639713263676\n",
      "Epoch: 600, Loss: 0.3258034288883209, Accuracy on val: 0.8825713992118835, F1 score on val: 0.9189828634262085, AUC on val: 0.9413139607222136\n",
      "Epoch: 700, Loss: 0.3145110309123993, Accuracy on val: 0.8897143006324768, F1 score on val: 0.9243730306625366, AUC on val: 0.9418185417167418\n",
      "Epoch: 800, Loss: 0.3053576350212097, Accuracy on val: 0.8920000195503235, F1 score on val: 0.9262006878852844, AUC on val: 0.9421720135167617\n",
      "Epoch: 900, Loss: 0.2978064715862274, Accuracy on val: 0.8960000276565552, F1 score on val: 0.9292104840278625, AUC on val: 0.9424777666237788\n",
      "Epoch: 1000, Loss: 0.291480153799057, Accuracy on val: 0.8960000276565552, F1 score on val: 0.9294300079345703, AUC on val: 0.9427349173582931\n",
      "Epoch: 1100, Loss: 0.28610727190971375, Accuracy on val: 0.8960000276565552, F1 score on val: 0.9296754002571106, AUC on val: 0.9429536280345553\n",
      "Epoch: 1200, Loss: 0.2814888060092926, Accuracy on val: 0.8971428275108337, F1 score on val: 0.93068927526474, AUC on val: 0.9431113648253142\n",
      "Epoch: 1300, Loss: 0.27747607231140137, Accuracy on val: 0.8971428275108337, F1 score on val: 0.9308490753173828, AUC on val: 0.9432792639303236\n",
      "Epoch: 1400, Loss: 0.2739562690258026, Accuracy on val: 0.8968571424484253, F1 score on val: 0.9307765960693359, AUC on val: 0.9433875146690797\n",
      "Epoch: 1500, Loss: 0.27084222435951233, Accuracy on val: 0.897428572177887, F1 score on val: 0.9312918782234192, AUC on val: 0.9434891378115853\n",
      "Epoch: 1600, Loss: 0.26806607842445374, Accuracy on val: 0.8988571166992188, F1 score on val: 0.9323394894599915, AUC on val: 0.9436018069478418\n",
      "Epoch: 1700, Loss: 0.2655738294124603, Accuracy on val: 0.8988571166992188, F1 score on val: 0.9323911666870117, AUC on val: 0.9436853146605964\n",
      "Epoch: 1800, Loss: 0.26332253217697144, Accuracy on val: 0.8985714316368103, F1 score on val: 0.9322130680084229, AUC on val: 0.9437674968541011\n",
      "Epoch: 1900, Loss: 0.26127707958221436, Accuracy on val: 0.8997142910957336, F1 score on val: 0.9330536127090454, AUC on val: 0.9438412840923551\n",
      "Epoch: 2000, Loss: 0.2594091594219208, Accuracy on val: 0.899142861366272, F1 score on val: 0.9327490925788879, AUC on val: 0.9439186060486094\n",
      "Epoch: 2100, Loss: 0.25769510865211487, Accuracy on val: 0.899142861366272, F1 score on val: 0.93280029296875, AUC on val: 0.9439782544148627\n",
      "Epoch: 2200, Loss: 0.25611546635627747, Accuracy on val: 0.8988571166992188, F1 score on val: 0.9326483607292175, AUC on val: 0.9440259731078654\n",
      "Epoch: 2300, Loss: 0.2546539604663849, Accuracy on val: 0.8988571166992188, F1 score on val: 0.9326996207237244, AUC on val: 0.9440750173201181\n",
      "Epoch: 2400, Loss: 0.2532965838909149, Accuracy on val: 0.8997142910957336, F1 score on val: 0.933307945728302, AUC on val: 0.9441275962503711\n",
      "Epoch: 2500, Loss: 0.25203171372413635, Accuracy on val: 0.8994285464286804, F1 score on val: 0.9331052899360657, AUC on val: 0.9441722220651235\n",
      "Epoch: 2600, Loss: 0.2508494555950165, Accuracy on val: 0.8997142910957336, F1 score on val: 0.933307945728302, AUC on val: 0.9442018253283753\n",
      "Epoch: 2700, Loss: 0.2497408539056778, Accuracy on val: 0.899142861366272, F1 score on val: 0.9329534769058228, AUC on val: 0.944232312271127\n",
      "Epoch: 2800, Loss: 0.24869897961616516, Accuracy on val: 0.8985714316368103, F1 score on val: 0.9325991868972778, AUC on val: 0.9442778217653797\n",
      "Epoch: 2900, Loss: 0.24771693348884583, Accuracy on val: 0.8985714316368103, F1 score on val: 0.9325991868972778, AUC on val: 0.9443056576696311\n",
      "Epoch: 3000, Loss: 0.2467893362045288, Accuracy on val: 0.8982856869697571, F1 score on val: 0.9324478507041931, AUC on val: 0.9443250986186322\n",
      "Epoch: 3100, Loss: 0.24591103196144104, Accuracy on val: 0.8985714316368103, F1 score on val: 0.9326503276824951, AUC on val: 0.9443493998048836\n",
      "Epoch: 3200, Loss: 0.24507808685302734, Accuracy on val: 0.8985714316368103, F1 score on val: 0.9326758980751038, AUC on val: 0.9443697244333846\n",
      "Epoch: 3300, Loss: 0.2442861944437027, Accuracy on val: 0.8985714316368103, F1 score on val: 0.9326758980751038, AUC on val: 0.9444002113761365\n",
      "Epoch: 3400, Loss: 0.2435324788093567, Accuracy on val: 0.8980000019073486, F1 score on val: 0.9322965741157532, AUC on val: 0.9444368840753886\n",
      "Epoch: 3500, Loss: 0.24281345307826996, Accuracy on val: 0.897428572177887, F1 score on val: 0.9319431185722351, AUC on val: 0.9444620689411398\n",
      "Epoch: 3600, Loss: 0.24212665855884552, Accuracy on val: 0.8977142572402954, F1 score on val: 0.9321712851524353, AUC on val: 0.9444912303646417\n",
      "Epoch: 3700, Loss: 0.24146953225135803, Accuracy on val: 0.8971428275108337, F1 score on val: 0.9317923188209534, AUC on val: 0.9445029391180173\n",
      "Epoch: 3800, Loss: 0.24084031581878662, Accuracy on val: 0.897428572177887, F1 score on val: 0.9319946765899658, AUC on val: 0.9445226009868932\n",
      "Epoch: 3900, Loss: 0.24023646116256714, Accuracy on val: 0.897428572177887, F1 score on val: 0.9320204257965088, AUC on val: 0.9445362980191441\n",
      "Epoch: 4000, Loss: 0.23965661227703094, Accuracy on val: 0.8977142572402954, F1 score on val: 0.9322226643562317, AUC on val: 0.9445676686413959\n",
      "Epoch: 4100, Loss: 0.2390991747379303, Accuracy on val: 0.8977142572402954, F1 score on val: 0.9322226643562317, AUC on val: 0.9445667849618957\n",
      "Epoch: 4200, Loss: 0.23856253921985626, Accuracy on val: 0.8971428275108337, F1 score on val: 0.9318698048591614, AUC on val: 0.944588435109647\n",
      "Epoch: 4300, Loss: 0.2380460947751999, Accuracy on val: 0.8977142572402954, F1 score on val: 0.9322739243507385, AUC on val: 0.9446145036548984\n",
      "Epoch: 4400, Loss: 0.2375470995903015, Accuracy on val: 0.8977142572402954, F1 score on val: 0.9322482943534851, AUC on val: 0.9446220149306489\n",
      "Epoch: 4500, Loss: 0.2370658665895462, Accuracy on val: 0.8982856869697571, F1 score on val: 0.9326267838478088, AUC on val: 0.9446372584020246\n",
      "Epoch: 4600, Loss: 0.23660054802894592, Accuracy on val: 0.8982856869697571, F1 score on val: 0.9326267838478088, AUC on val: 0.9446405722001496\n",
      "Epoch: 4700, Loss: 0.2361510694026947, Accuracy on val: 0.8982856869697571, F1 score on val: 0.9326267838478088, AUC on val: 0.9446604549889009\n",
      "Epoch: 4800, Loss: 0.2357155978679657, Accuracy on val: 0.8982856869697571, F1 score on val: 0.9326267838478088, AUC on val: 0.9446821051366522\n",
      "Epoch: 4900, Loss: 0.23529426753520966, Accuracy on val: 0.8982856869697571, F1 score on val: 0.9326267838478088, AUC on val: 0.9447019879254033\n",
      "Best AUC: 0.9447121502396539, Best F1: 0.933307945728302, Best epoch: 4955\n"
     ]
    },
    {
     "data": {
      "text/plain": [
       "<Figure size 640x480 with 1 Axes>"
      ],
      "image/png": "[encoded data removed]"
     },
     "metadata": {},
     "output_type": "display_data"
    }
   ],
   "execution_count": 26
  },
  {
   "cell_type": "code",
   "metadata": {
    "ExecuteTime": {
     "end_time": "2024-05-02T14:50:47.047116Z",
     "start_time": "2024-05-02T14:50:47.043411Z"
    }
   },
   "source": [
    "# show memory occupation of the model\n",
    "# save model on memory\n",
    "torch.save(model, '../../data/LRmodel.pth')"
   ],
   "outputs": [],
   "execution_count": 29
  },
  {
   "cell_type": "code",
   "metadata": {
    "ExecuteTime": {
     "end_time": "2024-05-02T14:50:47.128678Z",
     "start_time": "2024-05-02T14:50:47.101204Z"
    }
   },
   "source": [
    "from torch.profiler import profile, record_function, ProfilerActivity\n",
    "with profile(activities=[ProfilerActivity.CPU], profile_memory=True, record_shapes=True) as prof:\n",
    "    with record_function(\"model_inference\"):\n",
    "        model(X_val_pca)\n",
    "\n",
    "print(prof.key_averages().table(sort_by=\"cpu_time_total\", row_limit=10))"
   ],
   "outputs": [
    {
     "name": "stdout",
     "output_type": "stream",
     "text": [
      "----------------------  ------------  ------------  ------------  ------------  ------------  ------------  ------------  ------------  \n",
      "                  Name    Self CPU %      Self CPU   CPU total %     CPU total  CPU time avg       CPU Mem  Self CPU Mem    # of Calls  \n",
      "----------------------  ------------  ------------  ------------  ------------  ------------  ------------  ------------  ------------  \n",
      "       model_inference        23.08%     668.000us       100.00%       2.894ms       2.894ms           0 b     -27.34 Kb             1  \n",
      "          aten::linear         6.19%     179.000us        76.05%       2.201ms       2.201ms      13.67 Kb           0 b             1  \n",
      "               aten::t        32.69%     946.000us        40.26%       1.165ms       1.165ms           0 b           0 b             1  \n",
      "           aten::addmm        28.99%     839.000us        29.61%     857.000us     857.000us      13.67 Kb      13.67 Kb             1  \n",
      "       aten::transpose         7.43%     215.000us         7.57%     219.000us     219.000us           0 b           0 b             1  \n",
      "         aten::sigmoid         0.86%      25.000us         0.86%      25.000us      25.000us      13.67 Kb      13.67 Kb             1  \n",
      "           aten::copy_         0.38%      11.000us         0.38%      11.000us      11.000us           0 b           0 b             1  \n",
      "          aten::expand         0.21%       6.000us         0.24%       7.000us       7.000us           0 b           0 b             1  \n",
      "      aten::as_strided         0.17%       5.000us         0.17%       5.000us       2.500us           0 b           0 b             2  \n",
      "    aten::resolve_conj         0.00%       0.000us         0.00%       0.000us       0.000us           0 b           0 b             2  \n",
      "----------------------  ------------  ------------  ------------  ------------  ------------  ------------  ------------  ------------  \n",
      "Self CPU time total: 2.894ms\n",
      "\n"
     ]
    },
    {
     "name": "stderr",
     "output_type": "stream",
     "text": [
      "STAGE:2024-05-02 16:50:47 13129:13129 ActivityProfilerController.cpp:314] Completed Stage: Warm Up\n",
      "STAGE:2024-05-02 16:50:47 13129:13129 ActivityProfilerController.cpp:320] Completed Stage: Collection\n",
      "STAGE:2024-05-02 16:50:47 13129:13129 ActivityProfilerController.cpp:324] Completed Stage: Post Processing\n"
     ]
    }
   ],
   "execution_count": 30
  },
  {
   "cell_type": "markdown",
   "metadata": {},
   "source": [
    "## LR with PCA, normalization and histogram equalization"
   ]
  },
  {
   "cell_type": "code",
   "metadata": {
    "ExecuteTime": {
     "end_time": "2024-05-02T14:50:47.139491Z",
     "start_time": "2024-05-02T14:50:47.136649Z"
    }
   },
   "source": [
    "from sklearn.decomposition import PCA"
   ],
   "outputs": [],
   "execution_count": 31
  },
  {
   "cell_type": "code",
   "metadata": {
    "ExecuteTime": {
     "end_time": "2024-05-02T14:50:47.462242Z",
     "start_time": "2024-05-02T14:50:47.157301Z"
    }
   },
   "source": [
    "data_dir = '../../../data/train/train'\n",
    "csv_file = '../../../data/train.csv'\n",
    "TRAIN = 'train'\n",
    "VAL = 'val'\n",
    "TEST = 'test'\n",
    "\n",
    "#set the transforms for the images\n",
    "data_transforms = transforms.Compose([\n",
    "    transforms.RandomEqualize(p=1),\n",
    "    transforms.ToTensor(),\n",
    "])\n",
    "\n",
    "\n",
    "torch.manual_seed(42)\n",
    "image_dataset = CactusDataset.CactusDataset(csv_file, data_dir, data_transforms)\n",
    "# split into train, eval, test\n",
    "train_size = int(0.7 * len(image_dataset))\n",
    "eval_size = int(0.2 * len(image_dataset))\n",
    "test_size = len(image_dataset) - train_size - eval_size\n",
    "train_dataset, eval_dataset, test_dataset = torch.utils.data.random_split(image_dataset, [train_size, eval_size, test_size])\n"
   ],
   "outputs": [
    {
     "ename": "FileNotFoundError",
     "evalue": "[Errno 2] No such file or directory: '../../../data/train.csv'",
     "output_type": "error",
     "traceback": [
      "\u001B[0;31m---------------------------------------------------------------------------\u001B[0m",
      "\u001B[0;31mFileNotFoundError\u001B[0m                         Traceback (most recent call last)",
      "Cell \u001B[0;32mIn[32], line 15\u001B[0m\n\u001B[1;32m      8\u001B[0m data_transforms \u001B[38;5;241m=\u001B[39m transforms\u001B[38;5;241m.\u001B[39mCompose([\n\u001B[1;32m      9\u001B[0m     transforms\u001B[38;5;241m.\u001B[39mRandomEqualize(p\u001B[38;5;241m=\u001B[39m\u001B[38;5;241m1\u001B[39m),\n\u001B[1;32m     10\u001B[0m     transforms\u001B[38;5;241m.\u001B[39mToTensor(),\n\u001B[1;32m     11\u001B[0m ])\n\u001B[1;32m     14\u001B[0m torch\u001B[38;5;241m.\u001B[39mmanual_seed(\u001B[38;5;241m42\u001B[39m)\n\u001B[0;32m---> 15\u001B[0m image_dataset \u001B[38;5;241m=\u001B[39m \u001B[43mCactusDataset\u001B[49m\u001B[38;5;241;43m.\u001B[39;49m\u001B[43mCactusDataset\u001B[49m\u001B[43m(\u001B[49m\u001B[43mcsv_file\u001B[49m\u001B[43m,\u001B[49m\u001B[43m \u001B[49m\u001B[43mdata_dir\u001B[49m\u001B[43m,\u001B[49m\u001B[43m \u001B[49m\u001B[43mdata_transforms\u001B[49m\u001B[43m)\u001B[49m\n\u001B[1;32m     16\u001B[0m \u001B[38;5;66;03m# split into train, eval, test\u001B[39;00m\n\u001B[1;32m     17\u001B[0m train_size \u001B[38;5;241m=\u001B[39m \u001B[38;5;28mint\u001B[39m(\u001B[38;5;241m0.7\u001B[39m \u001B[38;5;241m*\u001B[39m \u001B[38;5;28mlen\u001B[39m(image_dataset))\n",
      "File \u001B[0;32m/media/michele/HardDisk/SCUOLA/Universita/Magistrale/Secondo_anno/AML/AML_Team42/Challenge_1/models/lr_baseline/CactusDataset.py:17\u001B[0m, in \u001B[0;36mCactusDataset.__init__\u001B[0;34m(self, csv_file, data_folder, transform)\u001B[0m\n\u001B[1;32m      9\u001B[0m \u001B[38;5;28;01mdef\u001B[39;00m \u001B[38;5;21m__init__\u001B[39m(\u001B[38;5;28mself\u001B[39m, csv_file, data_folder, transform\u001B[38;5;241m=\u001B[39m\u001B[38;5;28;01mNone\u001B[39;00m):\n\u001B[1;32m     10\u001B[0m \u001B[38;5;250m    \u001B[39m\u001B[38;5;124;03m\"\"\"\u001B[39;00m\n\u001B[1;32m     11\u001B[0m \u001B[38;5;124;03m    Arguments:\u001B[39;00m\n\u001B[1;32m     12\u001B[0m \u001B[38;5;124;03m        csv_file (string): Path to the csv file with annotations.\u001B[39;00m\n\u001B[0;32m   (...)\u001B[0m\n\u001B[1;32m     15\u001B[0m \u001B[38;5;124;03m            on a sample.\u001B[39;00m\n\u001B[1;32m     16\u001B[0m \u001B[38;5;124;03m    \"\"\"\u001B[39;00m\n\u001B[0;32m---> 17\u001B[0m     \u001B[38;5;28mself\u001B[39m\u001B[38;5;241m.\u001B[39mdf \u001B[38;5;241m=\u001B[39m \u001B[43mpd\u001B[49m\u001B[38;5;241;43m.\u001B[39;49m\u001B[43mread_csv\u001B[49m\u001B[43m(\u001B[49m\u001B[43mcsv_file\u001B[49m\u001B[43m)\u001B[49m\n\u001B[1;32m     18\u001B[0m     \u001B[38;5;28mself\u001B[39m\u001B[38;5;241m.\u001B[39mdata_folder \u001B[38;5;241m=\u001B[39m data_folder\n\u001B[1;32m     19\u001B[0m     \u001B[38;5;28mself\u001B[39m\u001B[38;5;241m.\u001B[39mtransform \u001B[38;5;241m=\u001B[39m transform\n",
      "File \u001B[0;32m~/.conda/envs/asi/lib/python3.8/site-packages/pandas/io/parsers/readers.py:912\u001B[0m, in \u001B[0;36mread_csv\u001B[0;34m(filepath_or_buffer, sep, delimiter, header, names, index_col, usecols, dtype, engine, converters, true_values, false_values, skipinitialspace, skiprows, skipfooter, nrows, na_values, keep_default_na, na_filter, verbose, skip_blank_lines, parse_dates, infer_datetime_format, keep_date_col, date_parser, date_format, dayfirst, cache_dates, iterator, chunksize, compression, thousands, decimal, lineterminator, quotechar, quoting, doublequote, escapechar, comment, encoding, encoding_errors, dialect, on_bad_lines, delim_whitespace, low_memory, memory_map, float_precision, storage_options, dtype_backend)\u001B[0m\n\u001B[1;32m    899\u001B[0m kwds_defaults \u001B[38;5;241m=\u001B[39m _refine_defaults_read(\n\u001B[1;32m    900\u001B[0m     dialect,\n\u001B[1;32m    901\u001B[0m     delimiter,\n\u001B[0;32m   (...)\u001B[0m\n\u001B[1;32m    908\u001B[0m     dtype_backend\u001B[38;5;241m=\u001B[39mdtype_backend,\n\u001B[1;32m    909\u001B[0m )\n\u001B[1;32m    910\u001B[0m kwds\u001B[38;5;241m.\u001B[39mupdate(kwds_defaults)\n\u001B[0;32m--> 912\u001B[0m \u001B[38;5;28;01mreturn\u001B[39;00m \u001B[43m_read\u001B[49m\u001B[43m(\u001B[49m\u001B[43mfilepath_or_buffer\u001B[49m\u001B[43m,\u001B[49m\u001B[43m \u001B[49m\u001B[43mkwds\u001B[49m\u001B[43m)\u001B[49m\n",
      "File \u001B[0;32m~/.conda/envs/asi/lib/python3.8/site-packages/pandas/io/parsers/readers.py:577\u001B[0m, in \u001B[0;36m_read\u001B[0;34m(filepath_or_buffer, kwds)\u001B[0m\n\u001B[1;32m    574\u001B[0m _validate_names(kwds\u001B[38;5;241m.\u001B[39mget(\u001B[38;5;124m\"\u001B[39m\u001B[38;5;124mnames\u001B[39m\u001B[38;5;124m\"\u001B[39m, \u001B[38;5;28;01mNone\u001B[39;00m))\n\u001B[1;32m    576\u001B[0m \u001B[38;5;66;03m# Create the parser.\u001B[39;00m\n\u001B[0;32m--> 577\u001B[0m parser \u001B[38;5;241m=\u001B[39m \u001B[43mTextFileReader\u001B[49m\u001B[43m(\u001B[49m\u001B[43mfilepath_or_buffer\u001B[49m\u001B[43m,\u001B[49m\u001B[43m \u001B[49m\u001B[38;5;241;43m*\u001B[39;49m\u001B[38;5;241;43m*\u001B[39;49m\u001B[43mkwds\u001B[49m\u001B[43m)\u001B[49m\n\u001B[1;32m    579\u001B[0m \u001B[38;5;28;01mif\u001B[39;00m chunksize \u001B[38;5;129;01mor\u001B[39;00m iterator:\n\u001B[1;32m    580\u001B[0m     \u001B[38;5;28;01mreturn\u001B[39;00m parser\n",
      "File \u001B[0;32m~/.conda/envs/asi/lib/python3.8/site-packages/pandas/io/parsers/readers.py:1407\u001B[0m, in \u001B[0;36mTextFileReader.__init__\u001B[0;34m(self, f, engine, **kwds)\u001B[0m\n\u001B[1;32m   1404\u001B[0m     \u001B[38;5;28mself\u001B[39m\u001B[38;5;241m.\u001B[39moptions[\u001B[38;5;124m\"\u001B[39m\u001B[38;5;124mhas_index_names\u001B[39m\u001B[38;5;124m\"\u001B[39m] \u001B[38;5;241m=\u001B[39m kwds[\u001B[38;5;124m\"\u001B[39m\u001B[38;5;124mhas_index_names\u001B[39m\u001B[38;5;124m\"\u001B[39m]\n\u001B[1;32m   1406\u001B[0m \u001B[38;5;28mself\u001B[39m\u001B[38;5;241m.\u001B[39mhandles: IOHandles \u001B[38;5;241m|\u001B[39m \u001B[38;5;28;01mNone\u001B[39;00m \u001B[38;5;241m=\u001B[39m \u001B[38;5;28;01mNone\u001B[39;00m\n\u001B[0;32m-> 1407\u001B[0m \u001B[38;5;28mself\u001B[39m\u001B[38;5;241m.\u001B[39m_engine \u001B[38;5;241m=\u001B[39m \u001B[38;5;28;43mself\u001B[39;49m\u001B[38;5;241;43m.\u001B[39;49m\u001B[43m_make_engine\u001B[49m\u001B[43m(\u001B[49m\u001B[43mf\u001B[49m\u001B[43m,\u001B[49m\u001B[43m \u001B[49m\u001B[38;5;28;43mself\u001B[39;49m\u001B[38;5;241;43m.\u001B[39;49m\u001B[43mengine\u001B[49m\u001B[43m)\u001B[49m\n",
      "File \u001B[0;32m~/.conda/envs/asi/lib/python3.8/site-packages/pandas/io/parsers/readers.py:1661\u001B[0m, in \u001B[0;36mTextFileReader._make_engine\u001B[0;34m(self, f, engine)\u001B[0m\n\u001B[1;32m   1659\u001B[0m     \u001B[38;5;28;01mif\u001B[39;00m \u001B[38;5;124m\"\u001B[39m\u001B[38;5;124mb\u001B[39m\u001B[38;5;124m\"\u001B[39m \u001B[38;5;129;01mnot\u001B[39;00m \u001B[38;5;129;01min\u001B[39;00m mode:\n\u001B[1;32m   1660\u001B[0m         mode \u001B[38;5;241m+\u001B[39m\u001B[38;5;241m=\u001B[39m \u001B[38;5;124m\"\u001B[39m\u001B[38;5;124mb\u001B[39m\u001B[38;5;124m\"\u001B[39m\n\u001B[0;32m-> 1661\u001B[0m \u001B[38;5;28mself\u001B[39m\u001B[38;5;241m.\u001B[39mhandles \u001B[38;5;241m=\u001B[39m \u001B[43mget_handle\u001B[49m\u001B[43m(\u001B[49m\n\u001B[1;32m   1662\u001B[0m \u001B[43m    \u001B[49m\u001B[43mf\u001B[49m\u001B[43m,\u001B[49m\n\u001B[1;32m   1663\u001B[0m \u001B[43m    \u001B[49m\u001B[43mmode\u001B[49m\u001B[43m,\u001B[49m\n\u001B[1;32m   1664\u001B[0m \u001B[43m    \u001B[49m\u001B[43mencoding\u001B[49m\u001B[38;5;241;43m=\u001B[39;49m\u001B[38;5;28;43mself\u001B[39;49m\u001B[38;5;241;43m.\u001B[39;49m\u001B[43moptions\u001B[49m\u001B[38;5;241;43m.\u001B[39;49m\u001B[43mget\u001B[49m\u001B[43m(\u001B[49m\u001B[38;5;124;43m\"\u001B[39;49m\u001B[38;5;124;43mencoding\u001B[39;49m\u001B[38;5;124;43m\"\u001B[39;49m\u001B[43m,\u001B[49m\u001B[43m \u001B[49m\u001B[38;5;28;43;01mNone\u001B[39;49;00m\u001B[43m)\u001B[49m\u001B[43m,\u001B[49m\n\u001B[1;32m   1665\u001B[0m \u001B[43m    \u001B[49m\u001B[43mcompression\u001B[49m\u001B[38;5;241;43m=\u001B[39;49m\u001B[38;5;28;43mself\u001B[39;49m\u001B[38;5;241;43m.\u001B[39;49m\u001B[43moptions\u001B[49m\u001B[38;5;241;43m.\u001B[39;49m\u001B[43mget\u001B[49m\u001B[43m(\u001B[49m\u001B[38;5;124;43m\"\u001B[39;49m\u001B[38;5;124;43mcompression\u001B[39;49m\u001B[38;5;124;43m\"\u001B[39;49m\u001B[43m,\u001B[49m\u001B[43m \u001B[49m\u001B[38;5;28;43;01mNone\u001B[39;49;00m\u001B[43m)\u001B[49m\u001B[43m,\u001B[49m\n\u001B[1;32m   1666\u001B[0m \u001B[43m    \u001B[49m\u001B[43mmemory_map\u001B[49m\u001B[38;5;241;43m=\u001B[39;49m\u001B[38;5;28;43mself\u001B[39;49m\u001B[38;5;241;43m.\u001B[39;49m\u001B[43moptions\u001B[49m\u001B[38;5;241;43m.\u001B[39;49m\u001B[43mget\u001B[49m\u001B[43m(\u001B[49m\u001B[38;5;124;43m\"\u001B[39;49m\u001B[38;5;124;43mmemory_map\u001B[39;49m\u001B[38;5;124;43m\"\u001B[39;49m\u001B[43m,\u001B[49m\u001B[43m \u001B[49m\u001B[38;5;28;43;01mFalse\u001B[39;49;00m\u001B[43m)\u001B[49m\u001B[43m,\u001B[49m\n\u001B[1;32m   1667\u001B[0m \u001B[43m    \u001B[49m\u001B[43mis_text\u001B[49m\u001B[38;5;241;43m=\u001B[39;49m\u001B[43mis_text\u001B[49m\u001B[43m,\u001B[49m\n\u001B[1;32m   1668\u001B[0m \u001B[43m    \u001B[49m\u001B[43merrors\u001B[49m\u001B[38;5;241;43m=\u001B[39;49m\u001B[38;5;28;43mself\u001B[39;49m\u001B[38;5;241;43m.\u001B[39;49m\u001B[43moptions\u001B[49m\u001B[38;5;241;43m.\u001B[39;49m\u001B[43mget\u001B[49m\u001B[43m(\u001B[49m\u001B[38;5;124;43m\"\u001B[39;49m\u001B[38;5;124;43mencoding_errors\u001B[39;49m\u001B[38;5;124;43m\"\u001B[39;49m\u001B[43m,\u001B[49m\u001B[43m \u001B[49m\u001B[38;5;124;43m\"\u001B[39;49m\u001B[38;5;124;43mstrict\u001B[39;49m\u001B[38;5;124;43m\"\u001B[39;49m\u001B[43m)\u001B[49m\u001B[43m,\u001B[49m\n\u001B[1;32m   1669\u001B[0m \u001B[43m    \u001B[49m\u001B[43mstorage_options\u001B[49m\u001B[38;5;241;43m=\u001B[39;49m\u001B[38;5;28;43mself\u001B[39;49m\u001B[38;5;241;43m.\u001B[39;49m\u001B[43moptions\u001B[49m\u001B[38;5;241;43m.\u001B[39;49m\u001B[43mget\u001B[49m\u001B[43m(\u001B[49m\u001B[38;5;124;43m\"\u001B[39;49m\u001B[38;5;124;43mstorage_options\u001B[39;49m\u001B[38;5;124;43m\"\u001B[39;49m\u001B[43m,\u001B[49m\u001B[43m \u001B[49m\u001B[38;5;28;43;01mNone\u001B[39;49;00m\u001B[43m)\u001B[49m\u001B[43m,\u001B[49m\n\u001B[1;32m   1670\u001B[0m \u001B[43m\u001B[49m\u001B[43m)\u001B[49m\n\u001B[1;32m   1671\u001B[0m \u001B[38;5;28;01massert\u001B[39;00m \u001B[38;5;28mself\u001B[39m\u001B[38;5;241m.\u001B[39mhandles \u001B[38;5;129;01mis\u001B[39;00m \u001B[38;5;129;01mnot\u001B[39;00m \u001B[38;5;28;01mNone\u001B[39;00m\n\u001B[1;32m   1672\u001B[0m f \u001B[38;5;241m=\u001B[39m \u001B[38;5;28mself\u001B[39m\u001B[38;5;241m.\u001B[39mhandles\u001B[38;5;241m.\u001B[39mhandle\n",
      "File \u001B[0;32m~/.conda/envs/asi/lib/python3.8/site-packages/pandas/io/common.py:859\u001B[0m, in \u001B[0;36mget_handle\u001B[0;34m(path_or_buf, mode, encoding, compression, memory_map, is_text, errors, storage_options)\u001B[0m\n\u001B[1;32m    854\u001B[0m \u001B[38;5;28;01melif\u001B[39;00m \u001B[38;5;28misinstance\u001B[39m(handle, \u001B[38;5;28mstr\u001B[39m):\n\u001B[1;32m    855\u001B[0m     \u001B[38;5;66;03m# Check whether the filename is to be opened in binary mode.\u001B[39;00m\n\u001B[1;32m    856\u001B[0m     \u001B[38;5;66;03m# Binary mode does not support 'encoding' and 'newline'.\u001B[39;00m\n\u001B[1;32m    857\u001B[0m     \u001B[38;5;28;01mif\u001B[39;00m ioargs\u001B[38;5;241m.\u001B[39mencoding \u001B[38;5;129;01mand\u001B[39;00m \u001B[38;5;124m\"\u001B[39m\u001B[38;5;124mb\u001B[39m\u001B[38;5;124m\"\u001B[39m \u001B[38;5;129;01mnot\u001B[39;00m \u001B[38;5;129;01min\u001B[39;00m ioargs\u001B[38;5;241m.\u001B[39mmode:\n\u001B[1;32m    858\u001B[0m         \u001B[38;5;66;03m# Encoding\u001B[39;00m\n\u001B[0;32m--> 859\u001B[0m         handle \u001B[38;5;241m=\u001B[39m \u001B[38;5;28;43mopen\u001B[39;49m\u001B[43m(\u001B[49m\n\u001B[1;32m    860\u001B[0m \u001B[43m            \u001B[49m\u001B[43mhandle\u001B[49m\u001B[43m,\u001B[49m\n\u001B[1;32m    861\u001B[0m \u001B[43m            \u001B[49m\u001B[43mioargs\u001B[49m\u001B[38;5;241;43m.\u001B[39;49m\u001B[43mmode\u001B[49m\u001B[43m,\u001B[49m\n\u001B[1;32m    862\u001B[0m \u001B[43m            \u001B[49m\u001B[43mencoding\u001B[49m\u001B[38;5;241;43m=\u001B[39;49m\u001B[43mioargs\u001B[49m\u001B[38;5;241;43m.\u001B[39;49m\u001B[43mencoding\u001B[49m\u001B[43m,\u001B[49m\n\u001B[1;32m    863\u001B[0m \u001B[43m            \u001B[49m\u001B[43merrors\u001B[49m\u001B[38;5;241;43m=\u001B[39;49m\u001B[43merrors\u001B[49m\u001B[43m,\u001B[49m\n\u001B[1;32m    864\u001B[0m \u001B[43m            \u001B[49m\u001B[43mnewline\u001B[49m\u001B[38;5;241;43m=\u001B[39;49m\u001B[38;5;124;43m\"\u001B[39;49m\u001B[38;5;124;43m\"\u001B[39;49m\u001B[43m,\u001B[49m\n\u001B[1;32m    865\u001B[0m \u001B[43m        \u001B[49m\u001B[43m)\u001B[49m\n\u001B[1;32m    866\u001B[0m     \u001B[38;5;28;01melse\u001B[39;00m:\n\u001B[1;32m    867\u001B[0m         \u001B[38;5;66;03m# Binary mode\u001B[39;00m\n\u001B[1;32m    868\u001B[0m         handle \u001B[38;5;241m=\u001B[39m \u001B[38;5;28mopen\u001B[39m(handle, ioargs\u001B[38;5;241m.\u001B[39mmode)\n",
      "\u001B[0;31mFileNotFoundError\u001B[0m: [Errno 2] No such file or directory: '../../../data/train.csv'"
     ]
    }
   ],
   "execution_count": 32
  },
  {
   "cell_type": "code",
   "metadata": {},
   "source": [
    "X_train = []\n",
    "y_train = []\n",
    "dataloader = DataLoader(train_dataset, batch_size=train_size, shuffle=True, num_workers=0)\n",
    "for images, labels in dataloader:\n",
    "    images = images.view(-1, n_features)\n",
    "    X_train.append(images)\n",
    "    y_train.append(labels)\n",
    "X_train = torch.cat(X_train, dim=0)\n",
    "y_train = torch.cat(y_train, dim=0)\n",
    "X_val = []\n",
    "y_val = []\n",
    "dataloader = DataLoader(eval_dataset, batch_size=eval_size, shuffle=False, num_workers=0)\n",
    "for images, labels in dataloader:\n",
    "    images = images.view(-1, n_features)\n",
    "    X_val.append(images)\n",
    "    y_val.append(labels)\n",
    "X_val = torch.cat(X_val, dim=0)\n",
    "y_val = torch.cat(y_val, dim=0)"
   ],
   "outputs": [],
   "execution_count": null
  },
  {
   "cell_type": "code",
   "metadata": {},
   "source": [
    "pca = PCA(n_components=X_train.shape[1])\n",
    "pca.fit(X_train)\n",
    "#plot number of features vs explained variance\n",
    "plt.plot(np.cumsum(pca.explained_variance_ratio_))\n",
    "plt.xlabel('number of components')\n",
    "plt.ylabel('cumulative explained variance')\n",
    "n_components = np.argmax(np.cumsum(pca.explained_variance_ratio_) > 0.99)\n",
    "plt.scatter(n_components, 0.99, color='r')\n",
    "plt.text(n_components, 0.99, '({}, {})'.format(n_components, 0.99), color='black')\n",
    "\n",
    "plt.show()\n",
    "\n",
    "#print n_components for 95% variance\n",
    "n_components = np.argmax(np.cumsum(pca.explained_variance_ratio_) > 0.99)\n",
    "print('Number of components for 95% variance: ', n_components)\n",
    "\n",
    "# retain only n_componenets feature with highest variance using PCA\n",
    "pca = PCA(n_components=n_components)\n",
    "X_train_pca = pca.fit_transform(X_train.detach().numpy())\n",
    "X_val_pca = pca.transform(X_val.detach().numpy())\n",
    "#transform in tensors\n",
    "print(X_train_pca.shape)\n",
    "X_train_pca = torch.tensor(X_train_pca)\n",
    "X_val_pca = torch.tensor(X_val_pca)\n",
    "\n",
    "#compute mean of X_train_pca\n",
    "mean = X_train_pca.mean().item()\n",
    "std = X_train_pca.std().item()\n",
    "\n",
    "print(mean)\n",
    "print(std)\n",
    "\n",
    "#standardize X_train_pca and X_val_pca using mean and std\n",
    "X_train_pca = (X_train_pca - mean) / std\n",
    "X_val_pca = (X_val_pca - mean) / std\n"
   ],
   "outputs": [],
   "execution_count": null
  },
  {
   "cell_type": "code",
   "metadata": {},
   "source": [
    "model = LogisticRegression(X_train_pca.shape[1])\n",
    "# Loss and optimizer\n",
    "learning_rate = 0.001\n",
    "criterion = nn.BCELoss()\n",
    "optimizer = optim.SGD(model.parameters(), lr=learning_rate, momentum=0.9)\n",
    "exp_lr_scheduler = lr_scheduler.StepLR(optimizer, step_size=7, gamma=0.1)"
   ],
   "outputs": [],
   "execution_count": null
  },
  {
   "cell_type": "code",
   "metadata": {},
   "source": [
    "#Train model using pca features\n",
    "accs_train, accs_val, aucs, f1_scores, best_fpr, best_tpr, best_auc, best_f1, epoch_best = train_model(model, criterion, optimizer, 'LR', X_train_pca, y_train, X_val_pca, y_val, num_epochs=5000)\n",
    "print(f'Best AUC: {best_auc}, Best F1: {best_f1}, Best epoch: {epoch_best}')\n",
    "#plot accuracies of val and training\n",
    "plt.plot(accs_train, label='Train')\n",
    "plt.plot(accs_val, label='Val')\n",
    "plt.legend()\n",
    "plt.show()\n"
   ],
   "outputs": [],
   "execution_count": null
  },
  {
   "cell_type": "markdown",
   "metadata": {},
   "source": [
    "## LR with oversampling"
   ]
  },
  {
   "cell_type": "code",
   "metadata": {},
   "source": [
    "from sklearn.decomposition import PCA"
   ],
   "outputs": [],
   "execution_count": null
  },
  {
   "cell_type": "code",
   "metadata": {},
   "source": [
    "data_dir = '../../../data/train/train'\n",
    "csv_file = '../../../data/train.csv'\n",
    "TRAIN = 'train'\n",
    "VAL = 'val'\n",
    "TEST = 'test'\n",
    "\n",
    "#set the transforms for the images\n",
    "data_transforms = transforms.Compose([\n",
    "    transforms.RandomHorizontalFlip(),\n",
    "    transforms.RandomRotation(30),\n",
    "    transforms.ToTensor(),\n",
    "])\n",
    "\n",
    "\n",
    "torch.manual_seed(42)\n",
    "image_dataset = CactusDataset.CactusDataset(csv_file, data_dir, data_transforms)\n",
    "print(image_dataset.get_class_distribution())\n",
    "\n",
    "\n",
    "image_dataset.oversample()\n",
    "print(len(image_dataset))\n",
    "\n",
    "# print number of classes\n",
    "print(image_dataset.get_class_distribution())\n",
    "\n",
    "# split into train, eval, test\n",
    "train_size = int(0.7 * len(image_dataset))\n",
    "eval_size = int(0.2 * len(image_dataset))\n",
    "test_size = len(image_dataset) - train_size - eval_size\n",
    "train_dataset, eval_dataset, test_dataset = torch.utils.data.random_split(image_dataset, [train_size, eval_size, test_size])\n",
    "\n",
    "n_features = 32 * 32 * 3"
   ],
   "outputs": [],
   "execution_count": null
  },
  {
   "cell_type": "code",
   "metadata": {},
   "source": [
    "X_train = []\n",
    "y_train = []\n",
    "dataloader = DataLoader(train_dataset, batch_size=train_size, shuffle=True, num_workers=0)\n",
    "for images, labels in dataloader:\n",
    "    images = images.view(-1, n_features)\n",
    "    X_train.append(images)\n",
    "    y_train.append(labels)\n",
    "X_train = torch.cat(X_train, dim=0)\n",
    "y_train = torch.cat(y_train, dim=0)\n",
    "X_val = []\n",
    "y_val = []\n",
    "dataloader = DataLoader(eval_dataset, batch_size=eval_size, shuffle=False, num_workers=0)\n",
    "for images, labels in dataloader:\n",
    "    images = images.view(-1, n_features)\n",
    "    X_val.append(images)\n",
    "    y_val.append(labels)\n",
    "X_val = torch.cat(X_val, dim=0)\n",
    "y_val = torch.cat(y_val, dim=0)\n",
    "n_features = X_train.shape[1]"
   ],
   "outputs": [],
   "execution_count": null
  },
  {
   "cell_type": "code",
   "metadata": {},
   "source": [
    "# retain only n_componenets feature with highest variance using PCA\n",
    "n_components = 612\n",
    "pca = PCA(n_components=n_components)\n",
    "X_train_pca = pca.fit_transform(X_train.detach().numpy())\n",
    "X_val_pca = pca.transform(X_val.detach().numpy())\n",
    "#transform in tensors\n",
    "X_train_pca = torch.tensor(X_train_pca)\n",
    "X_val_pca = torch.tensor(X_val_pca)\n",
    "\n",
    "#Standardize\n",
    "mean = X_train_pca.mean().item()\n",
    "std = X_train_pca.std().item()\n",
    "X_train_pca = (X_train_pca - mean) / std\n",
    "X_val_pca = (X_val_pca - mean) / std"
   ],
   "outputs": [],
   "execution_count": null
  },
  {
   "cell_type": "code",
   "metadata": {},
   "source": [
    "#instantiate model\n",
    "model = LogisticRegression(n_components)\n",
    "# Loss and optimizer\n",
    "learning_rate = 0.001\n",
    "criterion = nn.BCELoss()\n",
    "optimizer = optim.SGD(model.parameters(), lr=learning_rate, momentum=0.9)\n",
    "exp_lr_scheduler = lr_scheduler.StepLR(optimizer, step_size=7, gamma=0.1)"
   ],
   "outputs": [],
   "execution_count": null
  },
  {
   "cell_type": "code",
   "metadata": {},
   "source": [
    "# train model for 5000 epochs\n",
    "accs_train, accs_val, aucs, f1_scores, best_fpr, best_tpr, best_auc, best_f1, epoch_best = train_model(model, criterion, optimizer, 'LR', X_train_pca, y_train, X_val_pca, y_val, num_epochs=5000)\n",
    "print(f'Best AUC: {best_auc}, Best F1: {best_f1}, Best epoch: {epoch_best}')\n",
    "#plot accuracies of val and training\n",
    "plt.plot(accs_train, label='Train')\n",
    "plt.plot(accs_val, label='Val')\n",
    "plt.legend()\n",
    "plt.show()"
   ],
   "outputs": [],
   "execution_count": null
  }
 ],
 "metadata": {
  "kernelspec": {
   "display_name": "asi",
   "language": "python",
   "name": "python3"
  },
  "language_info": {
   "codemirror_mode": {
    "name": "ipython",
    "version": 3
   },
   "file_extension": ".py",
   "mimetype": "text/x-python",
   "name": "python",
   "nbconvert_exporter": "python",
   "pygments_lexer": "ipython3",
   "version": "3.12.2"
  }
 },
 "nbformat": 4,
 "nbformat_minor": 2
}
