{
 "cells": [
  {
   "cell_type": "code",
   "metadata": {
    "ExecuteTime": {
     "end_time": "2024-05-26T14:09:38.883159Z",
     "start_time": "2024-05-26T14:09:38.524887Z"
    }
   },
   "source": [
    "%reset -f\n",
    "import torch\n",
    "import numpy as np\n",
    "import pandas as pd\n",
    "import torch.nn as nn\n",
    "import torch.optim as optim\n",
    "from sklearn.metrics import roc_curve, auc\n",
    "from torch.utils.data import random_split, DataLoader\n",
    "from sklearn.model_selection import train_test_split\n",
    "\n",
    "from customDatasets.audioDataset import AudioDataset\n",
    "from torchviz import make_dot\n",
    "import hiddenlayer as hl"
   ],
   "execution_count": 29,
   "outputs": []
  },
  {
   "metadata": {
    "ExecuteTime": {
     "end_time": "2024-05-26T14:09:38.888229Z",
     "start_time": "2024-05-26T14:09:38.884477Z"
    }
   },
   "cell_type": "code",
   "source": [
    "# free gpu\n",
    "if torch.cuda.is_available():\n",
    "    torch.cuda.empty_cache()"
   ],
   "execution_count": 30,
   "outputs": []
  },
  {
   "cell_type": "code",
   "metadata": {
    "ExecuteTime": {
     "end_time": "2024-05-26T14:09:38.898446Z",
     "start_time": "2024-05-26T14:09:38.889621Z"
    }
   },
   "source": [
    "class Autoencoder(nn.Module):\n",
    "    def __init__(self, input_size, encoding_dim):\n",
    "        super(Autoencoder, self).__init__()\n",
    "        self.encoder = nn.Sequential(\n",
    "            nn.Linear(input_size, 1024),\n",
    "            nn.BatchNorm1d(1024),\n",
    "            nn.LeakyReLU(0.2),\n",
    "            nn.Linear(1024, 512),\n",
    "            nn.BatchNorm1d(512),\n",
    "            nn.LeakyReLU(0.2),\n",
    "            nn.Linear(512,512),\n",
    "            nn.BatchNorm1d(512),\n",
    "            nn.LeakyReLU(0.2),\n",
    "            nn.Linear(512, encoding_dim),\n",
    "            nn.BatchNorm1d(encoding_dim),\n",
    "            nn.LeakyReLU(0.2)\n",
    "        )\n",
    "\n",
    "        self.decoder = nn.Sequential(\n",
    "            nn.Linear(encoding_dim, 512),\n",
    "            nn.BatchNorm1d(512),\n",
    "            nn.LeakyReLU(0.2),\n",
    "            nn.Linear(512, 512),\n",
    "            nn.BatchNorm1d(512),\n",
    "            nn.LeakyReLU(0.2),\n",
    "            nn.Linear(512, 1024),\n",
    "            nn.BatchNorm1d(1024),\n",
    "            nn.LeakyReLU(0.2),\n",
    "            nn.Linear(1024, input_size),\n",
    "        )\n",
    "\n",
    "    def forward(self, x):\n",
    "        x = x.view(x.size(0), -1)\n",
    "        encoded = self.encoder(x)\n",
    "        decoded = self.decoder(encoded)\n",
    "        return decoded"
   ],
   "execution_count": 31,
   "outputs": []
  },
  {
   "metadata": {
    "ExecuteTime": {
     "end_time": "2024-05-26T14:09:38.952270Z",
     "start_time": "2024-05-26T14:09:38.900359Z"
    }
   },
   "cell_type": "code",
   "source": [
    "# test for deciding the mels parameters\n",
    "from utils.audioUtils import AudioUtil\n",
    "from torchaudio.transforms import MelSpectrogram, AmplitudeToDB\n",
    "audio_file = \"./data/train/normal_id_00_00000000.wav\"\n",
    "\n",
    "aud = AudioUtil.open(audio_file)\n",
    "sig, sr = aud\n",
    "print(sig.shape)\n",
    "mel = MelSpectrogram(sr, n_fft=1000, hop_length=501, n_mels=128)\n",
    "spec = mel(sig)\n",
    "ampl = AmplitudeToDB(top_db=80)\n",
    "spec = ampl(spec)\n",
    "\n",
    "\n",
    "\n",
    "print(spec.shape)"
   ],
   "execution_count": 32,
   "outputs": []
  },
  {
   "cell_type": "code",
   "metadata": {
    "ExecuteTime": {
     "end_time": "2024-05-26T14:09:38.968880Z",
     "start_time": "2024-05-26T14:09:38.953775Z"
    }
   },
   "source": [
    "def train_model(model, train_dl, val_dl, test_dl, criterion, optimizer, device, epochs=5,step_size=5,wandb=None):\n",
    "    lr_scheduler=torch.optim.lr_scheduler.StepLR(optimizer, step_size=step_size, gamma=0.1)\n",
    "    min_val_loss = np.inf\n",
    "    for epoch in range(epochs):\n",
    "        train_losses = []\n",
    "        val_losses = []\n",
    "\n",
    "        for inputs, labels in train_dl:\n",
    "            model.train()\n",
    "            inputs, labels = inputs.to(device), labels.to(device)\n",
    "            outputs = model(inputs)\n",
    "            loss = criterion(outputs, inputs.view(inputs.size(0), -1))\n",
    "\n",
    "            optimizer.zero_grad()\n",
    "            loss.backward()\n",
    "            optimizer.step()\n",
    "            train_losses.append(loss.item())\n",
    "        lr_scheduler.step()\n",
    "        print(f'Epoch[{epoch + 1}/{epochs}], Train loss: {np.average(train_losses): .4f}')\n",
    "        \n",
    "        \n",
    "        for inputs, labels in val_dl:\n",
    "            model.eval()\n",
    "            with torch.no_grad():\n",
    "                inputs, labels = inputs.to(device), labels.to(device)\n",
    "                outputs = model(inputs)\n",
    "                loss = criterion(outputs, inputs.view(inputs.size(0), -1))\n",
    "                val_losses.append(loss.item())\n",
    "        print(f'Epoch[{epoch + 1}/{epochs}], Val loss: {np.average(val_losses): .4f}')\n",
    " \n",
    "        scores = []\n",
    "        full_labels = []\n",
    "        for inputs, labels in test_dl:\n",
    "            model.eval()\n",
    "            with torch.no_grad():\n",
    "                inputs, labels = inputs.to(device), labels.to(device)\n",
    "                outputs = model(inputs)\n",
    "                mse = torch.sum((outputs - inputs.view(inputs.size(0), -1)) ** 2, dim=1) / outputs.shape[1]\n",
    "                scores.append(mse)\n",
    "                full_labels.append(labels)\n",
    "        \n",
    "        full_labels = torch.cat([label for label in full_labels])\n",
    "        scores = torch.cat([score for score in scores])\n",
    "        fpr, tpr, _ = roc_curve(full_labels.cpu().detach(), scores.cpu().detach(), pos_label=0)\n",
    "        roc_auc = auc(fpr, tpr)\n",
    "        print(roc_auc)\n",
    "        if wandb:\n",
    "            wandb.log({\"train_loss\": np.average(train_losses), \"val_loss\": np.average(val_losses), \"roc_auc\": roc_auc})\n",
    "        if np.average(val_losses) < min_val_loss:\n",
    "            min_val_loss = np.average(val_losses)\n",
    "        return min_val_loss        "
   ],
   "execution_count": 33,
   "outputs": []
  },
  {
   "cell_type": "code",
   "metadata": {
    "ExecuteTime": {
     "end_time": "2024-05-26T14:12:09.760973Z",
     "start_time": "2024-05-26T14:09:38.970085Z"
    }
   },
   "source": [
    "def set_seed(seed = 42):\n",
    "    np.random.seed(seed)\n",
    "    torch.manual_seed(seed)\n",
    "    torch.cuda.manual_seed(seed)\n",
    "\n",
    "CONFIG = {\n",
    "    \"seed\": 42,\n",
    "    \"epochs\": 20,\n",
    "    \"num_classes\": 2,\n",
    "    \"learning_rate\": 0.01,\n",
    "    \"train_batch_size\": 32,\n",
    "    \"val_batch_size\": 16,\n",
    "    \"test_batch_size\": 128,\n",
    "    \"criterion\": nn.MSELoss(),\n",
    "    \"device\":\n",
    "        torch.device(\n",
    "            \"cuda:0\" if torch.cuda.is_available()\n",
    "            else \"mps\" if torch.backends.mps.is_available()\n",
    "            else \"cpu\"\n",
    "        )\n",
    "}\n",
    "\n",
    "set_seed(CONFIG['seed'])\n",
    "\n",
    "data_path = \"./data/train/\"\n",
    "data_path_test = \"./data/test/\"\n",
    "\n",
    "\n",
    "meta_train_df = pd.read_csv(\"./data/train.csv\")\n",
    "meta_test_df = pd.read_csv(\"./data/test.csv\")\n",
    "\n",
    "train_df = meta_train_df[['filename', 'is_normal', 'machine_id']]\n",
    "range_train, range_test = train_test_split(range(len(train_df)), test_size=0.2, train_size=0.8, random_state=None, shuffle=True, stratify=meta_train_df['machine_id'])\n",
    "val_df = train_df.iloc[range_test].reset_index(drop=True)\n",
    "train_df = train_df.iloc[range_train].reset_index(drop=True)\n",
    "train_dataset = AudioDataset(train_df, data_path,in_memory=True, sgram_type=\"mel\")\n",
    "val_dataset = AudioDataset(val_df, data_path,in_memory=True, sgram_type=\"mel\")\n",
    "test_df = meta_test_df[['filename', 'is_normal', 'machine_id']]\n",
    "test_dataset = AudioDataset(test_df, data_path_test, in_memory=True, sgram_type=\"mel\")\n",
    "\n",
    "train_ds = train_dataset\n",
    "val_ds = val_dataset\n",
    "test_ds = test_dataset\n",
    "\n",
    "train_dl = DataLoader(train_ds, batch_size=CONFIG['train_batch_size'], shuffle=True)\n",
    "val_dl = DataLoader(val_ds, batch_size=CONFIG['val_batch_size'], shuffle=False)\n",
    "test_dl = DataLoader(test_ds, batch_size=CONFIG[\"test_batch_size\"], shuffle=False)"
   ],
   "execution_count": 34,
   "outputs": []
  },
  {
   "metadata": {
    "ExecuteTime": {
     "end_time": "2024-05-26T14:12:09.926901Z",
     "start_time": "2024-05-26T14:12:09.765242Z"
    }
   },
   "cell_type": "code",
   "source": "input_size = next(iter(train_dl))[0].shape[1] * next(iter(train_dl))[0].shape[2] * next(iter(train_dl))[0].shape[3]",
   "execution_count": 35,
   "outputs": []
  },
  {
   "metadata": {
    "ExecuteTime": {
     "end_time": "2024-05-26T14:12:11.683315Z",
     "start_time": "2024-05-26T14:12:09.927909Z"
    }
   },
   "cell_type": "code",
   "source": [
    "import torch\n",
    "from torchviz import make_dot\n",
    "\n",
    "# create some sample input data\n",
    "x = next(iter(train_dl))[0]\n",
    "# generate predictions for the sample data\n",
    "y = Autoencoder(input_size=input_size,encoding_dim=64)(x)\n",
    "\n",
    "# generate a model architecture visualization\n",
    "#make_dot(y.mean(),\n",
    "#         params=dict(Autoencoder(input_size=input_size,encoding_dim=64).named_parameters()),\n",
    "#         show_attrs=True,\n",
    "#         show_saved=True).render(\"MyPyTorchModel_torchviz\", format=\"png\")\n"
   ],
   "execution_count": 36,
   "outputs": []
  },
  {
   "metadata": {
    "ExecuteTime": {
     "end_time": "2024-05-26T14:12:14.049675Z",
     "start_time": "2024-05-26T14:12:11.684429Z"
    }
   },
   "cell_type": "code",
   "source": [
    "# compute metrics\n",
    "inputs_cat=[]\n",
    "for inputs, labels in train_dl:\n",
    "    inputs_cat.append(inputs)\n",
    "inputs_cat = torch.cat(inputs_cat,dim=0)\n",
    "print(inputs_cat.shape)"
   ],
   "execution_count": 37,
   "outputs": []
  },
  {
   "metadata": {
    "ExecuteTime": {
     "end_time": "2024-05-26T14:12:14.223254Z",
     "start_time": "2024-05-26T14:12:14.053445Z"
    }
   },
   "cell_type": "code",
   "source": [
    "# compute the mean and std value for each frequency of the batch_sizexchannelxtimexfrequecy\n",
    "mean = torch.mean(inputs_cat, dim=0)\n",
    "std = torch.std(inputs_cat, dim=0)\n",
    "print(mean.shape)\n",
    "print(std.shape)\n",
    "train_dataset.mean = mean\n",
    "train_dataset.std = std\n",
    "val_dataset.mean = mean\n",
    "val_dataset.std = std\n",
    "test_dataset.mean = mean\n",
    "test_dataset.std = std"
   ],
   "execution_count": 38,
   "outputs": []
  },
  {
   "metadata": {
    "ExecuteTime": {
     "end_time": "2024-05-26T14:14:39.609762Z",
     "start_time": "2024-05-26T14:12:14.224626Z"
    }
   },
   "cell_type": "code",
   "source": [
    "training=True\n",
    "input_size = next(iter(train_dl))[0].shape[1] * next(iter(train_dl))[0].shape[2] * next(iter(train_dl))[0].shape[3]\n",
    "measures = []\n",
    "# testing emb space size\n",
    "if training:\n",
    "    for emb_space_size in [32, 64, 128, 256, 512]:\n",
    "        model = Autoencoder(encoding_dim=emb_space_size, input_size=input_size)\n",
    "        model = model.to(CONFIG[\"device\"])\n",
    "        optimizer = optim.Adam(model.parameters(), lr=CONFIG[\"learning_rate\"])\n",
    "        measures.append(train_model(model, train_dl, val_dl, test_dl, CONFIG[\"criterion\"], optimizer, CONFIG[\"device\"], epochs=50))\n",
    "    for emb_space_size, measure in zip([32, 64, 128, 256, 512], measures):\n",
    "        print(f\"Emb space size: {emb_space_size}, Train loss: {measure[0]}, Val loss: {measure[1]}, ROC AUC: {measure[2]}\")\n",
    "for (measure, emb_space_size) in zip(measures, [32, 64, 128, 256, 512]):\n",
    "    print({\"emb_space_size\": emb_space_size, \"val_loss\": measure})"
   ],
   "execution_count": 39,
   "outputs": []
  },
  {
   "cell_type": "code",
   "metadata": {},
   "source": [
    "# take the best one and train it for more epochs\n",
    "if training:\n",
    "    emb_space_measures=[32, 64, 128, 256, 512]\n",
    "    model = Autoencoder(encoding_dim=emb_space_measures[np.argmax([measure[2] for measure in measures])], input_size=input_size)\n",
    "    optimizer = optim.Adam(model.parameters(), lr=CONFIG[\"learning_rate\"])\n",
    "    model = model.to(CONFIG[\"device\"])"
   ],
   "execution_count": null,
   "outputs": []
  },
  {
   "metadata": {},
   "cell_type": "code",
   "source": [
    "if training:\n",
    "    train_model(model, train_dl, val_dl, test_dl, CONFIG[\"criterion\"], optimizer, CONFIG[\"device\"], CONFIG[\"epochs\"])"
   ],
   "execution_count": null,
   "outputs": []
  },
  {
   "metadata": {},
   "cell_type": "markdown",
   "source": "# Train different AE for each machine_id"
  },
  {
   "metadata": {},
   "cell_type": "code",
   "source": [
    "def set_seed(seed = 42):\n",
    "    np.random.seed(seed)\n",
    "    torch.manual_seed(seed)\n",
    "    torch.cuda.manual_seed(seed)\n",
    "\n",
    "learning_rate={0:0.001, 2:0.01, 4:0.1}\n",
    "CONFIG = {\n",
    "    \"seed\": 42,\n",
    "    \"epochs\": 20,\n",
    "    \"num_classes\": 2,\n",
    "    \"learning_rate\": learning_rate,\n",
    "    \"train_batch_size\": 32,\n",
    "    \"val_batch_size\": 16,\n",
    "    \"test_batch_size\": 128,\n",
    "    \"criterion\": nn.MSELoss(),\n",
    "    \"device\":\n",
    "        torch.device(\n",
    "            \"cuda:0\" if torch.cuda.is_available()\n",
    "            else \"mps\" if torch.backends.mps.is_available()\n",
    "            else \"cpu\"\n",
    "        )\n",
    "}\n",
    "\n",
    "set_seed(CONFIG['seed'])\n",
    "\n",
    "data_path = \"./data/train/\"\n",
    "data_path_test = \"./data/test/\"\n",
    "\n",
    "\n",
    "meta_train_df = pd.read_csv(\"./data/train.csv\")\n",
    "meta_test_df = pd.read_csv(\"./data/test.csv\")\n",
    "\n",
    "train_df = meta_train_df[['filename', 'is_normal', 'machine_id']]\n",
    "\n",
    "train_df_0= train_df[train_df['machine_id'] == 0].reset_index(drop=True)\n",
    "[range_train, range_test] = train_test_split(range(len(train_df_0)), test_size=0.2, train_size=0.8, random_state=None, shuffle=True, stratify=train_df_0['machine_id'])\n",
    "val_df_0 = train_df_0.iloc[range_test].reset_index(drop=True)\n",
    "train_df_0= train_df_0.iloc[range_train].reset_index(drop=True)\n",
    "train_dataset_0 = AudioDataset(train_df_0, data_path,in_memory=True, sgram_type=\"mel\")\n",
    "val_dataset_0 = AudioDataset(val_df_0, data_path,in_memory=True, sgram_type=\"mel\")\n",
    "train_ds_0 = train_dataset_0\n",
    "val_ds_0 = val_dataset_0\n",
    "\n",
    "train_df_2= train_df[train_df['machine_id'] == 2].reset_index(drop=True)\n",
    "[range_train, range_test] = train_test_split(range(len(train_df_2)), test_size=0.2, train_size=0.8, random_state=None, shuffle=True, stratify=train_df_2['machine_id'])\n",
    "val_df_2 = train_df_2.iloc[range_test].reset_index(drop=True)\n",
    "train_df_2= train_df_2.iloc[range_train].reset_index(drop=True)\n",
    "train_dataset_2 = AudioDataset(train_df_2, data_path,in_memory=True, sgram_type=\"mel\")\n",
    "val_dataset_2 = AudioDataset(val_df_2, data_path,in_memory=True, sgram_type=\"mel\")\n",
    "train_ds_2 = train_dataset_2\n",
    "val_ds_2 = val_dataset_2\n",
    "\n",
    "train_df_4= train_df[train_df['machine_id'] == 4].reset_index(drop=True)\n",
    "[range_train, range_test] = train_test_split(range(len(train_df_4)), test_size=0.2, train_size=0.8, random_state=None, shuffle=True, stratify=train_df_4['machine_id'])\n",
    "val_df_4 = train_df_4.iloc[range_test].reset_index(drop=True)\n",
    "train_df_4= train_df_4.iloc[range_train].reset_index(drop=True) \n",
    "train_dataset_4 = AudioDataset(train_df_4, data_path,in_memory=True, sgram_type=\"mel\")\n",
    "val_dataset_4 = AudioDataset(val_df_4, data_path,in_memory=True, sgram_type=\"mel\")\n",
    "train_ds_4 = train_dataset_4\n",
    "val_ds_4 = val_dataset_4\n",
    "\n",
    "test_df = meta_test_df[['filename', 'is_normal', 'machine_id']]\n",
    "\n",
    "test_df_0= test_df[test_df['machine_id'] == 0].reset_index(drop=True)\n",
    "test_dataset_0 = AudioDataset(test_df_0, data_path_test, in_memory=True, sgram_type=\"mel\")\n",
    "\n",
    "test_df_2= test_df[test_df['machine_id'] == 2].reset_index(drop=True)\n",
    "test_dataset_2 = AudioDataset(test_df_2, data_path_test, in_memory=True, sgram_type=\"mel\")\n",
    "\n",
    "test_df_4= test_df[test_df['machine_id'] == 4].reset_index(drop=True)\n",
    "test_dataset_4 = AudioDataset(test_df_4, data_path_test, in_memory=True, sgram_type=\"mel\")\n",
    "\n",
    "test_ds_0 = test_dataset_0\n",
    "test_ds_2 = test_dataset_2\n",
    "test_ds_4 = test_dataset_4\n",
    "\n",
    "train_dl_0 = DataLoader(train_ds_0, batch_size=CONFIG['train_batch_size'], shuffle=True)\n",
    "val_dl_0 = DataLoader(val_ds_0, batch_size=CONFIG['val_batch_size'], shuffle=False)\n",
    "test_dl_0 = DataLoader(test_ds_0, batch_size=CONFIG[\"test_batch_size\"], shuffle=False)\n",
    "\n",
    "train_dl_2 = DataLoader(train_ds_2, batch_size=CONFIG['train_batch_size'], shuffle=True)\n",
    "val_dl_2 = DataLoader(val_ds_2, batch_size=CONFIG['val_batch_size'], shuffle=False)\n",
    "test_dl_2 = DataLoader(test_ds_2, batch_size=CONFIG[\"test_batch_size\"], shuffle=False)\n",
    "\n",
    "train_dl_4 = DataLoader(train_ds_4, batch_size=CONFIG['train_batch_size'], shuffle=True)\n",
    "val_dl_4 = DataLoader(val_ds_4, batch_size=CONFIG['val_batch_size'], shuffle=False)\n",
    "test_dl_4 = DataLoader(test_ds_4, batch_size=CONFIG[\"test_batch_size\"], shuffle=False)\n",
    "\n",
    "# create dict\n",
    "train_dl_dict = {0: train_dl_0, 2: train_dl_2, 4: train_dl_4}\n",
    "val_dl_dict = {0: val_dl_0, 2: val_dl_2, 4: val_dl_4}\n",
    "test_dl_dict = {0: test_dl_0, 2: test_dl_2, 4: test_dl_4}\n",
    "train_dataset_dict={0: train_dataset_0, 2: train_dataset_2, 4: train_dataset_4}\n",
    "val_dataset_dict={0: val_dataset_0, 2: val_dataset_2, 4: val_dataset_4}\n",
    "test_dataset_dict={0: test_dataset_0, 2: test_dataset_2, 4: test_dataset_4}"
   ],
   "execution_count": null,
   "outputs": []
  },
  {
   "metadata": {},
   "cell_type": "code",
   "source": "# train_ds_0, val_ds_0, test_ds_0",
   "execution_count": null,
   "outputs": []
  },
  {
   "metadata": {},
   "cell_type": "code",
   "source": [
    "# compute metrics\n",
    "inputs_cat={}\n",
    "for key in train_dl_dict.keys():\n",
    "    inputs_cat[key]=[]\n",
    "    for inputs, labels in train_dl_dict[key]:\n",
    "        inputs_cat[key].append(inputs)\n",
    "    inputs_cat[key] = torch.cat([input for input in inputs_cat[key]])\n",
    "    print(inputs_cat[key].shape)"
   ],
   "execution_count": null,
   "outputs": []
  },
  {
   "metadata": {},
   "cell_type": "code",
   "source": [
    "# compute the min and max value for each frequency of the batch_sizexchannelxtimexfrequecy\n",
    "for key in train_dl_dict.keys():\n",
    "    min = torch.min(inputs_cat[key], dim=0).values\n",
    "    max = torch.max(inputs_cat[key], dim=0).values\n",
    "    print(max.shape)\n",
    "    print(min.shape)\n",
    "    train_dataset_dict[key].min = min\n",
    "    train_dataset_dict[key].max = max\n",
    "    val_dataset_dict[key].min = min\n",
    "    val_dataset_dict[key].max = max\n",
    "    test_dataset_dict[key].min = min\n",
    "    test_dataset_dict[key].max = max"
   ],
   "execution_count": null,
   "outputs": []
  },
  {
   "metadata": {},
   "cell_type": "code",
   "source": [
    "training=True\n",
    "models_dict={}\n",
    "if training:\n",
    "    for key in train_dl_dict.keys():\n",
    "        input_size = next(iter(train_dl_dict[key]))[0].shape[1] * next(iter(train_dl_dict[key]))[0].shape[2] * next(iter(train_dl_dict[key]))[0].shape[3]\n",
    "        model = Autoencoder(input_size, encoding_dim=128)\n",
    "        model = model.to(CONFIG[\"device\"])\n",
    "        optimizer = optim.Adam(model.parameters(), lr=CONFIG[\"learning_rate\"][key])\n",
    "        train_model(model, train_dl_dict[key], val_dl_dict[key], test_dl_dict[key], CONFIG[\"criterion\"], optimizer, CONFIG[\"device\"], CONFIG[\"epochs\"],10)\n",
    "        models_dict[key]=model"
   ],
   "execution_count": null,
   "outputs": []
  }
 ],
 "metadata": {
  "kernelspec": {
   "display_name": ".venv",
   "language": "python",
   "name": "python3"
  },
  "language_info": {
   "codemirror_mode": {
    "name": "ipython",
    "version": 3
   },
   "file_extension": ".py",
   "mimetype": "text/x-python",
   "name": "python",
   "nbconvert_exporter": "python",
   "pygments_lexer": "ipython3",
   "version": "3.12.0"
  }
 },
 "nbformat": 4,
 "nbformat_minor": 2
}
