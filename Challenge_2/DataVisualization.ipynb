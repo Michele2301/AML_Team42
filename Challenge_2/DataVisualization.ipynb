{
 "cells": [
  {
   "cell_type": "code",
   "id": "bc3e13ba",
   "metadata": {
    "ExecuteTime": {
     "end_time": "2024-05-18T09:38:28.417215Z",
     "start_time": "2024-05-18T09:38:28.400064Z"
    }
   },
   "source": [
    "import torch\n",
    "import pandas as pd\n",
    "import numpy as np\n",
    "import librosa\n",
    "import torch.nn as nn\n",
    "import matplotlib.pyplot as plt\n",
    "from torch.utils.data import random_split, DataLoader\n",
    "from customDatasets.audioDataset import AudioDataset\n",
    "\n",
    "def set_seed(seed = 42):\n",
    "    np.random.seed(seed)\n",
    "    torch.manual_seed(seed)\n",
    "    torch.cuda.manual_seed(seed)\n",
    "\n",
    "CONFIG = {\n",
    "    \"seed\": 42,\n",
    "    \"epochs\": 1,\n",
    "    \"num_classes\": 2,\n",
    "    \"learning_rate\": 0.001,\n",
    "    \"train_batch_size\": 32,\n",
    "    \"val_batch_size\": 128,\n",
    "    \"device\":\n",
    "        torch.device(\n",
    "            \"cuda:0\" if torch.cuda.is_available()\n",
    "            else \"mps\" if torch.backends.mps.is_available()\n",
    "            else \"cpu\"\n",
    "        )\n",
    "}\n",
    "\n",
    "set_seed(CONFIG['seed'])\n",
    "\n",
    "data_path = \"./data/train/\"\n",
    "\n",
    "meta_train_df = pd.read_csv(\"./data/train.csv\")\n",
    "\n",
    "train_df = meta_train_df[['filename', 'is_normal', 'machine_id']]\n",
    "num_unique_values = train_df['is_normal'].nunique()\n",
    "\n",
    "print(train_df.head())\n",
    "print(f\"\\n#####\\n\\nNumber of different is_normal's values: {num_unique_values}\")\n",
    "\n",
    "train_ds = AudioDataset(train_df, data_path)\n",
    "\n",
    "train_ds.__getitem__(0)\n",
    "\n",
    "train_ds.with_filename = True\n",
    "num_items = len(train_ds)\n",
    "num_train = round(num_items * 0.7)\n",
    "num_val = round(num_items * 0.2)\n",
    "num_test = round(num_items * 0.1)\n",
    "\n",
    "# TODO: do we have to do this or for test we use data in test folder? Probably don't need to do it now\n",
    "train_ds, val_ds, test_ds = random_split(train_ds, [num_train, num_val, num_test])\n",
    "\n",
    "train_dl = DataLoader(train_ds, batch_size=CONFIG['train_batch_size'], shuffle=True)\n",
    "val_dl = DataLoader(val_ds, batch_size=CONFIG['val_batch_size'], shuffle=False)"
   ],
   "execution_count": 9,
   "outputs": []
  },
  {
   "metadata": {
    "ExecuteTime": {
     "end_time": "2024-05-18T09:38:28.705268Z",
     "start_time": "2024-05-18T09:38:28.418880Z"
    }
   },
   "cell_type": "code",
   "source": [
    "# take a sample from train_dl and plot it in 3d\n",
    "sample = next(iter(train_dl))\n",
    "frequencies=sample[0][0].numpy()\n",
    "name=sample[2][0]\n",
    "frequencies = frequencies.squeeze()\n",
    "# grey\n",
    "plt.imshow(frequencies)\n",
    "print(name)"
   ],
   "id": "523dd36fc782271f",
   "execution_count": 10,
   "outputs": []
  },
  {
   "metadata": {
    "ExecuteTime": {
     "end_time": "2024-05-18T09:42:28.237638Z",
     "start_time": "2024-05-18T09:42:27.767289Z"
    }
   },
   "cell_type": "code",
   "source": [
    "# Generate meshgrid for x and y coordinates\n",
    "x = np.arange(frequencies.shape[0])\n",
    "y = np.arange(frequencies.shape[1])\n",
    "X, Y = np.meshgrid(x, y)\n",
    "\n",
    "# Create 3D figure\n",
    "fig = plt.figure()\n",
    "ax = fig.add_subplot(111, projection='3d')\n",
    "\n",
    "# Plot 3D surface\n",
    "ax.plot_surface(Y, X, frequencies.T, cmap='viridis')  # Transpose frequencies to match X, Y shape\n",
    "\n",
    "# Set labels\n",
    "ax.set_xlabel('frequencies')\n",
    "ax.set_ylabel('time')\n",
    "ax.set_zlabel('value')\n",
    "\n",
    "plt.show()"
   ],
   "id": "5d61d458da66f9c5",
   "execution_count": 20,
   "outputs": []
  }
 ],
 "metadata": {
  "kernelspec": {
   "display_name": "Python 3",
   "language": "python",
   "name": "python3"
  },
  "language_info": {
   "codemirror_mode": {
    "name": "ipython",
    "version": 3
   },
   "file_extension": ".py",
   "mimetype": "text/x-python",
   "name": "python",
   "nbconvert_exporter": "python",
   "pygments_lexer": "ipython3",
   "version": "3.12.0"
  }
 },
 "nbformat": 4,
 "nbformat_minor": 5
}
