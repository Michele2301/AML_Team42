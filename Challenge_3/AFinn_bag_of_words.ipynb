{
 "metadata": {
  "kernelspec": {
   "language": "python",
   "display_name": "Python 3",
   "name": "python3"
  },
  "language_info": {
   "name": "python",
   "version": "3.10.13",
   "mimetype": "text/x-python",
   "codemirror_mode": {
    "name": "ipython",
    "version": 3
   },
   "pygments_lexer": "ipython3",
   "nbconvert_exporter": "python",
   "file_extension": ".py"
  },
  "kaggle": {
   "accelerator": "nvidiaTeslaT4",
   "dataSources": [
    {
     "sourceId": 8074783,
     "sourceType": "datasetVersion",
     "datasetId": 4765148
    }
   ],
   "dockerImageVersionId": 30733,
   "isInternetEnabled": true,
   "language": "python",
   "sourceType": "notebook",
   "isGpuEnabled": true
  }
 },
 "nbformat_minor": 4,
 "nbformat": 4,
 "cells": [
  {
   "metadata": {},
   "cell_type": "code",
   "source": [
    "from datasets import Dataset\n",
    "import pandas as pd\n",
    "from sklearn.model_selection import train_test_split\n",
    "import matplotlib.pyplot as plt\n",
    "import re\n",
    "from IPython.display import clear_output\n",
    "\n",
    "clear_output()"
   ],
   "execution_count": 17,
   "outputs": []
  },
  {
   "cell_type": "code",
   "source": "CONFIG = {\n    \"model\" : {\"model_name\" : \"distilbert/distilbert-base-uncased\", \"tokenizer\" : \"distilbert/distilbert-base-uncased\"}\n}",
   "metadata": {
    "execution": {
     "iopub.status.busy": "2024-06-09T15:57:23.584873Z",
     "iopub.execute_input": "2024-06-09T15:57:23.586059Z",
     "iopub.status.idle": "2024-06-09T15:57:23.591686Z",
     "shell.execute_reply.started": "2024-06-09T15:57:23.586023Z",
     "shell.execute_reply": "2024-06-09T15:57:23.590859Z"
    },
    "trusted": true,
    "ExecuteTime": {
     "end_time": "2024-06-12T08:11:25.375798Z",
     "start_time": "2024-06-12T08:11:25.373184Z"
    }
   },
   "outputs": [],
   "execution_count": 18
  },
  {
   "cell_type": "markdown",
   "source": "# Prepare dataset",
   "metadata": {}
  },
  {
   "cell_type": "code",
   "source": [
    "df = pd.read_csv(\"./data/train.csv\")\n",
    "df = df.rename(columns={\"sentiment\" : \"label\"})\n",
    "\n",
    "mappings = {\"positive\" : 2, \"neutral\" : 1, \"negative\" : 0}\n",
    "\n",
    "df[\"label\"] = df[\"label\"].map(mappings)\n",
    "\n",
    "original_df = df\n",
    "\n",
    "df = df.drop(['textID', 'selected_text'], axis=1)"
   ],
   "metadata": {
    "execution": {
     "iopub.status.busy": "2024-06-09T15:57:23.592787Z",
     "iopub.execute_input": "2024-06-09T15:57:23.593053Z",
     "iopub.status.idle": "2024-06-09T15:57:23.749583Z",
     "shell.execute_reply.started": "2024-06-09T15:57:23.593030Z",
     "shell.execute_reply": "2024-06-09T15:57:23.748605Z"
    },
    "trusted": true,
    "ExecuteTime": {
     "end_time": "2024-06-12T08:11:25.436572Z",
     "start_time": "2024-06-12T08:11:25.377755Z"
    }
   },
   "outputs": [],
   "execution_count": 19
  },
  {
   "cell_type": "code",
   "source": "def filter_text(text):\n    # Remove words starting with \"@\"\n    text = ' '.join(word for word in text.split() if not word.startswith('@'))\n    # Remove links\n    text = re.sub(r'http\\S+|www\\S+|https\\S+', '', text, flags=re.MULTILINE)\n    return text\n\n# Apply the function to the \"text\" column\ndf[\"text\"] = df[\"text\"].apply(filter_text)\n\n\nsymbols = r'//'  # Add any symbols you want to match in the regex pattern\n\n# Step 5: Filter the rows that contain the specified symbols\nfiltered_df = df[df['text'].str.contains(symbols, regex=True, na=False)]\n\nfiltered_df\n",
   "metadata": {
    "execution": {
     "iopub.status.busy": "2024-06-09T15:57:23.752408Z",
     "iopub.execute_input": "2024-06-09T15:57:23.752812Z",
     "iopub.status.idle": "2024-06-09T15:57:23.992723Z",
     "shell.execute_reply.started": "2024-06-09T15:57:23.752780Z",
     "shell.execute_reply": "2024-06-09T15:57:23.991776Z"
    },
    "trusted": true,
    "ExecuteTime": {
     "end_time": "2024-06-12T08:11:25.548993Z",
     "start_time": "2024-06-12T08:11:25.437935Z"
    }
   },
   "outputs": [
    {
     "data": {
      "text/plain": [
       "                                                    text  label\n",
       "3889   i just looove my bf u are awesoome!!!! [hannah...      2\n",
       "8657   // your FACE is stupid. thanks... i miss you t...      1\n",
       "9056   Oh, my God..... The end of the first course)))...      2\n",
       "9823   is excited to be visited by her twin and best ...      2\n",
       "12103  just got back from the Sing It Loud concert //...      2\n",
       "13700                   why did u copy wot i wrote //hmm      1\n",
       "14992                   Happy Star Wars Day // Will Week      2\n",
       "16000  Listening to: Sweet Talk 101 - Cute Is What We...      0\n",
       "17089  On the way to sthlm - it will maybe be a movie...      1\n",
       "21415                     Postponed is not abandoned. //      1\n",
       "23670  finished watching the movie `mirrors`. I liked...      2"
      ],
      "text/html": [
       "<div>\n",
       "<style scoped>\n",
       "    .dataframe tbody tr th:only-of-type {\n",
       "        vertical-align: middle;\n",
       "    }\n",
       "\n",
       "    .dataframe tbody tr th {\n",
       "        vertical-align: top;\n",
       "    }\n",
       "\n",
       "    .dataframe thead th {\n",
       "        text-align: right;\n",
       "    }\n",
       "</style>\n",
       "<table border=\"1\" class=\"dataframe\">\n",
       "  <thead>\n",
       "    <tr style=\"text-align: right;\">\n",
       "      <th></th>\n",
       "      <th>text</th>\n",
       "      <th>label</th>\n",
       "    </tr>\n",
       "  </thead>\n",
       "  <tbody>\n",
       "    <tr>\n",
       "      <th>3889</th>\n",
       "      <td>i just looove my bf u are awesoome!!!! [hannah...</td>\n",
       "      <td>2</td>\n",
       "    </tr>\n",
       "    <tr>\n",
       "      <th>8657</th>\n",
       "      <td>// your FACE is stupid. thanks... i miss you t...</td>\n",
       "      <td>1</td>\n",
       "    </tr>\n",
       "    <tr>\n",
       "      <th>9056</th>\n",
       "      <td>Oh, my God..... The end of the first course)))...</td>\n",
       "      <td>2</td>\n",
       "    </tr>\n",
       "    <tr>\n",
       "      <th>9823</th>\n",
       "      <td>is excited to be visited by her twin and best ...</td>\n",
       "      <td>2</td>\n",
       "    </tr>\n",
       "    <tr>\n",
       "      <th>12103</th>\n",
       "      <td>just got back from the Sing It Loud concert //...</td>\n",
       "      <td>2</td>\n",
       "    </tr>\n",
       "    <tr>\n",
       "      <th>13700</th>\n",
       "      <td>why did u copy wot i wrote //hmm</td>\n",
       "      <td>1</td>\n",
       "    </tr>\n",
       "    <tr>\n",
       "      <th>14992</th>\n",
       "      <td>Happy Star Wars Day // Will Week</td>\n",
       "      <td>2</td>\n",
       "    </tr>\n",
       "    <tr>\n",
       "      <th>16000</th>\n",
       "      <td>Listening to: Sweet Talk 101 - Cute Is What We...</td>\n",
       "      <td>0</td>\n",
       "    </tr>\n",
       "    <tr>\n",
       "      <th>17089</th>\n",
       "      <td>On the way to sthlm - it will maybe be a movie...</td>\n",
       "      <td>1</td>\n",
       "    </tr>\n",
       "    <tr>\n",
       "      <th>21415</th>\n",
       "      <td>Postponed is not abandoned. //</td>\n",
       "      <td>1</td>\n",
       "    </tr>\n",
       "    <tr>\n",
       "      <th>23670</th>\n",
       "      <td>finished watching the movie `mirrors`. I liked...</td>\n",
       "      <td>2</td>\n",
       "    </tr>\n",
       "  </tbody>\n",
       "</table>\n",
       "</div>"
      ]
     },
     "execution_count": 20,
     "metadata": {},
     "output_type": "execute_result"
    }
   ],
   "execution_count": 20
  },
  {
   "cell_type": "code",
   "source": "train_dataset_df, test_val_dataset_df = train_test_split(df, test_size=0.3, random_state=42, stratify=df['label'])\nval_dataset_df, test_dataset_df = train_test_split(test_val_dataset_df, test_size=0.25, random_state=42, stratify=test_val_dataset_df[\"label\"])\n\ndataset = Dataset.from_pandas(df)\ntrain_dataset = Dataset.from_pandas(train_dataset_df)\nval_dataset = Dataset.from_pandas(val_dataset_df)\ntest_dataset = Dataset.from_pandas(test_dataset_df)\nprint(train_dataset)\nprint(val_dataset)\nprint(test_dataset)",
   "metadata": {
    "execution": {
     "iopub.status.busy": "2024-06-09T15:57:23.994054Z",
     "iopub.execute_input": "2024-06-09T15:57:23.994469Z",
     "iopub.status.idle": "2024-06-09T15:57:24.099980Z",
     "shell.execute_reply.started": "2024-06-09T15:57:23.994437Z",
     "shell.execute_reply": "2024-06-09T15:57:24.099084Z"
    },
    "trusted": true,
    "ExecuteTime": {
     "end_time": "2024-06-12T08:11:25.595090Z",
     "start_time": "2024-06-12T08:11:25.549878Z"
    }
   },
   "outputs": [
    {
     "name": "stdout",
     "output_type": "stream",
     "text": [
      "Dataset({\n",
      "    features: ['text', 'label', '__index_level_0__'],\n",
      "    num_rows: 17312\n",
      "})\n",
      "Dataset({\n",
      "    features: ['text', 'label', '__index_level_0__'],\n",
      "    num_rows: 5565\n",
      "})\n",
      "Dataset({\n",
      "    features: ['text', 'label', '__index_level_0__'],\n",
      "    num_rows: 1855\n",
      "})\n"
     ]
    }
   ],
   "execution_count": 21
  },
  {
   "cell_type": "markdown",
   "source": "# Data visualization",
   "metadata": {}
  },
  {
   "cell_type": "code",
   "source": "# Plot the value counts of label for each dataset\nfig, axes = plt.subplots(1, 4, figsize=(15, 5), sharey=True)\n\ndf[\"label\"].value_counts(ascending=True).plot.barh(ax=axes[0], title='Full Dataset')\ntrain_dataset_df[\"label\"].value_counts(ascending=True).plot.barh(ax=axes[1], title='Train Dataset')\nval_dataset_df[\"label\"].value_counts(ascending=True).plot.barh(ax=axes[2], title='Validation Dataset')\ntest_dataset_df[\"label\"].value_counts(ascending=True).plot.barh(ax=axes[3], title='Test Dataset')\n\n# Show the plots\nplt.tight_layout()\nplt.show()",
   "metadata": {
    "execution": {
     "iopub.status.busy": "2024-06-09T15:57:24.101460Z",
     "iopub.execute_input": "2024-06-09T15:57:24.101768Z",
     "iopub.status.idle": "2024-06-09T15:57:24.997409Z",
     "shell.execute_reply.started": "2024-06-09T15:57:24.101742Z",
     "shell.execute_reply": "2024-06-09T15:57:24.996533Z"
    },
    "trusted": true,
    "ExecuteTime": {
     "end_time": "2024-06-12T08:11:25.941705Z",
     "start_time": "2024-06-12T08:11:25.596176Z"
    }
   },
   "outputs": [
    {
     "data": {
      "text/plain": [
       "<Figure size 1500x500 with 4 Axes>"
      ],
      "image/png": "[encoded data removed]"
     },
     "metadata": {},
     "output_type": "display_data"
    }
   ],
   "execution_count": 22
  },
  {
   "cell_type": "code",
   "source": "df[\"Words Per Tweet\"] = df[\"text\"].str.split().apply(len)\ndf.boxplot(\"Words Per Tweet\", by=\"label\", grid=False, showfliers=False, color=\"black\")\nplt.suptitle(\"\")\nplt.xlabel(\"\")\nplt.show()\ndf=df.drop(columns=[\"Words Per Tweet\"],axis=1)",
   "metadata": {
    "execution": {
     "iopub.status.busy": "2024-06-09T15:57:24.998710Z",
     "iopub.execute_input": "2024-06-09T15:57:24.999082Z",
     "iopub.status.idle": "2024-06-09T15:57:25.486928Z",
     "shell.execute_reply.started": "2024-06-09T15:57:24.999039Z",
     "shell.execute_reply": "2024-06-09T15:57:25.486036Z"
    },
    "trusted": true,
    "ExecuteTime": {
     "end_time": "2024-06-12T08:11:26.183341Z",
     "start_time": "2024-06-12T08:11:25.943136Z"
    }
   },
   "outputs": [
    {
     "data": {
      "text/plain": [
       "<Figure size 640x480 with 1 Axes>"
      ],
      "image/png": "[encoded data removed]"
     },
     "metadata": {},
     "output_type": "display_data"
    }
   ],
   "execution_count": 23
  },
  {
   "metadata": {
    "ExecuteTime": {
     "end_time": "2024-06-12T08:11:30.583188Z",
     "start_time": "2024-06-12T08:11:26.184246Z"
    }
   },
   "cell_type": "code",
   "source": "!pip install afinn",
   "outputs": [
    {
     "name": "stdout",
     "output_type": "stream",
     "text": [
      "Defaulting to user installation because normal site-packages is not writeable\r\n",
      "Collecting afinn\r\n",
      "  Using cached afinn-0.1.tar.gz (52 kB)\r\n",
      "  Preparing metadata (setup.py) ... \u001B[?25ldone\r\n",
      "\u001B[?25hBuilding wheels for collected packages: afinn\r\n",
      "  Building wheel for afinn (setup.py) ... \u001B[?25ldone\r\n",
      "\u001B[?25h  Created wheel for afinn: filename=afinn-0.1-py3-none-any.whl size=53429 sha256=54cd0eac211f87570cef0eaac3fb3efefc10e66abad03785ebf3f8c123a978df\r\n",
      "  Stored in directory: /home/michele/.cache/pip/wheels/ee/d3/a0/f9255ebac29886acb1c28b35b37523f6399677fa06be379f25\r\n",
      "Successfully built afinn\r\n",
      "Installing collected packages: afinn\r\n",
      "Successfully installed afinn-0.1\r\n"
     ]
    }
   ],
   "execution_count": 24
  },
  {
   "cell_type": "markdown",
   "source": "# Prepare model for training",
   "metadata": {}
  },
  {
   "cell_type": "code",
   "source": [
    "from afinn import Afinn\n",
    "from sklearn.metrics import accuracy_score"
   ],
   "metadata": {
    "execution": {
     "iopub.status.busy": "2024-06-09T16:11:15.921503Z",
     "iopub.execute_input": "2024-06-09T16:11:15.922106Z",
     "iopub.status.idle": "2024-06-09T16:11:15.926281Z",
     "shell.execute_reply.started": "2024-06-09T16:11:15.922077Z",
     "shell.execute_reply": "2024-06-09T16:11:15.925383Z"
    },
    "trusted": true,
    "ExecuteTime": {
     "end_time": "2024-06-12T08:11:30.589628Z",
     "start_time": "2024-06-12T08:11:30.585532Z"
    }
   },
   "outputs": [],
   "execution_count": 25
  },
  {
   "cell_type": "code",
   "source": "# Sentiment analysis with AFINN\nafinn = Afinn(emoticons=True)\nafinn_scores = [afinn.score(text) for text in df.text]\ndf['afinn'] = afinn_scores\ndf[['afinn', 'text']].head()\ndf['afinn_category'] = df['afinn'].apply(lambda score: 2 if score > 0 else (1 if score == 0 else 0))\naccuracy = accuracy_score(df['label'], df['afinn_category'])\nprint(accuracy)",
   "metadata": {
    "execution": {
     "iopub.status.busy": "2024-06-09T16:11:46.532065Z",
     "iopub.execute_input": "2024-06-09T16:11:46.532909Z",
     "iopub.status.idle": "2024-06-09T16:11:56.240327Z",
     "shell.execute_reply.started": "2024-06-09T16:11:46.532877Z",
     "shell.execute_reply": "2024-06-09T16:11:56.239309Z"
    },
    "trusted": true,
    "ExecuteTime": {
     "end_time": "2024-06-12T08:11:37.825213Z",
     "start_time": "2024-06-12T08:11:30.590714Z"
    }
   },
   "outputs": [
    {
     "name": "stdout",
     "output_type": "stream",
     "text": [
      "0.6477033802361313\n"
     ]
    }
   ],
   "execution_count": 26
  },
  {
   "cell_type": "code",
   "source": "def explain_afinn(text):\n    words = text.split()\n    word_scores = {word: afinn.score(word) for word in words}\n    total_score = sum(word_scores.values())\n    return word_scores, total_score\nprint(explain_afinn(\"this restaurant is not a shit, it might be okay for the dinner\"))",
   "metadata": {
    "execution": {
     "iopub.status.busy": "2024-06-09T16:39:51.351983Z",
     "iopub.execute_input": "2024-06-09T16:39:51.352356Z",
     "iopub.status.idle": "2024-06-09T16:39:51.358706Z",
     "shell.execute_reply.started": "2024-06-09T16:39:51.352325Z",
     "shell.execute_reply": "2024-06-09T16:39:51.357828Z"
    },
    "trusted": true,
    "ExecuteTime": {
     "end_time": "2024-06-12T08:11:37.830604Z",
     "start_time": "2024-06-12T08:11:37.826765Z"
    }
   },
   "outputs": [
    {
     "name": "stdout",
     "output_type": "stream",
     "text": [
      "({'this': 0.0, 'restaurant': 0.0, 'is': 0.0, 'not': 0.0, 'a': 0.0, 'shit,': -4.0, 'it': 0.0, 'might': 0.0, 'be': 0.0, 'okay': 0.0, 'for': 0.0, 'the': 0.0, 'dinner': 0.0}, -4.0)\n"
     ]
    }
   ],
   "execution_count": 27
  }
 ]
}
